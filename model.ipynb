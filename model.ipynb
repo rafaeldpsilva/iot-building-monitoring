{
 "cells": [
  {
   "cell_type": "code",
   "execution_count": 1,
   "metadata": {
    "ExecuteTime": {
     "end_time": "2023-11-07T16:05:06.506665110Z",
     "start_time": "2023-11-07T16:04:55.696630358Z"
    }
   },
   "outputs": [
    {
     "data": {
      "text/html": [
       "<div>\n",
       "<style scoped>\n",
       "    .dataframe tbody tr th:only-of-type {\n",
       "        vertical-align: middle;\n",
       "    }\n",
       "\n",
       "    .dataframe tbody tr th {\n",
       "        vertical-align: top;\n",
       "    }\n",
       "\n",
       "    .dataframe thead th {\n",
       "        text-align: right;\n",
       "    }\n",
       "</style>\n",
       "<table border=\"1\" class=\"dataframe\">\n",
       "  <thead>\n",
       "    <tr style=\"text-align: right;\">\n",
       "      <th></th>\n",
       "      <th>Month</th>\n",
       "      <th>Day</th>\n",
       "      <th>Hour</th>\n",
       "      <th>Weekday</th>\n",
       "      <th>Consumption-1</th>\n",
       "      <th>Consumption-2</th>\n",
       "      <th>Consumption</th>\n",
       "    </tr>\n",
       "  </thead>\n",
       "  <tbody>\n",
       "    <tr>\n",
       "      <th>0</th>\n",
       "      <td>10</td>\n",
       "      <td>8</td>\n",
       "      <td>16</td>\n",
       "      <td>6</td>\n",
       "      <td>0.0000</td>\n",
       "      <td>0.0000</td>\n",
       "      <td>1550.0000</td>\n",
       "    </tr>\n",
       "    <tr>\n",
       "      <th>1</th>\n",
       "      <td>10</td>\n",
       "      <td>8</td>\n",
       "      <td>16</td>\n",
       "      <td>6</td>\n",
       "      <td>1550.0000</td>\n",
       "      <td>0.0000</td>\n",
       "      <td>1158.0000</td>\n",
       "    </tr>\n",
       "    <tr>\n",
       "      <th>2</th>\n",
       "      <td>10</td>\n",
       "      <td>8</td>\n",
       "      <td>16</td>\n",
       "      <td>6</td>\n",
       "      <td>1158.0000</td>\n",
       "      <td>1550.0000</td>\n",
       "      <td>1570.0000</td>\n",
       "    </tr>\n",
       "    <tr>\n",
       "      <th>3</th>\n",
       "      <td>10</td>\n",
       "      <td>8</td>\n",
       "      <td>16</td>\n",
       "      <td>6</td>\n",
       "      <td>1570.0000</td>\n",
       "      <td>1158.0000</td>\n",
       "      <td>1170.0000</td>\n",
       "    </tr>\n",
       "    <tr>\n",
       "      <th>4</th>\n",
       "      <td>10</td>\n",
       "      <td>8</td>\n",
       "      <td>16</td>\n",
       "      <td>6</td>\n",
       "      <td>1170.0000</td>\n",
       "      <td>1570.0000</td>\n",
       "      <td>1560.0000</td>\n",
       "    </tr>\n",
       "    <tr>\n",
       "      <th>...</th>\n",
       "      <td>...</td>\n",
       "      <td>...</td>\n",
       "      <td>...</td>\n",
       "      <td>...</td>\n",
       "      <td>...</td>\n",
       "      <td>...</td>\n",
       "      <td>...</td>\n",
       "    </tr>\n",
       "    <tr>\n",
       "      <th>794418</th>\n",
       "      <td>11</td>\n",
       "      <td>7</td>\n",
       "      <td>16</td>\n",
       "      <td>1</td>\n",
       "      <td>2084.2000</td>\n",
       "      <td>3052.0000</td>\n",
       "      <td>3062.0000</td>\n",
       "    </tr>\n",
       "    <tr>\n",
       "      <th>794419</th>\n",
       "      <td>11</td>\n",
       "      <td>7</td>\n",
       "      <td>16</td>\n",
       "      <td>1</td>\n",
       "      <td>3062.0000</td>\n",
       "      <td>2084.2000</td>\n",
       "      <td>2036.9998</td>\n",
       "    </tr>\n",
       "    <tr>\n",
       "      <th>794420</th>\n",
       "      <td>11</td>\n",
       "      <td>7</td>\n",
       "      <td>16</td>\n",
       "      <td>1</td>\n",
       "      <td>2036.9998</td>\n",
       "      <td>3062.0000</td>\n",
       "      <td>3033.0000</td>\n",
       "    </tr>\n",
       "    <tr>\n",
       "      <th>794421</th>\n",
       "      <td>11</td>\n",
       "      <td>7</td>\n",
       "      <td>16</td>\n",
       "      <td>1</td>\n",
       "      <td>3033.0000</td>\n",
       "      <td>2036.9998</td>\n",
       "      <td>2041.0000</td>\n",
       "    </tr>\n",
       "    <tr>\n",
       "      <th>794422</th>\n",
       "      <td>11</td>\n",
       "      <td>7</td>\n",
       "      <td>16</td>\n",
       "      <td>1</td>\n",
       "      <td>2041.0000</td>\n",
       "      <td>3033.0000</td>\n",
       "      <td>3043.0000</td>\n",
       "    </tr>\n",
       "  </tbody>\n",
       "</table>\n",
       "<p>794423 rows × 7 columns</p>\n",
       "</div>"
      ],
      "text/plain": [
       "        Month  Day  Hour  Weekday  Consumption-1  Consumption-2  Consumption\n",
       "0          10    8    16        6         0.0000         0.0000    1550.0000\n",
       "1          10    8    16        6      1550.0000         0.0000    1158.0000\n",
       "2          10    8    16        6      1158.0000      1550.0000    1570.0000\n",
       "3          10    8    16        6      1570.0000      1158.0000    1170.0000\n",
       "4          10    8    16        6      1170.0000      1570.0000    1560.0000\n",
       "...       ...  ...   ...      ...            ...            ...          ...\n",
       "794418     11    7    16        1      2084.2000      3052.0000    3062.0000\n",
       "794419     11    7    16        1      3062.0000      2084.2000    2036.9998\n",
       "794420     11    7    16        1      2036.9998      3062.0000    3033.0000\n",
       "794421     11    7    16        1      3033.0000      2036.9998    2041.0000\n",
       "794422     11    7    16        1      2041.0000      3033.0000    3043.0000\n",
       "\n",
       "[794423 rows x 7 columns]"
      ]
     },
     "execution_count": 1,
     "metadata": {},
     "output_type": "execute_result"
    }
   ],
   "source": [
    "import pandas as pd\n",
    "from database.BuildingRepository import BuildingRepository\n",
    "from pandas.api.types import is_numeric_dtype\n",
    "from datetime import datetime, timedelta\n",
    "building_repo = BuildingRepository()\n",
    "df = pd.DataFrame(building_repo.get_power_historic(datetime.now()-timedelta(days=30)))\n",
    "df = df.drop(\"_id\", axis=1)\n",
    "df['datetime'] = pd.to_datetime(df['datetime'])\n",
    "\n",
    "df.set_index(\"datetime\", inplace=True)\n",
    "df = df.resample('15T').mean()\n",
    "df[\"datetime\"] = df.index\n",
    "\n",
    "df['totalpower'] = pd.to_numeric(df['totalpower'], errors='coerce')\n",
    "df['Month'] = df['datetime'].dt.month\n",
    "df['Day'] = df['datetime'].dt.day\n",
    "df['Hour'] = df['datetime'].dt.hour\n",
    "df['Weekday'] = df['datetime'].dt.weekday\n",
    "\n",
    "df.rename(columns={'totalpower': 'Consumption'}, inplace=True)\n",
    "df.drop(['datetime', 'totalgeneration'], axis=1, inplace=True)\n",
    "\n",
    "df = df.dropna()\n",
    "df['Consumption-1'] = df['Consumption'].shift(1)\n",
    "df.loc[df['Day'] != df['Day'].shift(1), 'Consumption-1'] = 0\n",
    "df['Consumption-2'] = df['Consumption'].shift(2)\n",
    "df.loc[df['Day'] != df['Day'].shift(2), 'Consumption-2'] = 0\n",
    "#df = df[['Month', 'Day', 'Hour', 'Consumption-1', 'Consumption-2', 'Consumption']]\n",
    "df = df[['Month', 'Day', 'Hour', 'Weekday', 'Consumption-1', 'Consumption-2', 'Consumption']]\n",
    "df"
   ]
  },
  {
   "cell_type": "code",
   "execution_count": 2,
   "metadata": {
    "ExecuteTime": {
     "end_time": "2023-11-07T16:05:06.981176733Z",
     "start_time": "2023-11-07T16:05:06.510674020Z"
    }
   },
   "outputs": [
    {
     "name": "stdout",
     "output_type": "stream",
     "text": [
      "Len train 635538 Len test 158885\n"
     ]
    }
   ],
   "source": [
    "from sklearn.preprocessing import MinMaxScaler\n",
    "import numpy as np\n",
    "\n",
    "# Data preprocessing - Scaling using MinMaxScaler\n",
    "scaler = MinMaxScaler(feature_range=(0, 1))\n",
    "df_scaled = scaler.fit_transform(df)\n",
    "pred_scaler = MinMaxScaler(feature_range=(0, 1))\n",
    "y_scaled = pred_scaler.fit_transform(np.array(df['Consumption']).reshape(-1, 1))\n",
    "\n",
    "# split into train and test sets\n",
    "train_size = int(len(df_scaled) * 0.8)\n",
    "test_size = len(df_scaled) - train_size\n",
    "train, test = df_scaled[0:train_size, :], df_scaled[train_size:len(df_scaled), :]\n",
    "print(\"Len train\", len(train), \"Len test\", len(test))"
   ]
  },
  {
   "cell_type": "code",
   "execution_count": 3,
   "metadata": {
    "ExecuteTime": {
     "end_time": "2023-11-07T16:05:06.992453163Z",
     "start_time": "2023-11-07T16:05:06.982394304Z"
    }
   },
   "outputs": [
    {
     "data": {
      "text/plain": [
       "['training_1/pred_scaler.pkl']"
      ]
     },
     "execution_count": 3,
     "metadata": {},
     "output_type": "execute_result"
    }
   ],
   "source": [
    "import joblib\n",
    "\n",
    "# Assuming you have a scaler object named 'scaler'\n",
    "joblib.dump(scaler, 'training_1/scaler.pkl')\n",
    "joblib.dump(pred_scaler, 'training_1/pred_scaler.pkl')"
   ]
  },
  {
   "cell_type": "code",
   "execution_count": 4,
   "metadata": {
    "ExecuteTime": {
     "end_time": "2023-11-07T16:05:08.076870596Z",
     "start_time": "2023-11-07T16:05:06.989857466Z"
    }
   },
   "outputs": [
    {
     "name": "stdout",
     "output_type": "stream",
     "text": [
      "X_train shape (635535, 1, 6) timesteps 1\n",
      "X_test shape (158882, 1, 6) timesteps 1\n",
      "X_train shape (635535, 1, 6) y_train shape (635535,)\n",
      "X_test shape (158882, 1, 6) y_test shape (158882,)\n"
     ]
    }
   ],
   "source": [
    "import numpy as np\n",
    "\n",
    "# Prepare data for LSTM (sequence-to-sequence)\n",
    "def prepare_data(data, time_steps):\n",
    "    X, y = [], []\n",
    "    for i in range(len(data) - time_steps - 2):\n",
    "        X.append(data[i:i + time_steps, :-1])  # Exclude the last column (Consumption)\n",
    "        y.append(data[i + time_steps, -1])  # The last column (Consumption) is the target\n",
    "    return np.array(X), np.array(y)\n",
    "\n",
    "\n",
    "timesteps = 1\n",
    "X_train, y_train = prepare_data(train, timesteps)\n",
    "X_test, y_test = prepare_data(test, timesteps)\n",
    "\n",
    "print(\"X_train shape\", X_train.shape, \"timesteps\", timesteps)\n",
    "print(\"X_test shape\", X_test.shape, \"timesteps\", timesteps)\n",
    "\n",
    "# reshape input to be [samples, time steps, features]\n",
    "X_train = np.reshape(X_train, (X_train.shape[0], timesteps, X_train.shape[2]))\n",
    "X_test = np.reshape(X_test, (X_test.shape[0], timesteps, X_test.shape[2]))\n",
    "\n",
    "print(\"X_train shape\", X_train.shape, \"y_train shape\", y_train.shape)\n",
    "print(\"X_test shape\", X_test.shape, \"y_test shape\", y_test.shape)"
   ]
  },
  {
   "cell_type": "code",
   "execution_count": 5,
   "metadata": {
    "ExecuteTime": {
     "end_time": "2023-11-07T16:05:09.847117568Z",
     "start_time": "2023-11-07T16:05:08.076337407Z"
    }
   },
   "outputs": [
    {
     "name": "stderr",
     "output_type": "stream",
     "text": [
      "2023-11-07 16:05:08.256475: I tensorflow/tsl/cuda/cudart_stub.cc:28] Could not find cuda drivers on your machine, GPU will not be used.\n",
      "2023-11-07 16:05:08.294589: I tensorflow/tsl/cuda/cudart_stub.cc:28] Could not find cuda drivers on your machine, GPU will not be used.\n",
      "2023-11-07 16:05:08.294879: I tensorflow/core/platform/cpu_feature_guard.cc:182] This TensorFlow binary is optimized to use available CPU instructions in performance-critical operations.\n",
      "To enable the following instructions: AVX2 FMA, in other operations, rebuild TensorFlow with the appropriate compiler flags.\n",
      "2023-11-07 16:05:08.979792: W tensorflow/compiler/tf2tensorrt/utils/py_utils.cc:38] TF-TRT Warning: Could not find TensorRT\n"
     ]
    },
    {
     "name": "stdout",
     "output_type": "stream",
     "text": [
      "1 6\n"
     ]
    },
    {
     "name": "stderr",
     "output_type": "stream",
     "text": [
      "2023-11-07 16:05:09.570736: I tensorflow/compiler/xla/stream_executor/cuda/cuda_gpu_executor.cc:995] successful NUMA node read from SysFS had negative value (-1), but there must be at least one NUMA node, so returning NUMA node zero. See more at https://github.com/torvalds/linux/blob/v6.0/Documentation/ABI/testing/sysfs-bus-pci#L344-L355\n",
      "2023-11-07 16:05:09.571184: W tensorflow/core/common_runtime/gpu/gpu_device.cc:1960] Cannot dlopen some GPU libraries. Please make sure the missing libraries mentioned above are installed properly if you would like to use GPU. Follow the guide at https://www.tensorflow.org/install/gpu for how to download and setup the required libraries for your platform.\n",
      "Skipping registering GPU devices...\n"
     ]
    },
    {
     "name": "stdout",
     "output_type": "stream",
     "text": [
      "Model: \"sequential\"\n",
      "_________________________________________________________________\n",
      " Layer (type)                Output Shape              Param #   \n",
      "=================================================================\n",
      " lstm (LSTM)                 (None, 4)                 176       \n",
      "                                                                 \n",
      " dense (Dense)               (None, 1)                 5         \n",
      "                                                                 \n",
      "=================================================================\n",
      "Total params: 181 (724.00 Byte)\n",
      "Trainable params: 181 (724.00 Byte)\n",
      "Non-trainable params: 0 (0.00 Byte)\n",
      "_________________________________________________________________\n"
     ]
    }
   ],
   "source": [
    "from keras.models import Sequential\n",
    "from keras.layers import LSTM, Dense\n",
    "import tensorflow as tf\n",
    "\n",
    "def create_model():\n",
    "    # LSTM model\n",
    "    model = Sequential()\n",
    "    print(timesteps, X_train.shape[2])\n",
    "    model.add(LSTM(units=4, input_shape=(timesteps, X_train.shape[2])))\n",
    "    model.add(Dense(units=1))  # Use the original number of features as the output units\n",
    "    model.compile(optimizer='adam', loss='mean_squared_error',metrics=['mae', 'mse'])\n",
    "\n",
    "    return model\n",
    "\n",
    "model = create_model()\n",
    "\n",
    "# Display the model's architecture\n",
    "model.summary()"
   ]
  },
  {
   "cell_type": "code",
   "execution_count": 6,
   "metadata": {
    "ExecuteTime": {
     "end_time": "2023-11-07T16:21:00.351789868Z",
     "start_time": "2023-11-07T16:05:09.839977152Z"
    }
   },
   "outputs": [
    {
     "name": "stdout",
     "output_type": "stream",
     "text": [
      "Epoch 1/4\n",
      "90786/90791 [============================>.] - ETA: 0s - loss: 2.6932e-04 - mae: 0.0059 - mse: 2.6932e-04\n",
      "Epoch 1: saving model to training_1/cp.ckpt\n",
      "90791/90791 [==============================] - 341s 4ms/step - loss: 2.6931e-04 - mae: 0.0059 - mse: 2.6931e-04\n",
      "Epoch 2/4\n",
      "90789/90791 [============================>.] - ETA: 0s - loss: 1.5914e-04 - mae: 0.0048 - mse: 1.5914e-04\n",
      "Epoch 2: saving model to training_1/cp.ckpt\n",
      "90791/90791 [==============================] - 225s 2ms/step - loss: 1.5914e-04 - mae: 0.0048 - mse: 1.5914e-04\n",
      "Epoch 3/4\n",
      "90779/90791 [============================>.] - ETA: 0s - loss: 1.5759e-04 - mae: 0.0047 - mse: 1.5759e-04\n",
      "Epoch 3: saving model to training_1/cp.ckpt\n",
      "90791/90791 [==============================] - 192s 2ms/step - loss: 1.5767e-04 - mae: 0.0047 - mse: 1.5767e-04\n",
      "Epoch 4/4\n",
      "90784/90791 [============================>.] - ETA: 0s - loss: 1.5623e-04 - mae: 0.0046 - mse: 1.5623e-04\n",
      "Epoch 4: saving model to training_1/cp.ckpt\n",
      "90791/90791 [==============================] - 192s 2ms/step - loss: 1.5622e-04 - mae: 0.0046 - mse: 1.5622e-04\n"
     ]
    },
    {
     "data": {
      "text/plain": [
       "<keras.src.callbacks.History at 0x7fe061dfd450>"
      ]
     },
     "execution_count": 6,
     "metadata": {},
     "output_type": "execute_result"
    }
   ],
   "source": [
    "import os\n",
    "\n",
    "checkpoint_path = \"training_1/cp.ckpt\"\n",
    "checkpoint_dir = os.path.dirname(checkpoint_path)\n",
    "\n",
    "# Create a callback that saves the model's weights\n",
    "cp_callback = tf.keras.callbacks.ModelCheckpoint(filepath=checkpoint_path,\n",
    "                                                 save_weights_only=True,\n",
    "                                                 verbose=1)\n",
    "\n",
    "# Train the model\n",
    "model.fit(X_train, y_train, epochs=4, batch_size=7, verbose=1, callbacks=[cp_callback])"
   ]
  },
  {
   "cell_type": "code",
   "execution_count": 7,
   "metadata": {
    "ExecuteTime": {
     "end_time": "2023-11-07T16:21:00.403924621Z",
     "start_time": "2023-11-07T16:21:00.349242483Z"
    }
   },
   "outputs": [
    {
     "data": {
      "text/plain": [
       "array([0.05441228, 0.10620858, 0.05441228, ..., 0.3768748 , 0.19811647,\n",
       "       0.37181724])"
      ]
     },
     "execution_count": 7,
     "metadata": {},
     "output_type": "execute_result"
    }
   ],
   "source": [
    "y_test"
   ]
  },
  {
   "cell_type": "code",
   "execution_count": 8,
   "metadata": {
    "ExecuteTime": {
     "end_time": "2023-11-07T16:21:41.325667028Z",
     "start_time": "2023-11-07T16:21:00.389709978Z"
    }
   },
   "outputs": [
    {
     "name": "stdout",
     "output_type": "stream",
     "text": [
      "4966/4966 - 5s - loss: 0.0132 - mae: 0.1065 - mse: 0.0132 - 5s/epoch - 913us/step\n",
      "Trained model, mae:  0.11%, mse:  0.01%\n",
      "INFO:tensorflow:Assets written to: saved_model/consumption_forecast/assets\n"
     ]
    },
    {
     "name": "stderr",
     "output_type": "stream",
     "text": [
      "INFO:tensorflow:Assets written to: saved_model/consumption_forecast/assets\n"
     ]
    },
    {
     "name": "stdout",
     "output_type": "stream",
     "text": [
      "19861/19861 [==============================] - 18s 900us/step\n",
      "4966/4966 [==============================] - 6s 1ms/step\n",
      "Original DataFrame:\n",
      "y_train_inv.shape (635535, 1) y_train_pred.shape (635535, 1)\n"
     ]
    }
   ],
   "source": [
    "# Evaluate the model\n",
    "loss, mae, mse = model.evaluate(X_test, y_test, verbose=2)\n",
    "print(\"Trained model, mae: {:5.2f}%, mse: {:5.2f}%\".format(mae, mse))\n",
    "\n",
    "model.save('saved_model/consumption_forecast')\n",
    "\n",
    "y_train_inv = pred_scaler.inverse_transform(y_train.reshape(-1, 1))\n",
    "y_test_inv = pred_scaler.inverse_transform(y_test.reshape(-1, 1))\n",
    "\n",
    "# Make predictions on train and test sets\n",
    "y_train_pred = model.predict(X_train)\n",
    "y_train_pred = pred_scaler.inverse_transform(y_train_pred)\n",
    "\n",
    "y_test_pred = model.predict(X_test)\n",
    "y_test_pred = pred_scaler.inverse_transform(y_test_pred)\n",
    "\n",
    "# Display the original DataFrame and the predicted values after inverse scaling for train and test sets\n",
    "print(\"Original DataFrame:\")\n",
    "print(\"y_train_inv.shape\", y_train_inv.shape, \"y_train_pred.shape\", y_train_pred.shape)"
   ]
  },
  {
   "cell_type": "code",
   "execution_count": 9,
   "metadata": {
    "ExecuteTime": {
     "end_time": "2023-11-07T16:21:41.352113728Z",
     "start_time": "2023-11-07T16:21:41.327274079Z"
    }
   },
   "outputs": [],
   "source": [
    "model.save_weights('./checkpoints/my_checkpoint')"
   ]
  },
  {
   "cell_type": "code",
   "execution_count": 10,
   "metadata": {
    "ExecuteTime": {
     "end_time": "2023-11-07T16:21:46.062974256Z",
     "start_time": "2023-11-07T16:21:41.346750374Z"
    }
   },
   "outputs": [
    {
     "name": "stdout",
     "output_type": "stream",
     "text": [
      "1 6\n",
      "4966/4966 - 4s - loss: 0.0483 - mae: 0.1808 - mse: 0.0483 - 4s/epoch - 898us/step\n",
      "Trained model, mae:  0.18%, mse:  0.05%\n"
     ]
    }
   ],
   "source": [
    "model_test = create_model()\n",
    "\n",
    "loss, mae, mse = model_test.evaluate(X_test, y_test, verbose=2)\n",
    "print(\"Trained model, mae: {:5.2f}%, mse: {:5.2f}%\".format(mae, mse))"
   ]
  },
  {
   "cell_type": "code",
   "execution_count": 11,
   "metadata": {
    "ExecuteTime": {
     "end_time": "2023-11-07T16:21:50.489481784Z",
     "start_time": "2023-11-07T16:21:46.065760629Z"
    }
   },
   "outputs": [
    {
     "name": "stdout",
     "output_type": "stream",
     "text": [
      "4966/4966 - 4s - loss: 0.0132 - mae: 0.1065 - mse: 0.0132 - 4s/epoch - 879us/step\n",
      "Trained model, mae:  0.11%, mse:  0.01%\n"
     ]
    }
   ],
   "source": [
    "# Restore the weights\n",
    "model_test.load_weights('./checkpoints/my_checkpoint')\n",
    "\n",
    "# Re-evaluate the model\n",
    "loss, mae, mse = model_test.evaluate(X_test, y_test, verbose=2)\n",
    "print(\"Trained model, mae: {:5.2f}%, mse: {:5.2f}%\".format(mae, mse))"
   ]
  },
  {
   "cell_type": "code",
   "execution_count": 12,
   "metadata": {
    "ExecuteTime": {
     "end_time": "2023-11-07T16:22:02.491113195Z",
     "start_time": "2023-11-07T16:21:50.485435949Z"
    }
   },
   "outputs": [
    {
     "name": "stdout",
     "output_type": "stream",
     "text": [
      "Model: \"sequential\"\n",
      "_________________________________________________________________\n",
      " Layer (type)                Output Shape              Param #   \n",
      "=================================================================\n",
      " lstm (LSTM)                 (None, 4)                 176       \n",
      "                                                                 \n",
      " dense (Dense)               (None, 1)                 5         \n",
      "                                                                 \n",
      "=================================================================\n",
      "Total params: 181 (724.00 Byte)\n",
      "Trainable params: 181 (724.00 Byte)\n",
      "Non-trainable params: 0 (0.00 Byte)\n",
      "_________________________________________________________________\n",
      "4966/4966 - 4s - loss: 0.0132 - mae: 0.1065 - mse: 0.0132 - 4s/epoch - 858us/step\n",
      "Trained model, mae:  0.11%, mse:  0.01%\n",
      "4966/4966 [==============================] - 5s 1ms/step\n",
      "New Model Shape (158882, 1)\n"
     ]
    }
   ],
   "source": [
    "new_model = tf.keras.models.load_model('saved_model/consumption_forecast')\n",
    "\n",
    "# Check its architecture\n",
    "new_model.summary()\n",
    "\n",
    "# Evaluate the restored model\n",
    "loss, mae, mse = new_model.evaluate(X_test, y_test, verbose=2)\n",
    "print(\"Trained model, mae: {:5.2f}%, mse: {:5.2f}%\".format(mae, mse))\n",
    "\n",
    "print(\"New Model Shape\", new_model.predict(X_test).shape)"
   ]
  },
  {
   "cell_type": "code",
   "execution_count": 13,
   "metadata": {
    "ExecuteTime": {
     "end_time": "2023-11-07T16:22:04.569204514Z",
     "start_time": "2023-11-07T16:22:02.491454110Z"
    }
   },
   "outputs": [
    {
     "data": {
      "image/png": "[encoded data removed]",
      "text/plain": [
       "<Figure size 1000x600 with 1 Axes>"
      ]
     },
     "metadata": {},
     "output_type": "display_data"
    },
    {
     "data": {
      "image/png": "[encoded data removed]",
      "text/plain": [
       "<Figure size 1000x600 with 1 Axes>"
      ]
     },
     "metadata": {},
     "output_type": "display_data"
    }
   ],
   "source": [
    "import matplotlib.pyplot as plt\n",
    "\n",
    "# Plot predictions vs actual\n",
    "plt.figure(figsize=(10, 6))\n",
    "plt.plot(y_train_inv, label='Actual (Train)', color='blue')\n",
    "plt.plot(y_train_pred, label='Pred (Train)', linestyle='dashed', color='red')\n",
    "\n",
    "plt.xlabel('Time Steps')\n",
    "plt.ylabel('Consumption')\n",
    "plt.legend()\n",
    "plt.show()\n",
    "\n",
    "# Plot predictions vs actual\n",
    "plt.figure(figsize=(10, 6))\n",
    "\n",
    "plt.plot(y_test_inv, label='Actual (Test)', color='green')\n",
    "plt.plot(y_test_pred, label='Pred (Test)', linestyle='dashed', color='orange')\n",
    "\n",
    "plt.xlabel('Time Steps')\n",
    "plt.ylabel('Consumption')\n",
    "plt.legend()\n",
    "plt.show()\n"
   ]
  },
  {
   "cell_type": "markdown",
   "metadata": {
    "collapsed": false
   },
   "source": [
    "Get Data "
   ]
  },
  {
   "cell_type": "code",
   "execution_count": 14,
   "metadata": {
    "ExecuteTime": {
     "end_time": "2023-11-07T16:22:08.316116516Z",
     "start_time": "2023-11-07T16:22:04.577953339Z"
    }
   },
   "outputs": [
    {
     "data": {
      "text/html": [
       "<div>\n",
       "<style scoped>\n",
       "    .dataframe tbody tr th:only-of-type {\n",
       "        vertical-align: middle;\n",
       "    }\n",
       "\n",
       "    .dataframe tbody tr th {\n",
       "        vertical-align: top;\n",
       "    }\n",
       "\n",
       "    .dataframe thead th {\n",
       "        text-align: right;\n",
       "    }\n",
       "</style>\n",
       "<table border=\"1\" class=\"dataframe\">\n",
       "  <thead>\n",
       "    <tr style=\"text-align: right;\">\n",
       "      <th></th>\n",
       "      <th>Month</th>\n",
       "      <th>Day</th>\n",
       "      <th>Hour</th>\n",
       "      <th>Minute</th>\n",
       "      <th>Consumption-1</th>\n",
       "      <th>Consumption-2</th>\n",
       "      <th>Consumption</th>\n",
       "    </tr>\n",
       "    <tr>\n",
       "      <th>datetime</th>\n",
       "      <th></th>\n",
       "      <th></th>\n",
       "      <th></th>\n",
       "      <th></th>\n",
       "      <th></th>\n",
       "      <th></th>\n",
       "      <th></th>\n",
       "    </tr>\n",
       "  </thead>\n",
       "  <tbody>\n",
       "    <tr>\n",
       "      <th>2023-11-07 06:00:00</th>\n",
       "      <td>11.0</td>\n",
       "      <td>7.0</td>\n",
       "      <td>6.0</td>\n",
       "      <td>40.540659</td>\n",
       "      <td>0.000000</td>\n",
       "      <td>0.000000</td>\n",
       "      <td>1435.478022</td>\n",
       "    </tr>\n",
       "    <tr>\n",
       "      <th>2023-11-07 07:00:00</th>\n",
       "      <td>11.0</td>\n",
       "      <td>7.0</td>\n",
       "      <td>7.0</td>\n",
       "      <td>29.500000</td>\n",
       "      <td>1435.478022</td>\n",
       "      <td>0.000000</td>\n",
       "      <td>1404.791667</td>\n",
       "    </tr>\n",
       "    <tr>\n",
       "      <th>2023-11-07 08:00:00</th>\n",
       "      <td>11.0</td>\n",
       "      <td>7.0</td>\n",
       "      <td>8.0</td>\n",
       "      <td>29.500000</td>\n",
       "      <td>1404.791667</td>\n",
       "      <td>1435.478022</td>\n",
       "      <td>1653.198938</td>\n",
       "    </tr>\n",
       "    <tr>\n",
       "      <th>2023-11-07 09:00:00</th>\n",
       "      <td>11.0</td>\n",
       "      <td>7.0</td>\n",
       "      <td>9.0</td>\n",
       "      <td>29.500000</td>\n",
       "      <td>1653.198938</td>\n",
       "      <td>1404.791667</td>\n",
       "      <td>2076.954542</td>\n",
       "    </tr>\n",
       "    <tr>\n",
       "      <th>2023-11-07 10:00:00</th>\n",
       "      <td>11.0</td>\n",
       "      <td>7.0</td>\n",
       "      <td>10.0</td>\n",
       "      <td>29.500000</td>\n",
       "      <td>2076.954542</td>\n",
       "      <td>1653.198938</td>\n",
       "      <td>2149.559857</td>\n",
       "    </tr>\n",
       "    <tr>\n",
       "      <th>2023-11-07 11:00:00</th>\n",
       "      <td>11.0</td>\n",
       "      <td>7.0</td>\n",
       "      <td>11.0</td>\n",
       "      <td>29.500000</td>\n",
       "      <td>2149.559857</td>\n",
       "      <td>2076.954542</td>\n",
       "      <td>2819.466732</td>\n",
       "    </tr>\n",
       "    <tr>\n",
       "      <th>2023-11-07 12:00:00</th>\n",
       "      <td>11.0</td>\n",
       "      <td>7.0</td>\n",
       "      <td>12.0</td>\n",
       "      <td>29.500000</td>\n",
       "      <td>2819.466732</td>\n",
       "      <td>2149.559857</td>\n",
       "      <td>2180.991250</td>\n",
       "    </tr>\n",
       "    <tr>\n",
       "      <th>2023-11-07 13:00:00</th>\n",
       "      <td>11.0</td>\n",
       "      <td>7.0</td>\n",
       "      <td>13.0</td>\n",
       "      <td>29.473574</td>\n",
       "      <td>2180.991250</td>\n",
       "      <td>2819.466732</td>\n",
       "      <td>2139.074409</td>\n",
       "    </tr>\n",
       "    <tr>\n",
       "      <th>2023-11-07 14:00:00</th>\n",
       "      <td>11.0</td>\n",
       "      <td>7.0</td>\n",
       "      <td>14.0</td>\n",
       "      <td>29.500000</td>\n",
       "      <td>2139.074409</td>\n",
       "      <td>2180.991250</td>\n",
       "      <td>3073.526983</td>\n",
       "    </tr>\n",
       "    <tr>\n",
       "      <th>2023-11-07 15:00:00</th>\n",
       "      <td>11.0</td>\n",
       "      <td>7.0</td>\n",
       "      <td>15.0</td>\n",
       "      <td>29.494788</td>\n",
       "      <td>3073.526983</td>\n",
       "      <td>2139.074409</td>\n",
       "      <td>3118.466125</td>\n",
       "    </tr>\n",
       "    <tr>\n",
       "      <th>2023-11-07 16:00:00</th>\n",
       "      <td>11.0</td>\n",
       "      <td>7.0</td>\n",
       "      <td>16.0</td>\n",
       "      <td>10.564972</td>\n",
       "      <td>3118.466125</td>\n",
       "      <td>3073.526983</td>\n",
       "      <td>2628.369470</td>\n",
       "    </tr>\n",
       "  </tbody>\n",
       "</table>\n",
       "</div>"
      ],
      "text/plain": [
       "                     Month  Day  Hour     Minute  Consumption-1  \\\n",
       "datetime                                                          \n",
       "2023-11-07 06:00:00   11.0  7.0   6.0  40.540659       0.000000   \n",
       "2023-11-07 07:00:00   11.0  7.0   7.0  29.500000    1435.478022   \n",
       "2023-11-07 08:00:00   11.0  7.0   8.0  29.500000    1404.791667   \n",
       "2023-11-07 09:00:00   11.0  7.0   9.0  29.500000    1653.198938   \n",
       "2023-11-07 10:00:00   11.0  7.0  10.0  29.500000    2076.954542   \n",
       "2023-11-07 11:00:00   11.0  7.0  11.0  29.500000    2149.559857   \n",
       "2023-11-07 12:00:00   11.0  7.0  12.0  29.500000    2819.466732   \n",
       "2023-11-07 13:00:00   11.0  7.0  13.0  29.473574    2180.991250   \n",
       "2023-11-07 14:00:00   11.0  7.0  14.0  29.500000    2139.074409   \n",
       "2023-11-07 15:00:00   11.0  7.0  15.0  29.494788    3073.526983   \n",
       "2023-11-07 16:00:00   11.0  7.0  16.0  10.564972    3118.466125   \n",
       "\n",
       "                     Consumption-2  Consumption  \n",
       "datetime                                         \n",
       "2023-11-07 06:00:00       0.000000  1435.478022  \n",
       "2023-11-07 07:00:00       0.000000  1404.791667  \n",
       "2023-11-07 08:00:00    1435.478022  1653.198938  \n",
       "2023-11-07 09:00:00    1404.791667  2076.954542  \n",
       "2023-11-07 10:00:00    1653.198938  2149.559857  \n",
       "2023-11-07 11:00:00    2076.954542  2819.466732  \n",
       "2023-11-07 12:00:00    2149.559857  2180.991250  \n",
       "2023-11-07 13:00:00    2819.466732  2139.074409  \n",
       "2023-11-07 14:00:00    2180.991250  3073.526983  \n",
       "2023-11-07 15:00:00    2139.074409  3118.466125  \n",
       "2023-11-07 16:00:00    3073.526983  2628.369470  "
      ]
     },
     "execution_count": 14,
     "metadata": {},
     "output_type": "execute_result"
    }
   ],
   "source": [
    "import pandas as pd\n",
    "from database.BuildingRepository import BuildingRepository\n",
    "from datetime import datetime, timedelta\n",
    "\n",
    "building_repo = BuildingRepository()\n",
    "df_test = pd.DataFrame(building_repo.get_power_historic(datetime.now()-timedelta(hours=10)))\n",
    "df_test = df_test.drop(\"_id\", axis=1)\n",
    "\n",
    "df_test['datetime'] = pd.to_datetime(df_test['datetime'])\n",
    "# Calculate the datetime for 24 hours ago from the current time\n",
    "current_time = df_test['datetime'].max()\n",
    "twenty_four_hours_ago = current_time - timedelta(hours=24)\n",
    "\n",
    "# Filter the DataFrame to get only the rows for the last 24 hours\n",
    "last_24_hours_data = df_test[df_test['datetime'] >= twenty_four_hours_ago]\n",
    "\n",
    "last_24_hours_data['totalpower'] = pd.to_numeric(last_24_hours_data['totalpower'], errors='coerce')\n",
    "last_24_hours_data['Month'] = last_24_hours_data['datetime'].dt.month\n",
    "last_24_hours_data['Day'] = last_24_hours_data['datetime'].dt.day\n",
    "last_24_hours_data['Hour'] = last_24_hours_data['datetime'].dt.hour\n",
    "last_24_hours_data['Minute'] = last_24_hours_data['datetime'].dt.minute\n",
    "\n",
    "last_24_hours_data.rename(columns={'totalpower': 'Consumption'}, inplace=True)\n",
    "\n",
    "last_24_hours_data['datetime'] = pd.to_datetime(last_24_hours_data['datetime'], format='%Y-%m-%d %H:%M:%S', dayfirst=True)\n",
    "last_24_hours_data.set_index(\"datetime\", inplace=True)\n",
    "last_24_hours_data = last_24_hours_data.resample('1H').mean()\n",
    "\n",
    "last_24_hours_data.drop(['totalgeneration'], axis=1, inplace=True)\n",
    "\n",
    "last_24_hours_data = last_24_hours_data.dropna()\n",
    "last_24_hours_data['Consumption-1'] = last_24_hours_data['Consumption'].shift(1)\n",
    "last_24_hours_data.loc[last_24_hours_data['Day'] != last_24_hours_data['Day'].shift(1), 'Consumption-1'] = 0\n",
    "last_24_hours_data['Consumption-2'] = last_24_hours_data['Consumption'].shift(2)\n",
    "last_24_hours_data.loc[last_24_hours_data['Day'] != last_24_hours_data['Day'].shift(2), 'Consumption-2'] = 0\n",
    "#last_24_hours_data = last_24_hours_data[['Month', 'Day', 'Hour', 'Consumption-1', 'Consumption-2', 'Consumption']]\n",
    "last_24_hours_data = last_24_hours_data[['Month', 'Day', 'Hour', 'Minute', 'Consumption-1', 'Consumption-2', 'Consumption']]\n",
    "last_24_hours_data"
   ]
  },
  {
   "cell_type": "markdown",
   "metadata": {
    "collapsed": false
   },
   "source": [
    "Load model"
   ]
  },
  {
   "cell_type": "code",
   "execution_count": 15,
   "metadata": {
    "ExecuteTime": {
     "end_time": "2023-11-07T16:22:08.327203798Z",
     "start_time": "2023-11-07T16:22:08.322875294Z"
    }
   },
   "outputs": [
    {
     "name": "stdout",
     "output_type": "stream",
     "text": [
      "Len pred 11\n"
     ]
    }
   ],
   "source": [
    "import joblib\n",
    "\n",
    "# Load the scaler\n",
    "scaler_test = joblib.load('training_1/scaler.pkl')\n",
    "pred_scaler_test = joblib.load('training_1/pred_scaler.pkl')\n",
    "\n",
    "df_scaled = scaler_test.fit_transform(last_24_hours_data)\n",
    "\n",
    "print(\"Len pred\", int(len(df_scaled)))"
   ]
  },
  {
   "cell_type": "code",
   "execution_count": 16,
   "metadata": {
    "ExecuteTime": {
     "end_time": "2023-11-07T16:22:08.378973534Z",
     "start_time": "2023-11-07T16:22:08.328586943Z"
    }
   },
   "outputs": [
    {
     "name": "stdout",
     "output_type": "stream",
     "text": [
      "X_pred shape (8, 1, 6) timesteps 1\n",
      "X_pred shape (8, 1, 6) y_pred shape (8,)\n"
     ]
    }
   ],
   "source": [
    "import numpy as np\n",
    "timesteps = 1\n",
    "\n",
    "def prepare_data(data, time_steps):\n",
    "    X, y = [], []\n",
    "    for i in range(len(data) - time_steps - 2):\n",
    "        X.append(data[i:i + time_steps, :-1])  # Exclude the last column (Consumption)\n",
    "        y.append(data[i + time_steps, -1])  # The last column (Consumption) is the target\n",
    "    return np.array(X), np.array(y)\n",
    "\n",
    "X_pred, y = prepare_data(df_scaled, timesteps)\n",
    "\n",
    "print(\"X_pred shape\", X_pred.shape, \"timesteps\", timesteps)\n",
    "\n",
    "# reshape input to be [samples, time steps, features]\n",
    "X_pred = np.reshape(X_pred, (X_pred.shape[0], timesteps, X_pred.shape[2]))\n",
    "\n",
    "print(\"X_pred shape\", X_pred.shape, \"y_pred shape\", y.shape)"
   ]
  },
  {
   "cell_type": "code",
   "execution_count": 17,
   "metadata": {
    "ExecuteTime": {
     "end_time": "2023-11-07T16:22:08.531789196Z",
     "start_time": "2023-11-07T16:22:08.350334900Z"
    }
   },
   "outputs": [
    {
     "data": {
      "text/plain": [
       "<keras.src.engine.sequential.Sequential at 0x7fe072f192d0>"
      ]
     },
     "execution_count": 17,
     "metadata": {},
     "output_type": "execute_result"
    }
   ],
   "source": [
    "model"
   ]
  },
  {
   "cell_type": "markdown",
   "metadata": {
    "collapsed": false
   },
   "source": [
    "### load model"
   ]
  },
  {
   "cell_type": "code",
   "execution_count": 18,
   "metadata": {
    "ExecuteTime": {
     "end_time": "2023-11-07T16:22:10.103683471Z",
     "start_time": "2023-11-07T16:22:08.390609116Z"
    }
   },
   "outputs": [
    {
     "name": "stdout",
     "output_type": "stream",
     "text": [
      "1/1 [==============================] - 0s 278ms/step\n"
     ]
    }
   ],
   "source": [
    "import tensorflow as tf\n",
    "\n",
    "model = tf.keras.models.load_model('saved_model/consumption_forecast')\n",
    "y_pred = model.predict(X_pred)\n",
    "y_pred = pred_scaler_test.inverse_transform(y_pred)\n",
    "y = pred_scaler_test.inverse_transform(y.reshape(-1, 1))"
   ]
  },
  {
   "cell_type": "code",
   "execution_count": 19,
   "metadata": {
    "ExecuteTime": {
     "end_time": "2023-11-07T16:22:10.284424845Z",
     "start_time": "2023-11-07T16:22:10.124671616Z"
    }
   },
   "outputs": [
    {
     "data": {
      "image/png": "[encoded data removed]",
      "text/plain": [
       "<Figure size 1000x600 with 1 Axes>"
      ]
     },
     "metadata": {},
     "output_type": "display_data"
    }
   ],
   "source": [
    "import matplotlib.pyplot as plt\n",
    "\n",
    "# Plot predictions vs actual\n",
    "plt.figure(figsize=(10, 6))\n",
    "plt.plot(y, label='Actual', color='blue')\n",
    "plt.plot(y_pred, label='Pred', linestyle='dashed', color='red')\n",
    "\n",
    "plt.xlabel('Time Steps')\n",
    "plt.ylabel('Consumption')\n",
    "plt.legend()\n",
    "plt.show()\n"
   ]
  },
  {
   "cell_type": "code",
   "execution_count": 20,
   "metadata": {
    "ExecuteTime": {
     "end_time": "2023-11-07T16:22:10.305259497Z",
     "start_time": "2023-11-07T16:22:10.302914634Z"
    }
   },
   "outputs": [
    {
     "data": {
      "text/html": [
       "<div>\n",
       "<style scoped>\n",
       "    .dataframe tbody tr th:only-of-type {\n",
       "        vertical-align: middle;\n",
       "    }\n",
       "\n",
       "    .dataframe tbody tr th {\n",
       "        vertical-align: top;\n",
       "    }\n",
       "\n",
       "    .dataframe thead th {\n",
       "        text-align: right;\n",
       "    }\n",
       "</style>\n",
       "<table border=\"1\" class=\"dataframe\">\n",
       "  <thead>\n",
       "    <tr style=\"text-align: right;\">\n",
       "      <th></th>\n",
       "      <th>Consumption-1</th>\n",
       "      <th>Consumption-2</th>\n",
       "      <th>Consumption</th>\n",
       "      <th>Prediction</th>\n",
       "      <th>datetime</th>\n",
       "    </tr>\n",
       "    <tr>\n",
       "      <th>datetime</th>\n",
       "      <th></th>\n",
       "      <th></th>\n",
       "      <th></th>\n",
       "      <th></th>\n",
       "      <th></th>\n",
       "    </tr>\n",
       "  </thead>\n",
       "  <tbody>\n",
       "    <tr>\n",
       "      <th>2023-11-07 06:00:00</th>\n",
       "      <td>0.000000</td>\n",
       "      <td>0.000000</td>\n",
       "      <td>1435.478022</td>\n",
       "      <td>187.825577</td>\n",
       "      <td>2023-11-07 06:00:00</td>\n",
       "    </tr>\n",
       "    <tr>\n",
       "      <th>2023-11-07 07:00:00</th>\n",
       "      <td>1435.478022</td>\n",
       "      <td>0.000000</td>\n",
       "      <td>1404.791667</td>\n",
       "      <td>3129.442871</td>\n",
       "      <td>2023-11-07 07:00:00</td>\n",
       "    </tr>\n",
       "    <tr>\n",
       "      <th>2023-11-07 08:00:00</th>\n",
       "      <td>1404.791667</td>\n",
       "      <td>1435.478022</td>\n",
       "      <td>1653.198938</td>\n",
       "      <td>3026.884277</td>\n",
       "      <td>2023-11-07 08:00:00</td>\n",
       "    </tr>\n",
       "    <tr>\n",
       "      <th>2023-11-07 09:00:00</th>\n",
       "      <td>1653.198938</td>\n",
       "      <td>1404.791667</td>\n",
       "      <td>2076.954542</td>\n",
       "      <td>3583.659912</td>\n",
       "      <td>2023-11-07 09:00:00</td>\n",
       "    </tr>\n",
       "    <tr>\n",
       "      <th>2023-11-07 10:00:00</th>\n",
       "      <td>2076.954542</td>\n",
       "      <td>1653.198938</td>\n",
       "      <td>2149.559857</td>\n",
       "      <td>4517.625000</td>\n",
       "      <td>2023-11-07 10:00:00</td>\n",
       "    </tr>\n",
       "    <tr>\n",
       "      <th>2023-11-07 11:00:00</th>\n",
       "      <td>2149.559857</td>\n",
       "      <td>2076.954542</td>\n",
       "      <td>2819.466732</td>\n",
       "      <td>4670.233398</td>\n",
       "      <td>2023-11-07 11:00:00</td>\n",
       "    </tr>\n",
       "    <tr>\n",
       "      <th>2023-11-07 12:00:00</th>\n",
       "      <td>2819.466732</td>\n",
       "      <td>2149.559857</td>\n",
       "      <td>2180.991250</td>\n",
       "      <td>6057.675293</td>\n",
       "      <td>2023-11-07 12:00:00</td>\n",
       "    </tr>\n",
       "    <tr>\n",
       "      <th>2023-11-07 13:00:00</th>\n",
       "      <td>2180.991250</td>\n",
       "      <td>2819.466732</td>\n",
       "      <td>2139.074409</td>\n",
       "      <td>4733.265137</td>\n",
       "      <td>2023-11-07 13:00:00</td>\n",
       "    </tr>\n",
       "  </tbody>\n",
       "</table>\n",
       "</div>"
      ],
      "text/plain": [
       "                     Consumption-1  Consumption-2  Consumption   Prediction  \\\n",
       "datetime                                                                      \n",
       "2023-11-07 06:00:00       0.000000       0.000000  1435.478022   187.825577   \n",
       "2023-11-07 07:00:00    1435.478022       0.000000  1404.791667  3129.442871   \n",
       "2023-11-07 08:00:00    1404.791667    1435.478022  1653.198938  3026.884277   \n",
       "2023-11-07 09:00:00    1653.198938    1404.791667  2076.954542  3583.659912   \n",
       "2023-11-07 10:00:00    2076.954542    1653.198938  2149.559857  4517.625000   \n",
       "2023-11-07 11:00:00    2149.559857    2076.954542  2819.466732  4670.233398   \n",
       "2023-11-07 12:00:00    2819.466732    2149.559857  2180.991250  6057.675293   \n",
       "2023-11-07 13:00:00    2180.991250    2819.466732  2139.074409  4733.265137   \n",
       "\n",
       "                               datetime  \n",
       "datetime                                 \n",
       "2023-11-07 06:00:00 2023-11-07 06:00:00  \n",
       "2023-11-07 07:00:00 2023-11-07 07:00:00  \n",
       "2023-11-07 08:00:00 2023-11-07 08:00:00  \n",
       "2023-11-07 09:00:00 2023-11-07 09:00:00  \n",
       "2023-11-07 10:00:00 2023-11-07 10:00:00  \n",
       "2023-11-07 11:00:00 2023-11-07 11:00:00  \n",
       "2023-11-07 12:00:00 2023-11-07 12:00:00  \n",
       "2023-11-07 13:00:00 2023-11-07 13:00:00  "
      ]
     },
     "execution_count": 20,
     "metadata": {},
     "output_type": "execute_result"
    }
   ],
   "source": [
    "last = scaler_test.inverse_transform(df_scaled[:-3])\n",
    "\n",
    "df = pd.DataFrame(last, columns=['Month', 'Day', 'Hour', 'Minute', 'Consumption-1', 'Consumption-2', 'Consumption'])\n",
    "df['Prediction'] = y_pred\n",
    "df['datetime'] = pd.to_datetime(df[['Month', 'Day', 'Hour', 'Minute']].assign(Year=2023))\n",
    "\n",
    "# Drop the separate columns if needed\n",
    "df.drop(['Month', 'Day', 'Hour', 'Minute'], axis=1, inplace=True)\n",
    "\n",
    "df.set_index(\"datetime\", inplace=True)\n",
    "df = df.resample('1H').mean()\n",
    "df[\"datetime\"] = df.index\n",
    "# Now, 'datetime' contains the combined datetime values\n",
    "df"
   ]
  }
 ],
 "metadata": {
  "kernelspec": {
   "display_name": "tiocps",
   "language": "python",
   "name": "python3"
  },
  "language_info": {
   "codemirror_mode": {
    "name": "ipython",
    "version": 3
   },
   "file_extension": ".py",
   "mimetype": "text/x-python",
   "name": "python",
   "nbconvert_exporter": "python",
   "pygments_lexer": "ipython3",
   "version": "3.10.13"
  },
  "orig_nbformat": 4
 },
 "nbformat": 4,
 "nbformat_minor": 2
}
