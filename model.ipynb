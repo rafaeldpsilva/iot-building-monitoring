{
 "cells": [
  {
   "cell_type": "code",
   "execution_count": 2,
   "metadata": {
    "ExecuteTime": {
     "end_time": "2023-11-07T16:05:06.506665110Z",
     "start_time": "2023-11-07T16:04:55.696630358Z"
    }
   },
   "outputs": [
    {
     "data": {
      "text/html": [
       "<div>\n",
       "<style scoped>\n",
       "    .dataframe tbody tr th:only-of-type {\n",
       "        vertical-align: middle;\n",
       "    }\n",
       "\n",
       "    .dataframe tbody tr th {\n",
       "        vertical-align: top;\n",
       "    }\n",
       "\n",
       "    .dataframe thead th {\n",
       "        text-align: right;\n",
       "    }\n",
       "</style>\n",
       "<table border=\"1\" class=\"dataframe\">\n",
       "  <thead>\n",
       "    <tr style=\"text-align: right;\">\n",
       "      <th></th>\n",
       "      <th>Month</th>\n",
       "      <th>Day</th>\n",
       "      <th>Hour</th>\n",
       "      <th>Weekday</th>\n",
       "      <th>Consumption-1</th>\n",
       "      <th>Consumption-2</th>\n",
       "      <th>Consumption</th>\n",
       "    </tr>\n",
       "    <tr>\n",
       "      <th>datetime</th>\n",
       "      <th></th>\n",
       "      <th></th>\n",
       "      <th></th>\n",
       "      <th></th>\n",
       "      <th></th>\n",
       "      <th></th>\n",
       "      <th></th>\n",
       "    </tr>\n",
       "  </thead>\n",
       "  <tbody>\n",
       "    <tr>\n",
       "      <th>2023-10-15 16:45:00</th>\n",
       "      <td>10</td>\n",
       "      <td>15</td>\n",
       "      <td>16</td>\n",
       "      <td>6</td>\n",
       "      <td>0.000000</td>\n",
       "      <td>0.000000</td>\n",
       "      <td>1325.934579</td>\n",
       "    </tr>\n",
       "    <tr>\n",
       "      <th>2023-10-15 17:00:00</th>\n",
       "      <td>10</td>\n",
       "      <td>15</td>\n",
       "      <td>17</td>\n",
       "      <td>6</td>\n",
       "      <td>1325.934579</td>\n",
       "      <td>0.000000</td>\n",
       "      <td>1349.883333</td>\n",
       "    </tr>\n",
       "    <tr>\n",
       "      <th>2023-10-15 17:15:00</th>\n",
       "      <td>10</td>\n",
       "      <td>15</td>\n",
       "      <td>17</td>\n",
       "      <td>6</td>\n",
       "      <td>1349.883333</td>\n",
       "      <td>1325.934579</td>\n",
       "      <td>1357.944444</td>\n",
       "    </tr>\n",
       "    <tr>\n",
       "      <th>2023-10-15 17:30:00</th>\n",
       "      <td>10</td>\n",
       "      <td>15</td>\n",
       "      <td>17</td>\n",
       "      <td>6</td>\n",
       "      <td>1357.944444</td>\n",
       "      <td>1349.883333</td>\n",
       "      <td>1351.702778</td>\n",
       "    </tr>\n",
       "    <tr>\n",
       "      <th>2023-10-15 17:45:00</th>\n",
       "      <td>10</td>\n",
       "      <td>15</td>\n",
       "      <td>17</td>\n",
       "      <td>6</td>\n",
       "      <td>1351.702778</td>\n",
       "      <td>1357.944444</td>\n",
       "      <td>1353.188889</td>\n",
       "    </tr>\n",
       "    <tr>\n",
       "      <th>...</th>\n",
       "      <td>...</td>\n",
       "      <td>...</td>\n",
       "      <td>...</td>\n",
       "      <td>...</td>\n",
       "      <td>...</td>\n",
       "      <td>...</td>\n",
       "      <td>...</td>\n",
       "    </tr>\n",
       "    <tr>\n",
       "      <th>2023-11-14 15:45:00</th>\n",
       "      <td>11</td>\n",
       "      <td>14</td>\n",
       "      <td>15</td>\n",
       "      <td>1</td>\n",
       "      <td>2984.654441</td>\n",
       "      <td>3126.559991</td>\n",
       "      <td>2979.488881</td>\n",
       "    </tr>\n",
       "    <tr>\n",
       "      <th>2023-11-14 16:00:00</th>\n",
       "      <td>11</td>\n",
       "      <td>14</td>\n",
       "      <td>16</td>\n",
       "      <td>1</td>\n",
       "      <td>2979.488881</td>\n",
       "      <td>2984.654441</td>\n",
       "      <td>2941.008447</td>\n",
       "    </tr>\n",
       "    <tr>\n",
       "      <th>2023-11-14 16:15:00</th>\n",
       "      <td>11</td>\n",
       "      <td>14</td>\n",
       "      <td>16</td>\n",
       "      <td>1</td>\n",
       "      <td>2941.008447</td>\n",
       "      <td>2979.488881</td>\n",
       "      <td>2838.018886</td>\n",
       "    </tr>\n",
       "    <tr>\n",
       "      <th>2023-11-14 16:30:00</th>\n",
       "      <td>11</td>\n",
       "      <td>14</td>\n",
       "      <td>16</td>\n",
       "      <td>1</td>\n",
       "      <td>2838.018886</td>\n",
       "      <td>2941.008447</td>\n",
       "      <td>2795.329988</td>\n",
       "    </tr>\n",
       "    <tr>\n",
       "      <th>2023-11-14 16:45:00</th>\n",
       "      <td>11</td>\n",
       "      <td>14</td>\n",
       "      <td>16</td>\n",
       "      <td>1</td>\n",
       "      <td>2795.329988</td>\n",
       "      <td>2838.018886</td>\n",
       "      <td>2765.444720</td>\n",
       "    </tr>\n",
       "  </tbody>\n",
       "</table>\n",
       "<p>2317 rows × 7 columns</p>\n",
       "</div>"
      ],
      "text/plain": [
       "                     Month  Day  Hour  Weekday  Consumption-1  Consumption-2  \\\n",
       "datetime                                                                       \n",
       "2023-10-15 16:45:00     10   15    16        6       0.000000       0.000000   \n",
       "2023-10-15 17:00:00     10   15    17        6    1325.934579       0.000000   \n",
       "2023-10-15 17:15:00     10   15    17        6    1349.883333    1325.934579   \n",
       "2023-10-15 17:30:00     10   15    17        6    1357.944444    1349.883333   \n",
       "2023-10-15 17:45:00     10   15    17        6    1351.702778    1357.944444   \n",
       "...                    ...  ...   ...      ...            ...            ...   \n",
       "2023-11-14 15:45:00     11   14    15        1    2984.654441    3126.559991   \n",
       "2023-11-14 16:00:00     11   14    16        1    2979.488881    2984.654441   \n",
       "2023-11-14 16:15:00     11   14    16        1    2941.008447    2979.488881   \n",
       "2023-11-14 16:30:00     11   14    16        1    2838.018886    2941.008447   \n",
       "2023-11-14 16:45:00     11   14    16        1    2795.329988    2838.018886   \n",
       "\n",
       "                     Consumption  \n",
       "datetime                          \n",
       "2023-10-15 16:45:00  1325.934579  \n",
       "2023-10-15 17:00:00  1349.883333  \n",
       "2023-10-15 17:15:00  1357.944444  \n",
       "2023-10-15 17:30:00  1351.702778  \n",
       "2023-10-15 17:45:00  1353.188889  \n",
       "...                          ...  \n",
       "2023-11-14 15:45:00  2979.488881  \n",
       "2023-11-14 16:00:00  2941.008447  \n",
       "2023-11-14 16:15:00  2838.018886  \n",
       "2023-11-14 16:30:00  2795.329988  \n",
       "2023-11-14 16:45:00  2765.444720  \n",
       "\n",
       "[2317 rows x 7 columns]"
      ]
     },
     "execution_count": 2,
     "metadata": {},
     "output_type": "execute_result"
    }
   ],
   "source": [
    "import pandas as pd\n",
    "from database.BuildingRepository import BuildingRepository\n",
    "from pandas.api.types import is_numeric_dtype\n",
    "from datetime import datetime, timedelta\n",
    "\n",
    "building_repo = BuildingRepository()\n",
    "df = pd.DataFrame(building_repo.get_power_historic(datetime.now()-timedelta(days=30)))\n",
    "df = df.drop(\"_id\", axis=1)\n",
    "df['datetime'] = pd.to_datetime(df['datetime'])\n",
    "\n",
    "df.set_index(\"datetime\", inplace=True)\n",
    "df = df.resample('15T').mean()\n",
    "df[\"datetime\"] = df.index\n",
    "\n",
    "df['totalpower'] = pd.to_numeric(df['totalpower'], errors='coerce')\n",
    "df['Month'] = df['datetime'].dt.month\n",
    "df['Day'] = df['datetime'].dt.day\n",
    "df['Hour'] = df['datetime'].dt.hour\n",
    "df['Weekday'] = df['datetime'].dt.weekday\n",
    "\n",
    "df.rename(columns={'totalpower': 'Consumption'}, inplace=True)\n",
    "df.drop(['datetime', 'totalgeneration'], axis=1, inplace=True)\n",
    "\n",
    "df = df.dropna()\n",
    "df['Consumption-1'] = df['Consumption'].shift(1)\n",
    "df.loc[df['Day'] != df['Day'].shift(1), 'Consumption-1'] = 0\n",
    "df['Consumption-2'] = df['Consumption'].shift(2)\n",
    "df.loc[df['Day'] != df['Day'].shift(2), 'Consumption-2'] = 0\n",
    "#df = df[['Month', 'Day', 'Hour', 'Consumption-1', 'Consumption-2', 'Consumption']]\n",
    "df = df[['Month', 'Day', 'Hour', 'Weekday', 'Consumption-1', 'Consumption-2', 'Consumption']]\n",
    "df"
   ]
  },
  {
   "cell_type": "code",
   "execution_count": 3,
   "metadata": {
    "ExecuteTime": {
     "end_time": "2023-11-07T16:05:06.981176733Z",
     "start_time": "2023-11-07T16:05:06.510674020Z"
    }
   },
   "outputs": [
    {
     "name": "stdout",
     "output_type": "stream",
     "text": [
      "Len train 1853 Len test 464\n"
     ]
    }
   ],
   "source": [
    "from sklearn.preprocessing import MinMaxScaler\n",
    "import numpy as np\n",
    "\n",
    "# Data preprocessing - Scaling using MinMaxScaler\n",
    "scaler = MinMaxScaler(feature_range=(0, 1))\n",
    "df_scaled = scaler.fit_transform(df)\n",
    "pred_scaler = MinMaxScaler(feature_range=(0, 1))\n",
    "y_scaled = pred_scaler.fit_transform(np.array(df['Consumption']).reshape(-1, 1))\n",
    "\n",
    "# split into train and test sets\n",
    "train_size = int(len(df_scaled) * 0.8)\n",
    "test_size = len(df_scaled) - train_size\n",
    "train, test = df_scaled[0:train_size, :], df_scaled[train_size:len(df_scaled), :]\n",
    "print(\"Len train\", len(train), \"Len test\", len(test))"
   ]
  },
  {
   "cell_type": "code",
   "execution_count": 4,
   "metadata": {
    "ExecuteTime": {
     "end_time": "2023-11-07T16:05:06.992453163Z",
     "start_time": "2023-11-07T16:05:06.982394304Z"
    }
   },
   "outputs": [
    {
     "data": {
      "text/plain": [
       "['training_1/pred_scaler.pkl']"
      ]
     },
     "execution_count": 4,
     "metadata": {},
     "output_type": "execute_result"
    }
   ],
   "source": [
    "import joblib\n",
    "\n",
    "# Assuming you have a scaler object named 'scaler'\n",
    "joblib.dump(scaler, 'training_1/scaler.pkl')\n",
    "joblib.dump(pred_scaler, 'training_1/pred_scaler.pkl')"
   ]
  },
  {
   "cell_type": "code",
   "execution_count": 5,
   "metadata": {
    "ExecuteTime": {
     "end_time": "2023-11-07T16:05:08.076870596Z",
     "start_time": "2023-11-07T16:05:06.989857466Z"
    }
   },
   "outputs": [
    {
     "name": "stdout",
     "output_type": "stream",
     "text": [
      "X_train shape (1850, 1, 6) timesteps 1\n",
      "X_test shape (461, 1, 6) timesteps 1\n",
      "X_train shape (1850, 1, 6) y_train shape (1850,)\n",
      "X_test shape (461, 1, 6) y_test shape (461,)\n"
     ]
    }
   ],
   "source": [
    "import numpy as np\n",
    "\n",
    "# Prepare data for LSTM (sequence-to-sequence)\n",
    "def prepare_data(data, time_steps):\n",
    "    X, y = [], []\n",
    "    for i in range(len(data) - time_steps - 2):\n",
    "        X.append(data[i:i + time_steps, :-1])  # Exclude the last column (Consumption)\n",
    "        y.append(data[i + time_steps, -1])  # The last column (Consumption) is the target\n",
    "    return np.array(X), np.array(y)\n",
    "\n",
    "\n",
    "timesteps = 1\n",
    "X_train, y_train = prepare_data(train, timesteps)\n",
    "X_test, y_test = prepare_data(test, timesteps)\n",
    "\n",
    "print(\"X_train shape\", X_train.shape, \"timesteps\", timesteps)\n",
    "print(\"X_test shape\", X_test.shape, \"timesteps\", timesteps)\n",
    "\n",
    "# reshape input to be [samples, time steps, features]\n",
    "X_train = np.reshape(X_train, (X_train.shape[0], timesteps, X_train.shape[2]))\n",
    "X_test = np.reshape(X_test, (X_test.shape[0], timesteps, X_test.shape[2]))\n",
    "\n",
    "print(\"X_train shape\", X_train.shape, \"y_train shape\", y_train.shape)\n",
    "print(\"X_test shape\", X_test.shape, \"y_test shape\", y_test.shape)"
   ]
  },
  {
   "cell_type": "code",
   "execution_count": 6,
   "metadata": {
    "ExecuteTime": {
     "end_time": "2023-11-07T16:05:09.847117568Z",
     "start_time": "2023-11-07T16:05:08.076337407Z"
    }
   },
   "outputs": [
    {
     "name": "stderr",
     "output_type": "stream",
     "text": [
      "2023-11-14 16:51:23.803349: I tensorflow/core/platform/cpu_feature_guard.cc:182] This TensorFlow binary is optimized to use available CPU instructions in performance-critical operations.\n",
      "To enable the following instructions: AVX2 FMA, in other operations, rebuild TensorFlow with the appropriate compiler flags.\n",
      "2023-11-14 16:51:24.713652: W tensorflow/compiler/tf2tensorrt/utils/py_utils.cc:38] TF-TRT Warning: Could not find TensorRT\n"
     ]
    },
    {
     "name": "stdout",
     "output_type": "stream",
     "text": [
      "1 6\n"
     ]
    },
    {
     "name": "stderr",
     "output_type": "stream",
     "text": [
      "2023-11-14 16:51:25.537836: I tensorflow/compiler/xla/stream_executor/cuda/cuda_gpu_executor.cc:995] successful NUMA node read from SysFS had negative value (-1), but there must be at least one NUMA node, so returning NUMA node zero. See more at https://github.com/torvalds/linux/blob/v6.0/Documentation/ABI/testing/sysfs-bus-pci#L344-L355\n",
      "2023-11-14 16:51:25.636589: I tensorflow/compiler/xla/stream_executor/cuda/cuda_gpu_executor.cc:995] successful NUMA node read from SysFS had negative value (-1), but there must be at least one NUMA node, so returning NUMA node zero. See more at https://github.com/torvalds/linux/blob/v6.0/Documentation/ABI/testing/sysfs-bus-pci#L344-L355\n",
      "2023-11-14 16:51:25.636826: I tensorflow/compiler/xla/stream_executor/cuda/cuda_gpu_executor.cc:995] successful NUMA node read from SysFS had negative value (-1), but there must be at least one NUMA node, so returning NUMA node zero. See more at https://github.com/torvalds/linux/blob/v6.0/Documentation/ABI/testing/sysfs-bus-pci#L344-L355\n",
      "2023-11-14 16:51:25.637806: I tensorflow/compiler/xla/stream_executor/cuda/cuda_gpu_executor.cc:995] successful NUMA node read from SysFS had negative value (-1), but there must be at least one NUMA node, so returning NUMA node zero. See more at https://github.com/torvalds/linux/blob/v6.0/Documentation/ABI/testing/sysfs-bus-pci#L344-L355\n",
      "2023-11-14 16:51:25.638026: I tensorflow/compiler/xla/stream_executor/cuda/cuda_gpu_executor.cc:995] successful NUMA node read from SysFS had negative value (-1), but there must be at least one NUMA node, so returning NUMA node zero. See more at https://github.com/torvalds/linux/blob/v6.0/Documentation/ABI/testing/sysfs-bus-pci#L344-L355\n",
      "2023-11-14 16:51:25.638207: I tensorflow/compiler/xla/stream_executor/cuda/cuda_gpu_executor.cc:995] successful NUMA node read from SysFS had negative value (-1), but there must be at least one NUMA node, so returning NUMA node zero. See more at https://github.com/torvalds/linux/blob/v6.0/Documentation/ABI/testing/sysfs-bus-pci#L344-L355\n",
      "2023-11-14 16:51:25.778719: I tensorflow/compiler/xla/stream_executor/cuda/cuda_gpu_executor.cc:995] successful NUMA node read from SysFS had negative value (-1), but there must be at least one NUMA node, so returning NUMA node zero. See more at https://github.com/torvalds/linux/blob/v6.0/Documentation/ABI/testing/sysfs-bus-pci#L344-L355\n",
      "2023-11-14 16:51:25.779216: I tensorflow/compiler/xla/stream_executor/cuda/cuda_gpu_executor.cc:995] successful NUMA node read from SysFS had negative value (-1), but there must be at least one NUMA node, so returning NUMA node zero. See more at https://github.com/torvalds/linux/blob/v6.0/Documentation/ABI/testing/sysfs-bus-pci#L344-L355\n",
      "2023-11-14 16:51:25.779598: I tensorflow/compiler/xla/stream_executor/cuda/cuda_gpu_executor.cc:995] successful NUMA node read from SysFS had negative value (-1), but there must be at least one NUMA node, so returning NUMA node zero. See more at https://github.com/torvalds/linux/blob/v6.0/Documentation/ABI/testing/sysfs-bus-pci#L344-L355\n",
      "2023-11-14 16:51:25.779844: I tensorflow/core/common_runtime/gpu/gpu_device.cc:1639] Created device /job:localhost/replica:0/task:0/device:GPU:0 with 2794 MB memory:  -> device: 0, name: NVIDIA GeForce GTX 1650 with Max-Q Design, pci bus id: 0000:02:00.0, compute capability: 7.5\n"
     ]
    },
    {
     "name": "stdout",
     "output_type": "stream",
     "text": [
      "Model: \"sequential\"\n",
      "_________________________________________________________________\n",
      " Layer (type)                Output Shape              Param #   \n",
      "=================================================================\n",
      " lstm (LSTM)                 (None, 50)                11400     \n",
      "                                                                 \n",
      " dense (Dense)               (None, 1)                 51        \n",
      "                                                                 \n",
      "=================================================================\n",
      "Total params: 11451 (44.73 KB)\n",
      "Trainable params: 11451 (44.73 KB)\n",
      "Non-trainable params: 0 (0.00 Byte)\n",
      "_________________________________________________________________\n"
     ]
    }
   ],
   "source": [
    "from keras.models import Sequential\n",
    "from keras.layers import LSTM, Dense\n",
    "import tensorflow as tf\n",
    "\n",
    "def create_model():\n",
    "    # LSTM model\n",
    "    model = Sequential()\n",
    "    print(timesteps, X_train.shape[2])\n",
    "    model.add(LSTM(units=50, input_shape=(timesteps, X_train.shape[2])))\n",
    "    model.add(Dense(units=1))  # Use the original number of features as the output units\n",
    "    model.compile(optimizer='adam', loss='mean_squared_error',metrics=['mae', 'mse'])\n",
    "\n",
    "    return model\n",
    "\n",
    "model = create_model()\n",
    "\n",
    "# Display the model's architecture\n",
    "model.summary()"
   ]
  },
  {
   "cell_type": "code",
   "execution_count": 7,
   "metadata": {
    "ExecuteTime": {
     "end_time": "2023-11-07T16:21:00.351789868Z",
     "start_time": "2023-11-07T16:05:09.839977152Z"
    }
   },
   "outputs": [
    {
     "name": "stdout",
     "output_type": "stream",
     "text": [
      "Epoch 1/50\n"
     ]
    },
    {
     "name": "stderr",
     "output_type": "stream",
     "text": [
      "2023-11-14 16:51:28.667198: I tensorflow/compiler/xla/stream_executor/cuda/cuda_dnn.cc:432] Loaded cuDNN version 8600\n",
      "2023-11-14 16:51:28.765714: I tensorflow/compiler/xla/service/service.cc:168] XLA service 0x7f58b8a295e0 initialized for platform CUDA (this does not guarantee that XLA will be used). Devices:\n",
      "2023-11-14 16:51:28.765744: I tensorflow/compiler/xla/service/service.cc:176]   StreamExecutor device (0): NVIDIA GeForce GTX 1650 with Max-Q Design, Compute Capability 7.5\n",
      "2023-11-14 16:51:28.782094: I tensorflow/compiler/mlir/tensorflow/utils/dump_mlir_util.cc:255] disabling MLIR crash reproducer, set env var `MLIR_CRASH_REPRODUCER_DIRECTORY` to enable.\n"
     ]
    },
    {
     "name": "stdout",
     "output_type": "stream",
     "text": [
      " 1/58 [..............................] - ETA: 2:46 - loss: 0.0381 - mae: 0.1439 - mse: 0.0381"
     ]
    },
    {
     "name": "stderr",
     "output_type": "stream",
     "text": [
      "2023-11-14 16:51:29.149331: I ./tensorflow/compiler/jit/device_compiler.h:186] Compiled cluster using XLA!  This line is logged at most once for the lifetime of the process.\n"
     ]
    },
    {
     "name": "stdout",
     "output_type": "stream",
     "text": [
      "52/58 [=========================>....] - ETA: 0s - loss: 0.0234 - mae: 0.1113 - mse: 0.0234\n",
      "Epoch 1: saving model to training_1/cp.ckpt\n",
      "58/58 [==============================] - 3s 8ms/step - loss: 0.0232 - mae: 0.1103 - mse: 0.0232\n",
      "Epoch 2/50\n",
      "57/58 [============================>.] - ETA: 0s - loss: 0.0141 - mae: 0.0890 - mse: 0.0141\n",
      "Epoch 2: saving model to training_1/cp.ckpt\n",
      "58/58 [==============================] - 0s 8ms/step - loss: 0.0141 - mae: 0.0889 - mse: 0.0141\n",
      "Epoch 3/50\n",
      "57/58 [============================>.] - ETA: 0s - loss: 0.0104 - mae: 0.0750 - mse: 0.0104\n",
      "Epoch 3: saving model to training_1/cp.ckpt\n",
      "58/58 [==============================] - 0s 7ms/step - loss: 0.0103 - mae: 0.0747 - mse: 0.0103\n",
      "Epoch 4/50\n",
      "53/58 [==========================>...] - ETA: 0s - loss: 0.0080 - mae: 0.0657 - mse: 0.0080\n",
      "Epoch 4: saving model to training_1/cp.ckpt\n",
      "58/58 [==============================] - 0s 7ms/step - loss: 0.0079 - mae: 0.0649 - mse: 0.0079\n",
      "Epoch 5/50\n",
      "58/58 [==============================] - ETA: 0s - loss: 0.0064 - mae: 0.0559 - mse: 0.0064\n",
      "Epoch 5: saving model to training_1/cp.ckpt\n",
      "58/58 [==============================] - 0s 7ms/step - loss: 0.0064 - mae: 0.0559 - mse: 0.0064\n",
      "Epoch 6/50\n",
      "53/58 [==========================>...] - ETA: 0s - loss: 0.0056 - mae: 0.0503 - mse: 0.0056\n",
      "Epoch 6: saving model to training_1/cp.ckpt\n",
      "58/58 [==============================] - 0s 7ms/step - loss: 0.0056 - mae: 0.0498 - mse: 0.0056\n",
      "Epoch 7/50\n",
      "57/58 [============================>.] - ETA: 0s - loss: 0.0053 - mae: 0.0466 - mse: 0.0053\n",
      "Epoch 7: saving model to training_1/cp.ckpt\n",
      "58/58 [==============================] - 0s 7ms/step - loss: 0.0053 - mae: 0.0465 - mse: 0.0053\n",
      "Epoch 8/50\n",
      "57/58 [============================>.] - ETA: 0s - loss: 0.0052 - mae: 0.0443 - mse: 0.0052\n",
      "Epoch 8: saving model to training_1/cp.ckpt\n",
      "58/58 [==============================] - 0s 9ms/step - loss: 0.0052 - mae: 0.0440 - mse: 0.0052\n",
      "Epoch 9/50\n",
      "56/58 [===========================>..] - ETA: 0s - loss: 0.0052 - mae: 0.0444 - mse: 0.0052\n",
      "Epoch 9: saving model to training_1/cp.ckpt\n",
      "58/58 [==============================] - 0s 7ms/step - loss: 0.0051 - mae: 0.0442 - mse: 0.0051\n",
      "Epoch 10/50\n",
      "56/58 [===========================>..] - ETA: 0s - loss: 0.0049 - mae: 0.0424 - mse: 0.0049\n",
      "Epoch 10: saving model to training_1/cp.ckpt\n",
      "58/58 [==============================] - 0s 7ms/step - loss: 0.0050 - mae: 0.0426 - mse: 0.0050\n",
      "Epoch 11/50\n",
      "58/58 [==============================] - ETA: 0s - loss: 0.0050 - mae: 0.0422 - mse: 0.0050\n",
      "Epoch 11: saving model to training_1/cp.ckpt\n",
      "58/58 [==============================] - 0s 7ms/step - loss: 0.0050 - mae: 0.0422 - mse: 0.0050\n",
      "Epoch 12/50\n",
      "58/58 [==============================] - ETA: 0s - loss: 0.0049 - mae: 0.0416 - mse: 0.0049\n",
      "Epoch 12: saving model to training_1/cp.ckpt\n",
      "58/58 [==============================] - 0s 7ms/step - loss: 0.0049 - mae: 0.0416 - mse: 0.0049\n",
      "Epoch 13/50\n",
      "56/58 [===========================>..] - ETA: 0s - loss: 0.0049 - mae: 0.0417 - mse: 0.0049\n",
      "Epoch 13: saving model to training_1/cp.ckpt\n",
      "58/58 [==============================] - 0s 7ms/step - loss: 0.0049 - mae: 0.0419 - mse: 0.0049\n",
      "Epoch 14/50\n",
      "52/58 [=========================>....] - ETA: 0s - loss: 0.0051 - mae: 0.0417 - mse: 0.0051\n",
      "Epoch 14: saving model to training_1/cp.ckpt\n",
      "58/58 [==============================] - 0s 7ms/step - loss: 0.0048 - mae: 0.0410 - mse: 0.0048\n",
      "Epoch 15/50\n",
      "52/58 [=========================>....] - ETA: 0s - loss: 0.0050 - mae: 0.0412 - mse: 0.0050\n",
      "Epoch 15: saving model to training_1/cp.ckpt\n",
      "58/58 [==============================] - 0s 8ms/step - loss: 0.0048 - mae: 0.0405 - mse: 0.0048\n",
      "Epoch 16/50\n",
      "51/58 [=========================>....] - ETA: 0s - loss: 0.0045 - mae: 0.0409 - mse: 0.0045\n",
      "Epoch 16: saving model to training_1/cp.ckpt\n",
      "58/58 [==============================] - 0s 7ms/step - loss: 0.0048 - mae: 0.0412 - mse: 0.0048\n",
      "Epoch 17/50\n",
      "55/58 [===========================>..] - ETA: 0s - loss: 0.0049 - mae: 0.0408 - mse: 0.0049\n",
      "Epoch 17: saving model to training_1/cp.ckpt\n",
      "58/58 [==============================] - 0s 6ms/step - loss: 0.0048 - mae: 0.0406 - mse: 0.0048\n",
      "Epoch 18/50\n",
      "53/58 [==========================>...] - ETA: 0s - loss: 0.0046 - mae: 0.0397 - mse: 0.0046\n",
      "Epoch 18: saving model to training_1/cp.ckpt\n",
      "58/58 [==============================] - 0s 6ms/step - loss: 0.0047 - mae: 0.0397 - mse: 0.0047\n",
      "Epoch 19/50\n",
      "52/58 [=========================>....] - ETA: 0s - loss: 0.0044 - mae: 0.0399 - mse: 0.0044\n",
      "Epoch 19: saving model to training_1/cp.ckpt\n",
      "58/58 [==============================] - 0s 6ms/step - loss: 0.0047 - mae: 0.0403 - mse: 0.0047\n",
      "Epoch 20/50\n",
      "56/58 [===========================>..] - ETA: 0s - loss: 0.0047 - mae: 0.0400 - mse: 0.0047\n",
      "Epoch 20: saving model to training_1/cp.ckpt\n",
      "58/58 [==============================] - 0s 7ms/step - loss: 0.0047 - mae: 0.0400 - mse: 0.0047\n",
      "Epoch 21/50\n",
      "57/58 [============================>.] - ETA: 0s - loss: 0.0047 - mae: 0.0395 - mse: 0.0047\n",
      "Epoch 21: saving model to training_1/cp.ckpt\n",
      "58/58 [==============================] - 0s 6ms/step - loss: 0.0046 - mae: 0.0396 - mse: 0.0046\n",
      "Epoch 22/50\n",
      "50/58 [========================>.....] - ETA: 0s - loss: 0.0043 - mae: 0.0381 - mse: 0.0043\n",
      "Epoch 22: saving model to training_1/cp.ckpt\n",
      "58/58 [==============================] - 0s 7ms/step - loss: 0.0046 - mae: 0.0386 - mse: 0.0046\n",
      "Epoch 23/50\n",
      "57/58 [============================>.] - ETA: 0s - loss: 0.0046 - mae: 0.0391 - mse: 0.0046\n",
      "Epoch 23: saving model to training_1/cp.ckpt\n",
      "58/58 [==============================] - 0s 6ms/step - loss: 0.0046 - mae: 0.0389 - mse: 0.0046\n",
      "Epoch 24/50\n",
      "52/58 [=========================>....] - ETA: 0s - loss: 0.0044 - mae: 0.0386 - mse: 0.0044\n",
      "Epoch 24: saving model to training_1/cp.ckpt\n",
      "58/58 [==============================] - 0s 6ms/step - loss: 0.0046 - mae: 0.0391 - mse: 0.0046\n",
      "Epoch 25/50\n",
      "52/58 [=========================>....] - ETA: 0s - loss: 0.0045 - mae: 0.0400 - mse: 0.0045\n",
      "Epoch 25: saving model to training_1/cp.ckpt\n",
      "58/58 [==============================] - 0s 7ms/step - loss: 0.0046 - mae: 0.0400 - mse: 0.0046\n",
      "Epoch 26/50\n",
      "52/58 [=========================>....] - ETA: 0s - loss: 0.0045 - mae: 0.0389 - mse: 0.0045\n",
      "Epoch 26: saving model to training_1/cp.ckpt\n",
      "58/58 [==============================] - 0s 7ms/step - loss: 0.0046 - mae: 0.0394 - mse: 0.0046\n",
      "Epoch 27/50\n",
      "52/58 [=========================>....] - ETA: 0s - loss: 0.0048 - mae: 0.0407 - mse: 0.0048\n",
      "Epoch 27: saving model to training_1/cp.ckpt\n",
      "58/58 [==============================] - 0s 7ms/step - loss: 0.0046 - mae: 0.0397 - mse: 0.0046\n",
      "Epoch 28/50\n",
      "58/58 [==============================] - ETA: 0s - loss: 0.0046 - mae: 0.0396 - mse: 0.0046\n",
      "Epoch 28: saving model to training_1/cp.ckpt\n",
      "58/58 [==============================] - 0s 8ms/step - loss: 0.0046 - mae: 0.0396 - mse: 0.0046\n",
      "Epoch 29/50\n",
      "57/58 [============================>.] - ETA: 0s - loss: 0.0046 - mae: 0.0398 - mse: 0.0046\n",
      "Epoch 29: saving model to training_1/cp.ckpt\n",
      "58/58 [==============================] - 0s 6ms/step - loss: 0.0045 - mae: 0.0397 - mse: 0.0045\n",
      "Epoch 30/50\n",
      "54/58 [==========================>...] - ETA: 0s - loss: 0.0046 - mae: 0.0404 - mse: 0.0046\n",
      "Epoch 30: saving model to training_1/cp.ckpt\n",
      "58/58 [==============================] - 0s 7ms/step - loss: 0.0046 - mae: 0.0404 - mse: 0.0046\n",
      "Epoch 31/50\n",
      "57/58 [============================>.] - ETA: 0s - loss: 0.0045 - mae: 0.0384 - mse: 0.0045\n",
      "Epoch 31: saving model to training_1/cp.ckpt\n",
      "58/58 [==============================] - 0s 8ms/step - loss: 0.0045 - mae: 0.0383 - mse: 0.0045\n",
      "Epoch 32/50\n",
      "52/58 [=========================>....] - ETA: 0s - loss: 0.0046 - mae: 0.0392 - mse: 0.0046\n",
      "Epoch 32: saving model to training_1/cp.ckpt\n",
      "58/58 [==============================] - 0s 7ms/step - loss: 0.0045 - mae: 0.0388 - mse: 0.0045\n",
      "Epoch 33/50\n",
      "51/58 [=========================>....] - ETA: 0s - loss: 0.0047 - mae: 0.0400 - mse: 0.0047\n",
      "Epoch 33: saving model to training_1/cp.ckpt\n",
      "58/58 [==============================] - 1s 9ms/step - loss: 0.0045 - mae: 0.0394 - mse: 0.0045\n",
      "Epoch 34/50\n",
      "55/58 [===========================>..] - ETA: 0s - loss: 0.0042 - mae: 0.0372 - mse: 0.0042\n",
      "Epoch 34: saving model to training_1/cp.ckpt\n",
      "58/58 [==============================] - 0s 7ms/step - loss: 0.0045 - mae: 0.0379 - mse: 0.0045\n",
      "Epoch 35/50\n",
      "57/58 [============================>.] - ETA: 0s - loss: 0.0045 - mae: 0.0387 - mse: 0.0045\n",
      "Epoch 35: saving model to training_1/cp.ckpt\n",
      "58/58 [==============================] - 0s 7ms/step - loss: 0.0045 - mae: 0.0387 - mse: 0.0045\n",
      "Epoch 36/50\n",
      "58/58 [==============================] - ETA: 0s - loss: 0.0045 - mae: 0.0383 - mse: 0.0045\n",
      "Epoch 36: saving model to training_1/cp.ckpt\n",
      "58/58 [==============================] - 0s 7ms/step - loss: 0.0045 - mae: 0.0383 - mse: 0.0045\n",
      "Epoch 37/50\n",
      "51/58 [=========================>....] - ETA: 0s - loss: 0.0044 - mae: 0.0377 - mse: 0.0044\n",
      "Epoch 37: saving model to training_1/cp.ckpt\n",
      "58/58 [==============================] - 0s 8ms/step - loss: 0.0044 - mae: 0.0380 - mse: 0.0044\n",
      "Epoch 38/50\n",
      "53/58 [==========================>...] - ETA: 0s - loss: 0.0042 - mae: 0.0371 - mse: 0.0042  \n",
      "Epoch 38: saving model to training_1/cp.ckpt\n",
      "58/58 [==============================] - 0s 8ms/step - loss: 0.0044 - mae: 0.0376 - mse: 0.0044\n",
      "Epoch 39/50\n",
      "57/58 [============================>.] - ETA: 0s - loss: 0.0044 - mae: 0.0384 - mse: 0.0044\n",
      "Epoch 39: saving model to training_1/cp.ckpt\n",
      "58/58 [==============================] - 0s 6ms/step - loss: 0.0044 - mae: 0.0383 - mse: 0.0044\n",
      "Epoch 40/50\n",
      "51/58 [=========================>....] - ETA: 0s - loss: 0.0044 - mae: 0.0377 - mse: 0.0044\n",
      "Epoch 40: saving model to training_1/cp.ckpt\n",
      "58/58 [==============================] - 0s 7ms/step - loss: 0.0044 - mae: 0.0377 - mse: 0.0044\n",
      "Epoch 41/50\n",
      "58/58 [==============================] - ETA: 0s - loss: 0.0044 - mae: 0.0384 - mse: 0.0044\n",
      "Epoch 41: saving model to training_1/cp.ckpt\n",
      "58/58 [==============================] - 0s 7ms/step - loss: 0.0044 - mae: 0.0384 - mse: 0.0044\n",
      "Epoch 42/50\n",
      "51/58 [=========================>....] - ETA: 0s - loss: 0.0040 - mae: 0.0360 - mse: 0.0040\n",
      "Epoch 42: saving model to training_1/cp.ckpt\n",
      "58/58 [==============================] - 0s 7ms/step - loss: 0.0043 - mae: 0.0372 - mse: 0.0043\n",
      "Epoch 43/50\n",
      "53/58 [==========================>...] - ETA: 0s - loss: 0.0043 - mae: 0.0367 - mse: 0.0043\n",
      "Epoch 43: saving model to training_1/cp.ckpt\n",
      "58/58 [==============================] - 0s 8ms/step - loss: 0.0043 - mae: 0.0368 - mse: 0.0043\n",
      "Epoch 44/50\n",
      "54/58 [==========================>...] - ETA: 0s - loss: 0.0044 - mae: 0.0384 - mse: 0.0044\n",
      "Epoch 44: saving model to training_1/cp.ckpt\n",
      "58/58 [==============================] - 0s 7ms/step - loss: 0.0044 - mae: 0.0383 - mse: 0.0044\n",
      "Epoch 45/50\n",
      "57/58 [============================>.] - ETA: 0s - loss: 0.0043 - mae: 0.0375 - mse: 0.0043\n",
      "Epoch 45: saving model to training_1/cp.ckpt\n",
      "58/58 [==============================] - 0s 7ms/step - loss: 0.0043 - mae: 0.0378 - mse: 0.0043\n",
      "Epoch 46/50\n",
      "52/58 [=========================>....] - ETA: 0s - loss: 0.0043 - mae: 0.0380 - mse: 0.0043\n",
      "Epoch 46: saving model to training_1/cp.ckpt\n",
      "58/58 [==============================] - 0s 7ms/step - loss: 0.0043 - mae: 0.0379 - mse: 0.0043\n",
      "Epoch 47/50\n",
      "57/58 [============================>.] - ETA: 0s - loss: 0.0043 - mae: 0.0372 - mse: 0.0043\n",
      "Epoch 47: saving model to training_1/cp.ckpt\n",
      "58/58 [==============================] - 0s 7ms/step - loss: 0.0043 - mae: 0.0371 - mse: 0.0043\n",
      "Epoch 48/50\n",
      "48/58 [=======================>......] - ETA: 0s - loss: 0.0039 - mae: 0.0368 - mse: 0.0039\n",
      "Epoch 48: saving model to training_1/cp.ckpt\n",
      "58/58 [==============================] - 0s 6ms/step - loss: 0.0043 - mae: 0.0371 - mse: 0.0043\n",
      "Epoch 49/50\n",
      "50/58 [========================>.....] - ETA: 0s - loss: 0.0040 - mae: 0.0364 - mse: 0.0040\n",
      "Epoch 49: saving model to training_1/cp.ckpt\n",
      "58/58 [==============================] - 0s 8ms/step - loss: 0.0043 - mae: 0.0370 - mse: 0.0043\n",
      "Epoch 50/50\n",
      "52/58 [=========================>....] - ETA: 0s - loss: 0.0046 - mae: 0.0389 - mse: 0.0046\n",
      "Epoch 50: saving model to training_1/cp.ckpt\n",
      "58/58 [==============================] - 0s 7ms/step - loss: 0.0043 - mae: 0.0380 - mse: 0.0043\n"
     ]
    },
    {
     "data": {
      "text/plain": [
       "<keras.src.callbacks.History at 0x7f599815f0d0>"
      ]
     },
     "execution_count": 7,
     "metadata": {},
     "output_type": "execute_result"
    }
   ],
   "source": [
    "import os\n",
    "\n",
    "checkpoint_path = \"training_1/cp.ckpt\"\n",
    "checkpoint_dir = os.path.dirname(checkpoint_path)\n",
    "\n",
    "# Create a callback that saves the model's weights\n",
    "cp_callback = tf.keras.callbacks.ModelCheckpoint(filepath=checkpoint_path,\n",
    "                                                 save_weights_only=True,\n",
    "                                                 verbose=1)\n",
    "\n",
    "# Train the model\n",
    "model.fit(X_train, y_train, epochs=50, batch_size=32, verbose=1, callbacks=[cp_callback])"
   ]
  },
  {
   "cell_type": "code",
   "execution_count": 8,
   "metadata": {
    "ExecuteTime": {
     "end_time": "2023-11-07T16:21:00.403924621Z",
     "start_time": "2023-11-07T16:21:00.349242483Z"
    }
   },
   "outputs": [
    {
     "data": {
      "text/plain": [
       "array([0.08152897, 0.08538456, 0.08334688, 0.07304699, 0.07218085,\n",
       "       0.07124927, 0.07130341, 0.0716072 , 0.07206532, 0.0706837 ,\n",
       "       0.07284742, 0.08701826, 0.084983  , 0.07637013, 0.07021751,\n",
       "       0.07076854, 0.07082267, 0.07125978, 0.07120645, 0.07234972,\n",
       "       0.07242243, 0.07381374, 0.08524801, 0.08429543, 0.07740917,\n",
       "       0.07117413, 0.07142864, 0.07284015, 0.07076854, 0.07203946,\n",
       "       0.07076854, 0.07108283, 0.07086711, 0.08358038, 0.08412576,\n",
       "       0.0814304 , 0.07278198, 0.07254843, 0.07138259, 0.0714246 ,\n",
       "       0.07036536, 0.07089862, 0.07953734, 0.1020221 , 0.11917836,\n",
       "       0.18337655, 0.18567262, 0.17383776, 0.17584877, 0.29728215,\n",
       "       0.22517845, 0.36317934, 0.39110944, 0.42546157, 0.56245219,\n",
       "       0.60430497, 0.60839395, 0.49611594, 0.41735933, 0.52798569,\n",
       "       0.66963186, 0.51635105, 0.42952651, 0.37869267, 0.38756134,\n",
       "       0.51977295, 0.66810641, 0.75817892, 0.47473279, 0.39154652,\n",
       "       0.43805813, 0.41596038, 0.44551125, 0.42939953, 0.455046  ,\n",
       "       0.410442  , 0.37616052, 0.345378  , 0.40626953, 0.23525915,\n",
       "       0.21426492, 0.20597604, 0.18736707, 0.14961265, 0.12138409,\n",
       "       0.11637715, 0.12160062, 0.12135096, 0.10995628, 0.08476001,\n",
       "       0.07553713, 0.08395608, 0.08021037, 0.06807156, 0.06432585,\n",
       "       0.06519683, 0.0680651 , 0.06592158, 0.06534308, 0.06582139,\n",
       "       0.06513543, 0.07534402, 0.07746492, 0.07669413, 0.06904758,\n",
       "       0.06712786, 0.06558385, 0.06582704, 0.06460783, 0.06291677,\n",
       "       0.06381118, 0.06978363, 0.07918992, 0.0803243 , 0.06933925,\n",
       "       0.06543518, 0.06545134, 0.06444139, 0.06471933, 0.06573978,\n",
       "       0.06723371, 0.06897809, 0.07984922, 0.07969974, 0.07653253,\n",
       "       0.06444381, 0.06725714, 0.0664621 , 0.06641201, 0.0666342 ,\n",
       "       0.06762557, 0.06573494, 0.07296377, 0.07813149, 0.07735342,\n",
       "       0.06823396, 0.06473791, 0.06420789, 0.06621244, 0.0649399 ,\n",
       "       0.06412709, 0.06258954, 0.0645036 , 0.07727747, 0.07693328,\n",
       "       0.07268179, 0.06576968, 0.06578422, 0.06328924, 0.06382734,\n",
       "       0.06279638, 0.06275194, 0.06266549, 0.07294842, 0.07614714,\n",
       "       0.0781016 , 0.06356879, 0.06420385, 0.06298221, 0.06362373,\n",
       "       0.06437918, 0.06350416, 0.06409074, 0.07235376, 0.07884977,\n",
       "       0.08542092, 0.07979104, 0.07129452, 0.07477441, 0.0746516 ,\n",
       "       0.07319081, 0.07491096, 0.07407876, 0.0758393 , 0.08422514,\n",
       "       0.08577561, 0.08522135, 0.07330958, 0.06836808, 0.06571878,\n",
       "       0.06395257, 0.06573898, 0.06764334, 0.06546669, 0.07741564,\n",
       "       0.07764429, 0.07697611, 0.06731612, 0.06375866, 0.06402771,\n",
       "       0.06422082, 0.06369807, 0.06590219, 0.06345245, 0.06539075,\n",
       "       0.07670867, 0.07632166, 0.06986443, 0.0636205 , 0.06311229,\n",
       "       0.06389682, 0.06379583, 0.06292323, 0.06280204, 0.06434928,\n",
       "       0.07714416, 0.07686461, 0.07042192, 0.06352112, 0.06676913,\n",
       "       0.06254672, 0.06257096, 0.06514917, 0.06367868, 0.06339831,\n",
       "       0.07916406, 0.07822521, 0.0751687 , 0.06446644, 0.06526309,\n",
       "       0.06344275, 0.06351062, 0.06345002, 0.06445755, 0.0630719 ,\n",
       "       0.07941372, 0.07865828, 0.07424358, 0.0628998 , 0.06322379,\n",
       "       0.06271962, 0.06327389, 0.06282224, 0.06359869, 0.0628893 ,\n",
       "       0.07337825, 0.07576012, 0.07479138, 0.06300968, 0.06272286,\n",
       "       0.06310745, 0.06597652, 0.06630293, 0.06291596, 0.06313249,\n",
       "       0.06936188, 0.07668605, 0.07578355, 0.06782029, 0.06346941,\n",
       "       0.06679821, 0.06439695, 0.06397439, 0.06239725, 0.06334822,\n",
       "       0.07103436, 0.07793596, 0.07767742, 0.06895628, 0.06435817,\n",
       "       0.06293454, 0.06375786, 0.06331267, 0.06256207, 0.0631438 ,\n",
       "       0.07193362, 0.07708195, 0.0778075 , 0.06774353, 0.06323106,\n",
       "       0.06323349, 0.06329085, 0.0642491 , 0.06582139, 0.06396389,\n",
       "       0.07157246, 0.07722577, 0.07665534, 0.0682889 , 0.06366575,\n",
       "       0.06380553, 0.06329893, 0.06475084, 0.06504494, 0.06314461,\n",
       "       0.06953155, 0.07971509, 0.07670221, 0.07042515, 0.06394853,\n",
       "       0.06665197, 0.06445432, 0.06404711, 0.06303715, 0.06340962,\n",
       "       0.06628354, 0.07702539, 0.07660444, 0.07168881, 0.0643    ,\n",
       "       0.06456986, 0.06344679, 0.06329813, 0.06407619, 0.06690487,\n",
       "       0.06936188, 0.07954138, 0.07833994, 0.07371032, 0.06337407,\n",
       "       0.06374654, 0.06398893, 0.06441473, 0.06352435, 0.06406326,\n",
       "       0.06969556, 0.0783052 , 0.07685814, 0.07081378, 0.06361161,\n",
       "       0.06346214, 0.06466924, 0.063854  , 0.06525582, 0.06514189,\n",
       "       0.06961154, 0.07781962, 0.0769656 , 0.06851756, 0.0636916 ,\n",
       "       0.06358657, 0.0881898 , 0.07367491, 0.11823679, 0.07758531,\n",
       "       0.14987524, 0.17441303, 0.23946442, 0.23011065, 0.24790843,\n",
       "       0.36334488, 0.38421541, 0.39088993, 0.38037824, 0.40037529,\n",
       "       0.39891329, 0.4040061 , 0.55133162, 0.45013391, 0.24630543,\n",
       "       0.23767398, 0.31890869, 0.34381055, 0.34690068, 0.37423223,\n",
       "       0.38199046, 0.40688487, 0.42989415, 0.4535795 , 0.54087831,\n",
       "       0.55378423, 0.43419348, 0.42557851, 0.40199735, 0.40598173,\n",
       "       0.39749425, 0.40774104, 0.38745458, 0.37623808, 0.36294873,\n",
       "       0.31606225, 0.23415289, 0.21296266, 0.18141482, 0.17758024,\n",
       "       0.16564341, 0.16016867, 0.14936945, 0.10099599, 0.06595874,\n",
       "       0.0663304 , 0.06777262, 0.06536004, 0.07939029, 0.07905337,\n",
       "       0.07966581, 0.06647503, 0.06515644, 0.06564849, 0.06618012,\n",
       "       0.0663708 , 0.06594582, 0.06778635, 0.07912609, 0.07755865,\n",
       "       0.07409168, 0.06483406, 0.06528733, 0.06653805, 0.06600076,\n",
       "       0.06570908, 0.06524935, 0.06941763, 0.07984679, 0.07932566,\n",
       "       0.07331846, 0.06570827, 0.06558546, 0.0667764 , 0.06525016,\n",
       "       0.06454723, 0.06641039, 0.06705757, 0.08096339, 0.07877544,\n",
       "       0.07507578, 0.06532611, 0.06611468, 0.06542468, 0.06567192,\n",
       "       0.06543599, 0.06682972, 0.06552083, 0.07702054, 0.07775902,\n",
       "       0.07842316, 0.06460783, 0.06476054, 0.06571312, 0.07031123,\n",
       "       0.09163333, 0.12656824, 0.10398577, 0.15999253, 0.17502869,\n",
       "       0.21150023, 0.29671625, 0.36245394, 0.35717747, 0.36459341,\n",
       "       0.43692041, 0.39559328, 0.40970191, 0.41084162, 0.33578087,\n",
       "       0.32918676, 0.20162016, 0.38089178, 0.41277006, 0.52100474,\n",
       "       0.52341543, 0.51537907, 0.56692669, 0.50918055, 0.52035546,\n",
       "       0.54691916, 0.58071713, 0.53944161, 0.53793913, 0.52674647,\n",
       "       0.4967903 ])"
      ]
     },
     "execution_count": 8,
     "metadata": {},
     "output_type": "execute_result"
    }
   ],
   "source": [
    "y_test"
   ]
  },
  {
   "cell_type": "code",
   "execution_count": 9,
   "metadata": {
    "ExecuteTime": {
     "end_time": "2023-11-07T16:21:41.325667028Z",
     "start_time": "2023-11-07T16:21:00.389709978Z"
    }
   },
   "outputs": [
    {
     "name": "stdout",
     "output_type": "stream",
     "text": [
      "15/15 - 1s - loss: 0.0037 - mae: 0.0334 - mse: 0.0037 - 613ms/epoch - 41ms/step\n",
      "Trained model, mae:  0.03%, mse:  0.00%\n",
      "INFO:tensorflow:Assets written to: saved_model/consumption_forecast/assets\n"
     ]
    },
    {
     "name": "stderr",
     "output_type": "stream",
     "text": [
      "INFO:tensorflow:Assets written to: saved_model/consumption_forecast/assets\n"
     ]
    },
    {
     "name": "stdout",
     "output_type": "stream",
     "text": [
      "58/58 [==============================] - 1s 2ms/step\n",
      "15/15 [==============================] - 0s 3ms/step\n",
      "Original DataFrame:\n",
      "y_train_inv.shape (1850, 1) y_train_pred.shape (1850, 1)\n"
     ]
    }
   ],
   "source": [
    "# Evaluate the model\n",
    "loss, mae, mse = model.evaluate(X_test, y_test, verbose=2)\n",
    "print(\"Trained model, mae: {:5.2f}%, mse: {:5.2f}%\".format(mae, mse))\n",
    "\n",
    "model.save('saved_model/consumption_forecast')\n",
    "\n",
    "y_train_inv = pred_scaler.inverse_transform(y_train.reshape(-1, 1))\n",
    "y_test_inv = pred_scaler.inverse_transform(y_test.reshape(-1, 1))\n",
    "\n",
    "# Make predictions on train and test sets\n",
    "y_train_pred = model.predict(X_train)\n",
    "y_train_pred = pred_scaler.inverse_transform(y_train_pred)\n",
    "\n",
    "y_test_pred = model.predict(X_test)\n",
    "y_test_pred = pred_scaler.inverse_transform(y_test_pred)\n",
    "\n",
    "# Display the original DataFrame and the predicted values after inverse scaling for train and test sets\n",
    "print(\"Original DataFrame:\")\n",
    "print(\"y_train_inv.shape\", y_train_inv.shape, \"y_train_pred.shape\", y_train_pred.shape)"
   ]
  },
  {
   "cell_type": "code",
   "execution_count": 10,
   "metadata": {
    "ExecuteTime": {
     "end_time": "2023-11-07T16:21:41.352113728Z",
     "start_time": "2023-11-07T16:21:41.327274079Z"
    }
   },
   "outputs": [],
   "source": [
    "model.save_weights('./checkpoints/my_checkpoint')"
   ]
  },
  {
   "cell_type": "code",
   "execution_count": 11,
   "metadata": {
    "ExecuteTime": {
     "end_time": "2023-11-07T16:21:46.062974256Z",
     "start_time": "2023-11-07T16:21:41.346750374Z"
    }
   },
   "outputs": [
    {
     "name": "stdout",
     "output_type": "stream",
     "text": [
      "1 6\n"
     ]
    },
    {
     "name": "stdout",
     "output_type": "stream",
     "text": [
      "15/15 - 2s - loss: 0.0401 - mae: 0.1416 - mse: 0.0401 - 2s/epoch - 115ms/step\n",
      "Trained model, mae:  0.14%, mse:  0.04%\n"
     ]
    }
   ],
   "source": [
    "model_test = create_model()\n",
    "\n",
    "loss, mae, mse = model_test.evaluate(X_test, y_test, verbose=2)\n",
    "print(\"Trained model, mae: {:5.2f}%, mse: {:5.2f}%\".format(mae, mse))"
   ]
  },
  {
   "cell_type": "code",
   "execution_count": 12,
   "metadata": {
    "ExecuteTime": {
     "end_time": "2023-11-07T16:21:50.489481784Z",
     "start_time": "2023-11-07T16:21:46.065760629Z"
    }
   },
   "outputs": [
    {
     "name": "stdout",
     "output_type": "stream",
     "text": [
      "15/15 - 0s - loss: 0.0037 - mae: 0.0334 - mse: 0.0037 - 79ms/epoch - 5ms/step\n",
      "Trained model, mae:  0.03%, mse:  0.00%\n"
     ]
    }
   ],
   "source": [
    "# Restore the weights\n",
    "model_test.load_weights('./checkpoints/my_checkpoint')\n",
    "\n",
    "# Re-evaluate the model\n",
    "loss, mae, mse = model_test.evaluate(X_test, y_test, verbose=2)\n",
    "print(\"Trained model, mae: {:5.2f}%, mse: {:5.2f}%\".format(mae, mse))"
   ]
  },
  {
   "cell_type": "code",
   "execution_count": 13,
   "metadata": {
    "ExecuteTime": {
     "end_time": "2023-11-07T16:22:02.491113195Z",
     "start_time": "2023-11-07T16:21:50.485435949Z"
    }
   },
   "outputs": [
    {
     "name": "stdout",
     "output_type": "stream",
     "text": [
      "Model: \"sequential\"\n",
      "_________________________________________________________________\n",
      " Layer (type)                Output Shape              Param #   \n",
      "=================================================================\n",
      " lstm (LSTM)                 (None, 50)                11400     \n",
      "                                                                 \n",
      " dense (Dense)               (None, 1)                 51        \n",
      "                                                                 \n",
      "=================================================================\n",
      "Total params: 11451 (44.73 KB)\n",
      "Trainable params: 11451 (44.73 KB)\n",
      "Non-trainable params: 0 (0.00 Byte)\n",
      "_________________________________________________________________\n",
      "15/15 - 1s - loss: 0.0037 - mae: 0.0334 - mse: 0.0037 - 590ms/epoch - 39ms/step\n",
      "Trained model, mae:  0.03%, mse:  0.00%\n",
      "15/15 [==============================] - 1s 3ms/step\n",
      "New Model Shape (461, 1)\n"
     ]
    }
   ],
   "source": [
    "new_model = tf.keras.models.load_model('saved_model/consumption_forecast')\n",
    "\n",
    "# Check its architecture\n",
    "new_model.summary()\n",
    "\n",
    "# Evaluate the restored model\n",
    "loss, mae, mse = new_model.evaluate(X_test, y_test, verbose=2)\n",
    "print(\"Trained model, mae: {:5.2f}%, mse: {:5.2f}%\".format(mae, mse))\n",
    "\n",
    "print(\"New Model Shape\", new_model.predict(X_test).shape)"
   ]
  },
  {
   "cell_type": "code",
   "execution_count": 14,
   "metadata": {
    "ExecuteTime": {
     "end_time": "2023-11-07T16:22:04.569204514Z",
     "start_time": "2023-11-07T16:22:02.491454110Z"
    }
   },
   "outputs": [
    {
     "data": {
      "image/png": "[encoded data removed]",
      "text/plain": [
       "<Figure size 1000x600 with 1 Axes>"
      ]
     },
     "metadata": {},
     "output_type": "display_data"
    },
    {
     "data": {
      "image/png": "[encoded data removed]",
      "text/plain": [
       "<Figure size 1000x600 with 1 Axes>"
      ]
     },
     "metadata": {},
     "output_type": "display_data"
    }
   ],
   "source": [
    "import matplotlib.pyplot as plt\n",
    "\n",
    "# Plot predictions vs actual\n",
    "plt.figure(figsize=(10, 6))\n",
    "plt.plot(y_train_inv, label='Actual (Train)', color='blue')\n",
    "plt.plot(y_train_pred, label='Pred (Train)', linestyle='dashed', color='red')\n",
    "\n",
    "plt.xlabel('Time Steps')\n",
    "plt.ylabel('Consumption')\n",
    "plt.legend()\n",
    "plt.show()\n",
    "\n",
    "# Plot predictions vs actual\n",
    "plt.figure(figsize=(10, 6))\n",
    "\n",
    "plt.plot(y_test_inv, label='Actual (Test)', color='green')\n",
    "plt.plot(y_test_pred, label='Pred (Test)', linestyle='dashed', color='orange')\n",
    "\n",
    "plt.xlabel('Time Steps')\n",
    "plt.ylabel('Consumption')\n",
    "plt.legend()\n",
    "plt.show()\n"
   ]
  },
  {
   "cell_type": "markdown",
   "metadata": {
    "collapsed": false
   },
   "source": [
    "## Run modelwith saved weights\n",
    "Get Data"
   ]
  },
  {
   "cell_type": "code",
   "execution_count": 15,
   "metadata": {
    "ExecuteTime": {
     "end_time": "2023-11-07T16:22:08.316116516Z",
     "start_time": "2023-11-07T16:22:04.577953339Z"
    }
   },
   "outputs": [
    {
     "data": {
      "text/html": [
       "<div>\n",
       "<style scoped>\n",
       "    .dataframe tbody tr th:only-of-type {\n",
       "        vertical-align: middle;\n",
       "    }\n",
       "\n",
       "    .dataframe tbody tr th {\n",
       "        vertical-align: top;\n",
       "    }\n",
       "\n",
       "    .dataframe thead th {\n",
       "        text-align: right;\n",
       "    }\n",
       "</style>\n",
       "<table border=\"1\" class=\"dataframe\">\n",
       "  <thead>\n",
       "    <tr style=\"text-align: right;\">\n",
       "      <th></th>\n",
       "      <th>Month</th>\n",
       "      <th>Day</th>\n",
       "      <th>Hour</th>\n",
       "      <th>Minute</th>\n",
       "      <th>Consumption-1</th>\n",
       "      <th>Consumption-2</th>\n",
       "      <th>Consumption</th>\n",
       "    </tr>\n",
       "    <tr>\n",
       "      <th>datetime</th>\n",
       "      <th></th>\n",
       "      <th></th>\n",
       "      <th></th>\n",
       "      <th></th>\n",
       "      <th></th>\n",
       "      <th></th>\n",
       "      <th></th>\n",
       "    </tr>\n",
       "  </thead>\n",
       "  <tbody>\n",
       "    <tr>\n",
       "      <th>2023-11-13 16:45:00</th>\n",
       "      <td>11.0</td>\n",
       "      <td>13.0</td>\n",
       "      <td>16.0</td>\n",
       "      <td>55.518325</td>\n",
       "      <td>0.000000</td>\n",
       "      <td>0.000000</td>\n",
       "      <td>2552.689687</td>\n",
       "    </tr>\n",
       "    <tr>\n",
       "      <th>2023-11-13 17:00:00</th>\n",
       "      <td>11.0</td>\n",
       "      <td>13.0</td>\n",
       "      <td>17.0</td>\n",
       "      <td>7.000000</td>\n",
       "      <td>2552.689687</td>\n",
       "      <td>0.000000</td>\n",
       "      <td>2462.121848</td>\n",
       "    </tr>\n",
       "    <tr>\n",
       "      <th>2023-11-13 17:15:00</th>\n",
       "      <td>11.0</td>\n",
       "      <td>13.0</td>\n",
       "      <td>17.0</td>\n",
       "      <td>22.000000</td>\n",
       "      <td>2462.121848</td>\n",
       "      <td>2552.689687</td>\n",
       "      <td>2423.559444</td>\n",
       "    </tr>\n",
       "    <tr>\n",
       "      <th>2023-11-13 17:30:00</th>\n",
       "      <td>11.0</td>\n",
       "      <td>13.0</td>\n",
       "      <td>17.0</td>\n",
       "      <td>37.000000</td>\n",
       "      <td>2423.559444</td>\n",
       "      <td>2462.121848</td>\n",
       "      <td>2377.870556</td>\n",
       "    </tr>\n",
       "    <tr>\n",
       "      <th>2023-11-13 17:45:00</th>\n",
       "      <td>11.0</td>\n",
       "      <td>13.0</td>\n",
       "      <td>17.0</td>\n",
       "      <td>52.000000</td>\n",
       "      <td>2377.870556</td>\n",
       "      <td>2423.559444</td>\n",
       "      <td>2216.674444</td>\n",
       "    </tr>\n",
       "    <tr>\n",
       "      <th>...</th>\n",
       "      <td>...</td>\n",
       "      <td>...</td>\n",
       "      <td>...</td>\n",
       "      <td>...</td>\n",
       "      <td>...</td>\n",
       "      <td>...</td>\n",
       "      <td>...</td>\n",
       "    </tr>\n",
       "    <tr>\n",
       "      <th>2023-11-14 15:45:00</th>\n",
       "      <td>11.0</td>\n",
       "      <td>14.0</td>\n",
       "      <td>15.0</td>\n",
       "      <td>52.000000</td>\n",
       "      <td>2984.654441</td>\n",
       "      <td>3126.559991</td>\n",
       "      <td>2979.488881</td>\n",
       "    </tr>\n",
       "    <tr>\n",
       "      <th>2023-11-14 16:00:00</th>\n",
       "      <td>11.0</td>\n",
       "      <td>14.0</td>\n",
       "      <td>16.0</td>\n",
       "      <td>6.805970</td>\n",
       "      <td>2979.488881</td>\n",
       "      <td>2984.654441</td>\n",
       "      <td>2941.008447</td>\n",
       "    </tr>\n",
       "    <tr>\n",
       "      <th>2023-11-14 16:15:00</th>\n",
       "      <td>11.0</td>\n",
       "      <td>14.0</td>\n",
       "      <td>16.0</td>\n",
       "      <td>22.000000</td>\n",
       "      <td>2941.008447</td>\n",
       "      <td>2979.488881</td>\n",
       "      <td>2838.018886</td>\n",
       "    </tr>\n",
       "    <tr>\n",
       "      <th>2023-11-14 16:30:00</th>\n",
       "      <td>11.0</td>\n",
       "      <td>14.0</td>\n",
       "      <td>16.0</td>\n",
       "      <td>37.000000</td>\n",
       "      <td>2838.018886</td>\n",
       "      <td>2941.008447</td>\n",
       "      <td>2795.329988</td>\n",
       "    </tr>\n",
       "    <tr>\n",
       "      <th>2023-11-14 16:45:00</th>\n",
       "      <td>11.0</td>\n",
       "      <td>14.0</td>\n",
       "      <td>16.0</td>\n",
       "      <td>48.047059</td>\n",
       "      <td>2795.329988</td>\n",
       "      <td>2838.018886</td>\n",
       "      <td>2760.464691</td>\n",
       "    </tr>\n",
       "  </tbody>\n",
       "</table>\n",
       "<p>97 rows × 7 columns</p>\n",
       "</div>"
      ],
      "text/plain": [
       "                     Month   Day  Hour     Minute  Consumption-1  \\\n",
       "datetime                                                           \n",
       "2023-11-13 16:45:00   11.0  13.0  16.0  55.518325       0.000000   \n",
       "2023-11-13 17:00:00   11.0  13.0  17.0   7.000000    2552.689687   \n",
       "2023-11-13 17:15:00   11.0  13.0  17.0  22.000000    2462.121848   \n",
       "2023-11-13 17:30:00   11.0  13.0  17.0  37.000000    2423.559444   \n",
       "2023-11-13 17:45:00   11.0  13.0  17.0  52.000000    2377.870556   \n",
       "...                    ...   ...   ...        ...            ...   \n",
       "2023-11-14 15:45:00   11.0  14.0  15.0  52.000000    2984.654441   \n",
       "2023-11-14 16:00:00   11.0  14.0  16.0   6.805970    2979.488881   \n",
       "2023-11-14 16:15:00   11.0  14.0  16.0  22.000000    2941.008447   \n",
       "2023-11-14 16:30:00   11.0  14.0  16.0  37.000000    2838.018886   \n",
       "2023-11-14 16:45:00   11.0  14.0  16.0  48.047059    2795.329988   \n",
       "\n",
       "                     Consumption-2  Consumption  \n",
       "datetime                                         \n",
       "2023-11-13 16:45:00       0.000000  2552.689687  \n",
       "2023-11-13 17:00:00       0.000000  2462.121848  \n",
       "2023-11-13 17:15:00    2552.689687  2423.559444  \n",
       "2023-11-13 17:30:00    2462.121848  2377.870556  \n",
       "2023-11-13 17:45:00    2423.559444  2216.674444  \n",
       "...                            ...          ...  \n",
       "2023-11-14 15:45:00    3126.559991  2979.488881  \n",
       "2023-11-14 16:00:00    2984.654441  2941.008447  \n",
       "2023-11-14 16:15:00    2979.488881  2838.018886  \n",
       "2023-11-14 16:30:00    2941.008447  2795.329988  \n",
       "2023-11-14 16:45:00    2838.018886  2760.464691  \n",
       "\n",
       "[97 rows x 7 columns]"
      ]
     },
     "execution_count": 15,
     "metadata": {},
     "output_type": "execute_result"
    }
   ],
   "source": [
    "import pandas as pd\n",
    "from database.BuildingRepository import BuildingRepository\n",
    "from datetime import datetime, timedelta\n",
    "\n",
    "building_repo = BuildingRepository()\n",
    "df_test = pd.DataFrame(building_repo.get_power_historic(datetime.now()-timedelta(hours=24)))\n",
    "df_test = df_test.drop(\"_id\", axis=1)\n",
    "\n",
    "df_test['datetime'] = pd.to_datetime(df_test['datetime'])\n",
    "# Calculate the datetime for 24 hours ago from the current time\n",
    "current_time = df_test['datetime'].max()\n",
    "twenty_four_hours_ago = current_time - timedelta(hours=24)\n",
    "\n",
    "# Filter the DataFrame to get only the rows for the last 24 hours\n",
    "last_24_hours_data = df_test[df_test['datetime'] >= twenty_four_hours_ago]\n",
    "\n",
    "last_24_hours_data['totalpower'] = pd.to_numeric(last_24_hours_data['totalpower'], errors='coerce')\n",
    "last_24_hours_data['Month'] = last_24_hours_data['datetime'].dt.month\n",
    "last_24_hours_data['Day'] = last_24_hours_data['datetime'].dt.day\n",
    "last_24_hours_data['Hour'] = last_24_hours_data['datetime'].dt.hour\n",
    "last_24_hours_data['Minute'] = last_24_hours_data['datetime'].dt.minute\n",
    "\n",
    "last_24_hours_data.rename(columns={'totalpower': 'Consumption'}, inplace=True)\n",
    "\n",
    "last_24_hours_data['datetime'] = pd.to_datetime(last_24_hours_data['datetime'], format='%Y-%m-%d %H:%M:%S', dayfirst=True)\n",
    "last_24_hours_data.set_index(\"datetime\", inplace=True)\n",
    "last_24_hours_data = last_24_hours_data.resample('15T').mean()\n",
    "\n",
    "last_24_hours_data.drop(['totalgeneration'], axis=1, inplace=True)\n",
    "\n",
    "last_24_hours_data = last_24_hours_data.dropna()\n",
    "last_24_hours_data['Consumption-1'] = last_24_hours_data['Consumption'].shift(1)\n",
    "last_24_hours_data.loc[last_24_hours_data['Day'] != last_24_hours_data['Day'].shift(1), 'Consumption-1'] = 0\n",
    "last_24_hours_data['Consumption-2'] = last_24_hours_data['Consumption'].shift(2)\n",
    "last_24_hours_data.loc[last_24_hours_data['Day'] != last_24_hours_data['Day'].shift(2), 'Consumption-2'] = 0\n",
    "#last_24_hours_data = last_24_hours_data[['Month', 'Day', 'Hour', 'Consumption-1', 'Consumption-2', 'Consumption']]\n",
    "last_24_hours_data = last_24_hours_data[['Month', 'Day', 'Hour', 'Minute', 'Consumption-1', 'Consumption-2', 'Consumption']]\n",
    "last_24_hours_data"
   ]
  },
  {
   "cell_type": "markdown",
   "metadata": {
    "collapsed": false
   },
   "source": [
    "Load model"
   ]
  },
  {
   "cell_type": "code",
   "execution_count": 16,
   "metadata": {
    "ExecuteTime": {
     "end_time": "2023-11-07T16:22:08.327203798Z",
     "start_time": "2023-11-07T16:22:08.322875294Z"
    }
   },
   "outputs": [
    {
     "name": "stdout",
     "output_type": "stream",
     "text": [
      "Len pred 97\n"
     ]
    }
   ],
   "source": [
    "import joblib\n",
    "\n",
    "# Load the scaler\n",
    "scaler_test = joblib.load('training_1/scaler.pkl')\n",
    "pred_scaler_test = joblib.load('training_1/pred_scaler.pkl')\n",
    "\n",
    "df_scaled = scaler_test.fit_transform(last_24_hours_data)\n",
    "\n",
    "print(\"Len pred\", int(len(df_scaled)))"
   ]
  },
  {
   "cell_type": "code",
   "execution_count": 17,
   "metadata": {
    "ExecuteTime": {
     "end_time": "2023-11-07T16:22:08.378973534Z",
     "start_time": "2023-11-07T16:22:08.328586943Z"
    }
   },
   "outputs": [
    {
     "name": "stdout",
     "output_type": "stream",
     "text": [
      "X_pred shape (94, 1, 6) timesteps 1\n",
      "X_pred shape (94, 1, 6) y_pred shape (94,)\n"
     ]
    }
   ],
   "source": [
    "import numpy as np\n",
    "timesteps = 1\n",
    "\n",
    "def prepare_data(data, time_steps):\n",
    "    X, y = [], []\n",
    "    for i in range(len(data) - time_steps - 2):\n",
    "        X.append(data[i:i + time_steps, :-1])  # Exclude the last column (Consumption)\n",
    "        y.append(data[i + time_steps, -1])  # The last column (Consumption) is the target\n",
    "    return np.array(X), np.array(y)\n",
    "\n",
    "X_pred, y = prepare_data(df_scaled, timesteps)\n",
    "\n",
    "print(\"X_pred shape\", X_pred.shape, \"timesteps\", timesteps)\n",
    "\n",
    "# reshape input to be [samples, time steps, features]\n",
    "X_pred = np.reshape(X_pred, (X_pred.shape[0], timesteps, X_pred.shape[2]))\n",
    "\n",
    "print(\"X_pred shape\", X_pred.shape, \"y_pred shape\", y.shape)"
   ]
  },
  {
   "cell_type": "markdown",
   "metadata": {
    "collapsed": false
   },
   "source": [
    "### load model"
   ]
  },
  {
   "cell_type": "code",
   "execution_count": 18,
   "metadata": {
    "ExecuteTime": {
     "end_time": "2023-11-07T16:22:10.103683471Z",
     "start_time": "2023-11-07T16:22:08.390609116Z"
    }
   },
   "outputs": [
    {
     "name": "stdout",
     "output_type": "stream",
     "text": [
      "3/3 [==============================] - 0s 3ms/step\n"
     ]
    }
   ],
   "source": [
    "import tensorflow as tf\n",
    "\n",
    "model = tf.keras.models.load_model('saved_model/consumption_forecast')\n",
    "y_pred = model.predict(X_pred)\n",
    "y_pred = pred_scaler_test.inverse_transform(y_pred)\n",
    "y = pred_scaler_test.inverse_transform(y.reshape(-1, 1))"
   ]
  },
  {
   "cell_type": "code",
   "execution_count": 19,
   "metadata": {
    "ExecuteTime": {
     "end_time": "2023-11-07T16:22:10.284424845Z",
     "start_time": "2023-11-07T16:22:10.124671616Z"
    }
   },
   "outputs": [
    {
     "data": {
      "image/png": "[encoded data removed]",
      "text/plain": [
       "<Figure size 1000x600 with 1 Axes>"
      ]
     },
     "metadata": {},
     "output_type": "display_data"
    }
   ],
   "source": [
    "import matplotlib.pyplot as plt\n",
    "\n",
    "# Plot predictions vs actual\n",
    "plt.figure(figsize=(10, 6))\n",
    "plt.plot(y, label='Actual', color='blue')\n",
    "plt.plot(y_pred, label='Pred', linestyle='dashed', color='red')\n",
    "\n",
    "plt.xlabel('Time Steps')\n",
    "plt.ylabel('Consumption')\n",
    "plt.legend()\n",
    "plt.show()\n"
   ]
  },
  {
   "cell_type": "code",
   "execution_count": 20,
   "metadata": {
    "ExecuteTime": {
     "end_time": "2023-11-07T16:22:10.305259497Z",
     "start_time": "2023-11-07T16:22:10.302914634Z"
    }
   },
   "outputs": [
    {
     "data": {
      "text/html": [
       "<div>\n",
       "<style scoped>\n",
       "    .dataframe tbody tr th:only-of-type {\n",
       "        vertical-align: middle;\n",
       "    }\n",
       "\n",
       "    .dataframe tbody tr th {\n",
       "        vertical-align: top;\n",
       "    }\n",
       "\n",
       "    .dataframe thead th {\n",
       "        text-align: right;\n",
       "    }\n",
       "</style>\n",
       "<table border=\"1\" class=\"dataframe\">\n",
       "  <thead>\n",
       "    <tr style=\"text-align: right;\">\n",
       "      <th></th>\n",
       "      <th>Consumption-1</th>\n",
       "      <th>Consumption-2</th>\n",
       "      <th>Consumption</th>\n",
       "      <th>Prediction</th>\n",
       "      <th>datetime</th>\n",
       "    </tr>\n",
       "    <tr>\n",
       "      <th>datetime</th>\n",
       "      <th></th>\n",
       "      <th></th>\n",
       "      <th></th>\n",
       "      <th></th>\n",
       "      <th></th>\n",
       "    </tr>\n",
       "  </thead>\n",
       "  <tbody>\n",
       "    <tr>\n",
       "      <th>2023-11-13 16:00:00</th>\n",
       "      <td>0.000000</td>\n",
       "      <td>0.000000</td>\n",
       "      <td>2552.689687</td>\n",
       "      <td>535.934204</td>\n",
       "      <td>2023-11-13 16:00:00</td>\n",
       "    </tr>\n",
       "    <tr>\n",
       "      <th>2023-11-13 17:00:00</th>\n",
       "      <td>2454.060384</td>\n",
       "      <td>1859.592745</td>\n",
       "      <td>2370.056573</td>\n",
       "      <td>3169.500488</td>\n",
       "      <td>2023-11-13 17:00:00</td>\n",
       "    </tr>\n",
       "    <tr>\n",
       "      <th>2023-11-13 18:00:00</th>\n",
       "      <td>1941.929179</td>\n",
       "      <td>2097.957929</td>\n",
       "      <td>1822.903623</td>\n",
       "      <td>2591.415283</td>\n",
       "      <td>2023-11-13 18:00:00</td>\n",
       "    </tr>\n",
       "    <tr>\n",
       "      <th>2023-11-13 19:00:00</th>\n",
       "      <td>1691.100000</td>\n",
       "      <td>1718.643056</td>\n",
       "      <td>1625.275694</td>\n",
       "      <td>2203.653320</td>\n",
       "      <td>2023-11-13 19:00:00</td>\n",
       "    </tr>\n",
       "    <tr>\n",
       "      <th>2023-11-13 20:00:00</th>\n",
       "      <td>1388.809722</td>\n",
       "      <td>1458.942361</td>\n",
       "      <td>1358.180556</td>\n",
       "      <td>1811.792969</td>\n",
       "      <td>2023-11-13 20:00:00</td>\n",
       "    </tr>\n",
       "    <tr>\n",
       "      <th>2023-11-13 21:00:00</th>\n",
       "      <td>1390.882639</td>\n",
       "      <td>1380.660417</td>\n",
       "      <td>1391.840972</td>\n",
       "      <td>1785.210693</td>\n",
       "      <td>2023-11-13 21:00:00</td>\n",
       "    </tr>\n",
       "    <tr>\n",
       "      <th>2023-11-13 22:00:00</th>\n",
       "      <td>1356.494444</td>\n",
       "      <td>1368.085417</td>\n",
       "      <td>1356.404861</td>\n",
       "      <td>1731.028320</td>\n",
       "      <td>2023-11-13 22:00:00</td>\n",
       "    </tr>\n",
       "    <tr>\n",
       "      <th>2023-11-13 23:00:00</th>\n",
       "      <td>1370.047917</td>\n",
       "      <td>1358.920833</td>\n",
       "      <td>1379.663889</td>\n",
       "      <td>1727.007568</td>\n",
       "      <td>2023-11-13 23:00:00</td>\n",
       "    </tr>\n",
       "    <tr>\n",
       "      <th>2023-11-14 00:00:00</th>\n",
       "      <td>1023.059028</td>\n",
       "      <td>684.431944</td>\n",
       "      <td>1362.761111</td>\n",
       "      <td>1482.540161</td>\n",
       "      <td>2023-11-14 00:00:00</td>\n",
       "    </tr>\n",
       "    <tr>\n",
       "      <th>2023-11-14 01:00:00</th>\n",
       "      <td>1356.526389</td>\n",
       "      <td>1356.559028</td>\n",
       "      <td>1359.001389</td>\n",
       "      <td>1798.336914</td>\n",
       "      <td>2023-11-14 01:00:00</td>\n",
       "    </tr>\n",
       "    <tr>\n",
       "      <th>2023-11-14 02:00:00</th>\n",
       "      <td>1389.540972</td>\n",
       "      <td>1382.605556</td>\n",
       "      <td>1386.352778</td>\n",
       "      <td>1847.703491</td>\n",
       "      <td>2023-11-14 02:00:00</td>\n",
       "    </tr>\n",
       "    <tr>\n",
       "      <th>2023-11-14 03:00:00</th>\n",
       "      <td>1356.374306</td>\n",
       "      <td>1363.309028</td>\n",
       "      <td>1355.376389</td>\n",
       "      <td>1825.606201</td>\n",
       "      <td>2023-11-14 03:00:00</td>\n",
       "    </tr>\n",
       "    <tr>\n",
       "      <th>2023-11-14 04:00:00</th>\n",
       "      <td>1369.832639</td>\n",
       "      <td>1356.327083</td>\n",
       "      <td>1382.061806</td>\n",
       "      <td>1850.013550</td>\n",
       "      <td>2023-11-14 04:00:00</td>\n",
       "    </tr>\n",
       "    <tr>\n",
       "      <th>2023-11-14 05:00:00</th>\n",
       "      <td>1375.259028</td>\n",
       "      <td>1388.021528</td>\n",
       "      <td>1363.784028</td>\n",
       "      <td>1869.434692</td>\n",
       "      <td>2023-11-14 05:00:00</td>\n",
       "    </tr>\n",
       "    <tr>\n",
       "      <th>2023-11-14 06:00:00</th>\n",
       "      <td>1356.410417</td>\n",
       "      <td>1355.795833</td>\n",
       "      <td>1356.493056</td>\n",
       "      <td>1855.145508</td>\n",
       "      <td>2023-11-14 06:00:00</td>\n",
       "    </tr>\n",
       "    <tr>\n",
       "      <th>2023-11-14 07:00:00</th>\n",
       "      <td>1386.803472</td>\n",
       "      <td>1376.838889</td>\n",
       "      <td>1386.018750</td>\n",
       "      <td>1895.853760</td>\n",
       "      <td>2023-11-14 07:00:00</td>\n",
       "    </tr>\n",
       "    <tr>\n",
       "      <th>2023-11-14 08:00:00</th>\n",
       "      <td>1358.155556</td>\n",
       "      <td>1365.127778</td>\n",
       "      <td>1381.384023</td>\n",
       "      <td>1871.045410</td>\n",
       "      <td>2023-11-14 08:00:00</td>\n",
       "    </tr>\n",
       "    <tr>\n",
       "      <th>2023-11-14 09:00:00</th>\n",
       "      <td>1544.484532</td>\n",
       "      <td>1467.403283</td>\n",
       "      <td>1616.163009</td>\n",
       "      <td>2087.499512</td>\n",
       "      <td>2023-11-14 09:00:00</td>\n",
       "    </tr>\n",
       "    <tr>\n",
       "      <th>2023-11-14 10:00:00</th>\n",
       "      <td>2028.830413</td>\n",
       "      <td>1854.814442</td>\n",
       "      <td>2185.387635</td>\n",
       "      <td>2716.261230</td>\n",
       "      <td>2023-11-14 10:00:00</td>\n",
       "    </tr>\n",
       "    <tr>\n",
       "      <th>2023-11-14 11:00:00</th>\n",
       "      <td>2465.960591</td>\n",
       "      <td>2437.477258</td>\n",
       "      <td>2511.105452</td>\n",
       "      <td>3390.534912</td>\n",
       "      <td>2023-11-14 11:00:00</td>\n",
       "    </tr>\n",
       "    <tr>\n",
       "      <th>2023-11-14 12:00:00</th>\n",
       "      <td>2406.849712</td>\n",
       "      <td>2463.926248</td>\n",
       "      <td>2228.003046</td>\n",
       "      <td>3332.334717</td>\n",
       "      <td>2023-11-14 12:00:00</td>\n",
       "    </tr>\n",
       "    <tr>\n",
       "      <th>2023-11-14 13:00:00</th>\n",
       "      <td>2433.301388</td>\n",
       "      <td>2268.433463</td>\n",
       "      <td>2709.885045</td>\n",
       "      <td>3335.854980</td>\n",
       "      <td>2023-11-14 13:00:00</td>\n",
       "    </tr>\n",
       "    <tr>\n",
       "      <th>2023-11-14 14:00:00</th>\n",
       "      <td>2947.812124</td>\n",
       "      <td>2957.975042</td>\n",
       "      <td>2945.182076</td>\n",
       "      <td>4207.744629</td>\n",
       "      <td>2023-11-14 14:00:00</td>\n",
       "    </tr>\n",
       "    <tr>\n",
       "      <th>2023-11-14 15:00:00</th>\n",
       "      <td>3010.153210</td>\n",
       "      <td>2984.143765</td>\n",
       "      <td>3025.266405</td>\n",
       "      <td>4312.638672</td>\n",
       "      <td>2023-11-14 15:00:00</td>\n",
       "    </tr>\n",
       "    <tr>\n",
       "      <th>2023-11-14 16:00:00</th>\n",
       "      <td>2979.488881</td>\n",
       "      <td>2984.654441</td>\n",
       "      <td>2941.008447</td>\n",
       "      <td>4390.922852</td>\n",
       "      <td>2023-11-14 16:00:00</td>\n",
       "    </tr>\n",
       "  </tbody>\n",
       "</table>\n",
       "</div>"
      ],
      "text/plain": [
       "                     Consumption-1  Consumption-2  Consumption   Prediction  \\\n",
       "datetime                                                                      \n",
       "2023-11-13 16:00:00       0.000000       0.000000  2552.689687   535.934204   \n",
       "2023-11-13 17:00:00    2454.060384    1859.592745  2370.056573  3169.500488   \n",
       "2023-11-13 18:00:00    1941.929179    2097.957929  1822.903623  2591.415283   \n",
       "2023-11-13 19:00:00    1691.100000    1718.643056  1625.275694  2203.653320   \n",
       "2023-11-13 20:00:00    1388.809722    1458.942361  1358.180556  1811.792969   \n",
       "2023-11-13 21:00:00    1390.882639    1380.660417  1391.840972  1785.210693   \n",
       "2023-11-13 22:00:00    1356.494444    1368.085417  1356.404861  1731.028320   \n",
       "2023-11-13 23:00:00    1370.047917    1358.920833  1379.663889  1727.007568   \n",
       "2023-11-14 00:00:00    1023.059028     684.431944  1362.761111  1482.540161   \n",
       "2023-11-14 01:00:00    1356.526389    1356.559028  1359.001389  1798.336914   \n",
       "2023-11-14 02:00:00    1389.540972    1382.605556  1386.352778  1847.703491   \n",
       "2023-11-14 03:00:00    1356.374306    1363.309028  1355.376389  1825.606201   \n",
       "2023-11-14 04:00:00    1369.832639    1356.327083  1382.061806  1850.013550   \n",
       "2023-11-14 05:00:00    1375.259028    1388.021528  1363.784028  1869.434692   \n",
       "2023-11-14 06:00:00    1356.410417    1355.795833  1356.493056  1855.145508   \n",
       "2023-11-14 07:00:00    1386.803472    1376.838889  1386.018750  1895.853760   \n",
       "2023-11-14 08:00:00    1358.155556    1365.127778  1381.384023  1871.045410   \n",
       "2023-11-14 09:00:00    1544.484532    1467.403283  1616.163009  2087.499512   \n",
       "2023-11-14 10:00:00    2028.830413    1854.814442  2185.387635  2716.261230   \n",
       "2023-11-14 11:00:00    2465.960591    2437.477258  2511.105452  3390.534912   \n",
       "2023-11-14 12:00:00    2406.849712    2463.926248  2228.003046  3332.334717   \n",
       "2023-11-14 13:00:00    2433.301388    2268.433463  2709.885045  3335.854980   \n",
       "2023-11-14 14:00:00    2947.812124    2957.975042  2945.182076  4207.744629   \n",
       "2023-11-14 15:00:00    3010.153210    2984.143765  3025.266405  4312.638672   \n",
       "2023-11-14 16:00:00    2979.488881    2984.654441  2941.008447  4390.922852   \n",
       "\n",
       "                               datetime  \n",
       "datetime                                 \n",
       "2023-11-13 16:00:00 2023-11-13 16:00:00  \n",
       "2023-11-13 17:00:00 2023-11-13 17:00:00  \n",
       "2023-11-13 18:00:00 2023-11-13 18:00:00  \n",
       "2023-11-13 19:00:00 2023-11-13 19:00:00  \n",
       "2023-11-13 20:00:00 2023-11-13 20:00:00  \n",
       "2023-11-13 21:00:00 2023-11-13 21:00:00  \n",
       "2023-11-13 22:00:00 2023-11-13 22:00:00  \n",
       "2023-11-13 23:00:00 2023-11-13 23:00:00  \n",
       "2023-11-14 00:00:00 2023-11-14 00:00:00  \n",
       "2023-11-14 01:00:00 2023-11-14 01:00:00  \n",
       "2023-11-14 02:00:00 2023-11-14 02:00:00  \n",
       "2023-11-14 03:00:00 2023-11-14 03:00:00  \n",
       "2023-11-14 04:00:00 2023-11-14 04:00:00  \n",
       "2023-11-14 05:00:00 2023-11-14 05:00:00  \n",
       "2023-11-14 06:00:00 2023-11-14 06:00:00  \n",
       "2023-11-14 07:00:00 2023-11-14 07:00:00  \n",
       "2023-11-14 08:00:00 2023-11-14 08:00:00  \n",
       "2023-11-14 09:00:00 2023-11-14 09:00:00  \n",
       "2023-11-14 10:00:00 2023-11-14 10:00:00  \n",
       "2023-11-14 11:00:00 2023-11-14 11:00:00  \n",
       "2023-11-14 12:00:00 2023-11-14 12:00:00  \n",
       "2023-11-14 13:00:00 2023-11-14 13:00:00  \n",
       "2023-11-14 14:00:00 2023-11-14 14:00:00  \n",
       "2023-11-14 15:00:00 2023-11-14 15:00:00  \n",
       "2023-11-14 16:00:00 2023-11-14 16:00:00  "
      ]
     },
     "execution_count": 20,
     "metadata": {},
     "output_type": "execute_result"
    }
   ],
   "source": [
    "last = scaler_test.inverse_transform(df_scaled[:-3])\n",
    "\n",
    "df = pd.DataFrame(last, columns=['Month', 'Day', 'Hour', 'Minute', 'Consumption-1', 'Consumption-2', 'Consumption'])\n",
    "df['Prediction'] = y_pred\n",
    "df['datetime'] = pd.to_datetime(df[['Month', 'Day', 'Hour', 'Minute']].assign(Year=2023))\n",
    "\n",
    "# Drop the separate columns if needed\n",
    "df.drop(['Month', 'Day', 'Hour', 'Minute'], axis=1, inplace=True)\n",
    "\n",
    "df.set_index(\"datetime\", inplace=True)\n",
    "df = df.resample('1H').mean()\n",
    "df[\"datetime\"] = df.index\n",
    "# Now, 'datetime' contains the combined datetime values\n",
    "df"
   ]
  }
 ],
 "metadata": {
  "kernelspec": {
   "display_name": "tiocps",
   "language": "python",
   "name": "python3"
  },
  "language_info": {
   "codemirror_mode": {
    "name": "ipython",
    "version": 3
   },
   "file_extension": ".py",
   "mimetype": "text/x-python",
   "name": "python",
   "nbconvert_exporter": "python",
   "pygments_lexer": "ipython3",
   "version": "3.10.13"
  },
  "orig_nbformat": 4
 },
 "nbformat": 4,
 "nbformat_minor": 2
}
