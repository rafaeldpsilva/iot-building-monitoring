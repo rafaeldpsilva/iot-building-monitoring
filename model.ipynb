{
 "cells": [
  {
   "cell_type": "code",
   "execution_count": 1,
   "metadata": {
    "ExecuteTime": {
     "end_time": "2023-09-29T16:30:16.977165432Z",
     "start_time": "2023-09-29T16:30:10.610907732Z"
    }
   },
   "outputs": [
    {
     "name": "stdout",
     "output_type": "stream",
     "text": [
      "       totalpower  totalgeneration                datetime\n",
      "0          2185.6            664.5 2023-10-02 11:03:01.147\n",
      "1          3438.0            664.5 2023-10-02 11:03:00.481\n",
      "2          2165.8            659.0 2023-10-02 11:02:56.145\n",
      "3          3388.0            656.5 2023-10-02 11:02:55.714\n",
      "4          2130.6            653.5 2023-10-02 11:02:51.151\n",
      "...           ...              ...                     ...\n",
      "99995      3519.0           2007.0 2023-09-29 13:43:16.468\n",
      "99996      2925.2           2007.0 2023-09-29 13:43:16.124\n",
      "99997      3470.0           2010.5 2023-09-29 13:43:11.459\n",
      "99998      2928.4           2012.0 2023-09-29 13:43:11.115\n",
      "99999      3473.0           2006.0 2023-09-29 13:43:06.505\n",
      "\n",
      "[100000 rows x 3 columns]\n"
     ]
    },
    {
     "data": {
      "text/html": [
       "<div>\n",
       "<style scoped>\n",
       "    .dataframe tbody tr th:only-of-type {\n",
       "        vertical-align: middle;\n",
       "    }\n",
       "\n",
       "    .dataframe tbody tr th {\n",
       "        vertical-align: top;\n",
       "    }\n",
       "\n",
       "    .dataframe thead th {\n",
       "        text-align: right;\n",
       "    }\n",
       "</style>\n",
       "<table border=\"1\" class=\"dataframe\">\n",
       "  <thead>\n",
       "    <tr style=\"text-align: right;\">\n",
       "      <th></th>\n",
       "      <th>Month</th>\n",
       "      <th>Day</th>\n",
       "      <th>Hour</th>\n",
       "      <th>Minute</th>\n",
       "      <th>Consumption-1</th>\n",
       "      <th>Consumption-2</th>\n",
       "      <th>Consumption</th>\n",
       "    </tr>\n",
       "  </thead>\n",
       "  <tbody>\n",
       "    <tr>\n",
       "      <th>0</th>\n",
       "      <td>10</td>\n",
       "      <td>2</td>\n",
       "      <td>11</td>\n",
       "      <td>3</td>\n",
       "      <td>0.0</td>\n",
       "      <td>0.0</td>\n",
       "      <td>2185.6</td>\n",
       "    </tr>\n",
       "    <tr>\n",
       "      <th>1</th>\n",
       "      <td>10</td>\n",
       "      <td>2</td>\n",
       "      <td>11</td>\n",
       "      <td>3</td>\n",
       "      <td>2185.6</td>\n",
       "      <td>0.0</td>\n",
       "      <td>3438.0</td>\n",
       "    </tr>\n",
       "    <tr>\n",
       "      <th>2</th>\n",
       "      <td>10</td>\n",
       "      <td>2</td>\n",
       "      <td>11</td>\n",
       "      <td>2</td>\n",
       "      <td>3438.0</td>\n",
       "      <td>2185.6</td>\n",
       "      <td>2165.8</td>\n",
       "    </tr>\n",
       "    <tr>\n",
       "      <th>3</th>\n",
       "      <td>10</td>\n",
       "      <td>2</td>\n",
       "      <td>11</td>\n",
       "      <td>2</td>\n",
       "      <td>2165.8</td>\n",
       "      <td>3438.0</td>\n",
       "      <td>3388.0</td>\n",
       "    </tr>\n",
       "    <tr>\n",
       "      <th>4</th>\n",
       "      <td>10</td>\n",
       "      <td>2</td>\n",
       "      <td>11</td>\n",
       "      <td>2</td>\n",
       "      <td>3388.0</td>\n",
       "      <td>2165.8</td>\n",
       "      <td>2130.6</td>\n",
       "    </tr>\n",
       "    <tr>\n",
       "      <th>...</th>\n",
       "      <td>...</td>\n",
       "      <td>...</td>\n",
       "      <td>...</td>\n",
       "      <td>...</td>\n",
       "      <td>...</td>\n",
       "      <td>...</td>\n",
       "      <td>...</td>\n",
       "    </tr>\n",
       "    <tr>\n",
       "      <th>99995</th>\n",
       "      <td>9</td>\n",
       "      <td>29</td>\n",
       "      <td>13</td>\n",
       "      <td>43</td>\n",
       "      <td>2927.4</td>\n",
       "      <td>3583.0</td>\n",
       "      <td>3519.0</td>\n",
       "    </tr>\n",
       "    <tr>\n",
       "      <th>99996</th>\n",
       "      <td>9</td>\n",
       "      <td>29</td>\n",
       "      <td>13</td>\n",
       "      <td>43</td>\n",
       "      <td>3519.0</td>\n",
       "      <td>2927.4</td>\n",
       "      <td>2925.2</td>\n",
       "    </tr>\n",
       "    <tr>\n",
       "      <th>99997</th>\n",
       "      <td>9</td>\n",
       "      <td>29</td>\n",
       "      <td>13</td>\n",
       "      <td>43</td>\n",
       "      <td>2925.2</td>\n",
       "      <td>3519.0</td>\n",
       "      <td>3470.0</td>\n",
       "    </tr>\n",
       "    <tr>\n",
       "      <th>99998</th>\n",
       "      <td>9</td>\n",
       "      <td>29</td>\n",
       "      <td>13</td>\n",
       "      <td>43</td>\n",
       "      <td>3470.0</td>\n",
       "      <td>2925.2</td>\n",
       "      <td>2928.4</td>\n",
       "    </tr>\n",
       "    <tr>\n",
       "      <th>99999</th>\n",
       "      <td>9</td>\n",
       "      <td>29</td>\n",
       "      <td>13</td>\n",
       "      <td>43</td>\n",
       "      <td>2928.4</td>\n",
       "      <td>3470.0</td>\n",
       "      <td>3473.0</td>\n",
       "    </tr>\n",
       "  </tbody>\n",
       "</table>\n",
       "<p>100000 rows × 7 columns</p>\n",
       "</div>"
      ],
      "text/plain": [
       "       Month  Day  Hour  Minute  Consumption-1  Consumption-2  Consumption\n",
       "0         10    2    11       3            0.0            0.0       2185.6\n",
       "1         10    2    11       3         2185.6            0.0       3438.0\n",
       "2         10    2    11       2         3438.0         2185.6       2165.8\n",
       "3         10    2    11       2         2165.8         3438.0       3388.0\n",
       "4         10    2    11       2         3388.0         2165.8       2130.6\n",
       "...      ...  ...   ...     ...            ...            ...          ...\n",
       "99995      9   29    13      43         2927.4         3583.0       3519.0\n",
       "99996      9   29    13      43         3519.0         2927.4       2925.2\n",
       "99997      9   29    13      43         2925.2         3519.0       3470.0\n",
       "99998      9   29    13      43         3470.0         2925.2       2928.4\n",
       "99999      9   29    13      43         2928.4         3470.0       3473.0\n",
       "\n",
       "[100000 rows x 7 columns]"
      ]
     },
     "execution_count": 1,
     "metadata": {},
     "output_type": "execute_result"
    }
   ],
   "source": [
    "import pandas as pd\n",
    "from database.BuildingRepository import BuildingRepository\n",
    "from pandas.api.types import is_numeric_dtype\n",
    "\n",
    "building_repo = BuildingRepository()\n",
    "df = pd.DataFrame(building_repo.get_totalpower_col())\n",
    "df = df.drop(\"_id\", axis=1)\n",
    "print(df)\n",
    "df['datetime'] = pd.to_datetime(df['datetime'])\n",
    "\n",
    "#df.set_index(\"datetime\", inplace=True)\n",
    "#df = df.resample('1H').mean()\n",
    "#df[\"datetime\"] = df.index\n",
    "\n",
    "df['totalpower'] = pd.to_numeric(df['totalpower'], errors='coerce')\n",
    "df['Month'] = df['datetime'].dt.month\n",
    "df['Day'] = df['datetime'].dt.day\n",
    "df['Hour'] = df['datetime'].dt.hour\n",
    "df['Minute'] = df['datetime'].dt.minute\n",
    "\n",
    "df.rename(columns={'totalpower': 'Consumption'}, inplace=True)\n",
    "df.drop(['datetime', 'totalgeneration'], axis=1, inplace=True)\n",
    "\n",
    "df = df.dropna()\n",
    "df['Consumption-1'] = df['Consumption'].shift(1)\n",
    "df.loc[df['Day'] != df['Day'].shift(1), 'Consumption-1'] = 0\n",
    "df['Consumption-2'] = df['Consumption'].shift(2)\n",
    "df.loc[df['Day'] != df['Day'].shift(2), 'Consumption-2'] = 0\n",
    "#df = df[['Month', 'Day', 'Hour', 'Consumption-1', 'Consumption-2', 'Consumption']]\n",
    "df = df[['Month', 'Day', 'Hour', 'Minute', 'Consumption-1', 'Consumption-2', 'Consumption']]\n",
    "df"
   ]
  },
  {
   "cell_type": "code",
   "execution_count": 2,
   "metadata": {
    "ExecuteTime": {
     "end_time": "2023-09-29T16:30:17.032496768Z",
     "start_time": "2023-09-29T16:30:16.953376382Z"
    }
   },
   "outputs": [
    {
     "name": "stdout",
     "output_type": "stream",
     "text": [
      "Len train 80000 Len test 20000\n"
     ]
    }
   ],
   "source": [
    "from sklearn.preprocessing import MinMaxScaler\n",
    "import numpy as np\n",
    "\n",
    "# Data preprocessing - Scaling using MinMaxScaler\n",
    "scaler = MinMaxScaler(feature_range=(0, 1))\n",
    "df_scaled = scaler.fit_transform(df)\n",
    "pred_scaler = MinMaxScaler(feature_range=(0, 1))\n",
    "y_scaled = pred_scaler.fit_transform(np.array(df['Consumption']).reshape(-1, 1))\n",
    "\n",
    "# split into train and test sets\n",
    "train_size = int(len(df_scaled) * 0.8)\n",
    "test_size = len(df_scaled) - train_size\n",
    "train, test = df_scaled[0:train_size, :], df_scaled[train_size:len(df_scaled), :]\n",
    "print(\"Len train\", len(train), \"Len test\", len(test))"
   ]
  },
  {
   "cell_type": "code",
   "execution_count": 3,
   "metadata": {
    "ExecuteTime": {
     "end_time": "2023-09-29T16:31:03.530531865Z",
     "start_time": "2023-09-29T16:31:03.470033246Z"
    }
   },
   "outputs": [
    {
     "data": {
      "text/plain": [
       "['training_1/pred_scaler.pkl']"
      ]
     },
     "execution_count": 3,
     "metadata": {},
     "output_type": "execute_result"
    }
   ],
   "source": [
    "import joblib\n",
    "\n",
    "# Assuming you have a scaler object named 'scaler'\n",
    "joblib.dump(scaler, 'training_1/scaler.pkl')\n",
    "joblib.dump(pred_scaler, 'training_1/pred_scaler.pkl')"
   ]
  },
  {
   "cell_type": "code",
   "execution_count": 4,
   "metadata": {
    "ExecuteTime": {
     "end_time": "2023-09-29T16:12:33.326869059Z",
     "start_time": "2023-09-29T16:12:33.158725495Z"
    }
   },
   "outputs": [
    {
     "name": "stdout",
     "output_type": "stream",
     "text": [
      "X_train shape (79997, 1, 6) timesteps 1\n",
      "X_test shape (19997, 1, 6) timesteps 1\n",
      "X_train shape (79997, 1, 6) y_train shape (79997,)\n",
      "X_test shape (19997, 1, 6) y_test shape (19997,)\n"
     ]
    }
   ],
   "source": [
    "import numpy as np\n",
    "\n",
    "# Prepare data for LSTM (sequence-to-sequence)\n",
    "def prepare_data(data, time_steps):\n",
    "    X, y = [], []\n",
    "    for i in range(len(data) - time_steps - 2):\n",
    "        X.append(data[i:i + time_steps, :-1])  # Exclude the last column (Consumption)\n",
    "        y.append(data[i + time_steps, -1])  # The last column (Consumption) is the target\n",
    "    return np.array(X), np.array(y)\n",
    "\n",
    "\n",
    "timesteps = 1\n",
    "X_train, y_train = prepare_data(train, timesteps)\n",
    "X_test, y_test = prepare_data(test, timesteps)\n",
    "\n",
    "print(\"X_train shape\", X_train.shape, \"timesteps\", timesteps)\n",
    "print(\"X_test shape\", X_test.shape, \"timesteps\", timesteps)\n",
    "\n",
    "# reshape input to be [samples, time steps, features]\n",
    "X_train = np.reshape(X_train, (X_train.shape[0], timesteps, X_train.shape[2]))\n",
    "X_test = np.reshape(X_test, (X_test.shape[0], timesteps, X_test.shape[2]))\n",
    "\n",
    "print(\"X_train shape\", X_train.shape, \"y_train shape\", y_train.shape)\n",
    "print(\"X_test shape\", X_test.shape, \"y_test shape\", y_test.shape)"
   ]
  },
  {
   "cell_type": "code",
   "execution_count": 5,
   "metadata": {
    "ExecuteTime": {
     "end_time": "2023-09-29T16:12:56.517274515Z",
     "start_time": "2023-09-29T16:12:53.890163452Z"
    }
   },
   "outputs": [
    {
     "name": "stdout",
     "output_type": "stream",
     "text": [
      "1 6\n",
      "Model: \"sequential\"\n",
      "_________________________________________________________________\n",
      " Layer (type)                Output Shape              Param #   \n",
      "=================================================================\n",
      " lstm (LSTM)                 (None, 4)                 176       \n",
      "                                                                 \n",
      " dense (Dense)               (None, 1)                 5         \n",
      "                                                                 \n",
      "=================================================================\n",
      "Total params: 181\n",
      "Trainable params: 181\n",
      "Non-trainable params: 0\n",
      "_________________________________________________________________\n"
     ]
    }
   ],
   "source": [
    "from keras.models import Sequential\n",
    "from keras.layers import LSTM, Dense\n",
    "import tensorflow as tf\n",
    "\n",
    "def create_model():\n",
    "    # LSTM model\n",
    "    model = Sequential()\n",
    "    print(timesteps, X_train.shape[2])\n",
    "    model.add(LSTM(units=4, input_shape=(timesteps, X_train.shape[2])))\n",
    "    model.add(Dense(units=1))  # Use the original number of features as the output units\n",
    "    model.compile(optimizer='adam', loss='mean_squared_error',metrics=[tf.metrics.Accuracy(), 'mae', 'mse'])\n",
    "\n",
    "    return model\n",
    "\n",
    "model = create_model()\n",
    "\n",
    "# Display the model's architecture\n",
    "model.summary()"
   ]
  },
  {
   "cell_type": "code",
   "execution_count": 6,
   "metadata": {
    "ExecuteTime": {
     "end_time": "2023-09-29T16:15:54.244930403Z",
     "start_time": "2023-09-29T16:13:50.920411595Z"
    }
   },
   "outputs": [
    {
     "name": "stdout",
     "output_type": "stream",
     "text": [
      "79992/79997 [============================>.] - ETA: 0s - loss: 3.1043e-04 - accuracy: 0.0000e+00 - mae: 0.0076 - mse: 3.1043e-04\n",
      "Epoch 1: saving model to training_1\\cp.ckpt\n",
      "79997/79997 [==============================] - 387s 5ms/step - loss: 3.1041e-04 - accuracy: 0.0000e+00 - mae: 0.0076 - mse: 3.1041e-04\n"
     ]
    },
    {
     "data": {
      "text/plain": [
       "<keras.callbacks.History at 0x718347a700>"
      ]
     },
     "execution_count": 6,
     "metadata": {},
     "output_type": "execute_result"
    }
   ],
   "source": [
    "import os\n",
    "\n",
    "checkpoint_path = \"training_1/cp.ckpt\"\n",
    "checkpoint_dir = os.path.dirname(checkpoint_path)\n",
    "\n",
    "# Create a callback that saves the model's weights\n",
    "cp_callback = tf.keras.callbacks.ModelCheckpoint(filepath=checkpoint_path,\n",
    "                                                 save_weights_only=True,\n",
    "                                                 verbose=1)\n",
    "\n",
    "# Train the model\n",
    "model.fit(X_train, y_train, epochs=1, batch_size=1, verbose=1, callbacks=[cp_callback])"
   ]
  },
  {
   "cell_type": "code",
   "execution_count": 7,
   "metadata": {
    "ExecuteTime": {
     "end_time": "2023-09-29T16:18:44.163883489Z",
     "start_time": "2023-09-29T16:18:44.122269248Z"
    }
   },
   "outputs": [
    {
     "data": {
      "text/plain": [
       "array([0.13212307, 0.05107104, 0.13212307, ..., 0.53924407, 0.41646679,\n",
       "       0.52911256])"
      ]
     },
     "execution_count": 7,
     "metadata": {},
     "output_type": "execute_result"
    }
   ],
   "source": [
    "y_test"
   ]
  },
  {
   "cell_type": "code",
   "execution_count": 8,
   "metadata": {
    "ExecuteTime": {
     "end_time": "2023-09-29T16:18:54.314986750Z",
     "start_time": "2023-09-29T16:18:47.414904978Z"
    }
   },
   "outputs": [
    {
     "name": "stdout",
     "output_type": "stream",
     "text": [
      "625/625 - 3s - loss: 4.3401e-04 - accuracy: 0.0000e+00 - mae: 0.0087 - mse: 4.3401e-04 - 3s/epoch - 5ms/step\n",
      "Trained model, accuracy:  0.00%, mae:  0.01%, mse:  0.00%\n"
     ]
    },
    {
     "name": "stderr",
     "output_type": "stream",
     "text": [
      "WARNING:absl:Found untraced functions such as _update_step_xla, lstm_cell_layer_call_fn, lstm_cell_layer_call_and_return_conditional_losses while saving (showing 3 of 3). These functions will not be directly callable after loading.\n"
     ]
    },
    {
     "name": "stdout",
     "output_type": "stream",
     "text": [
      "INFO:tensorflow:Assets written to: saved_model/consumption_forecast\\assets\n"
     ]
    },
    {
     "name": "stderr",
     "output_type": "stream",
     "text": [
      "INFO:tensorflow:Assets written to: saved_model/consumption_forecast\\assets\n"
     ]
    },
    {
     "name": "stdout",
     "output_type": "stream",
     "text": [
      "2500/2500 [==============================] - 10s 3ms/step\n",
      "625/625 [==============================] - 2s 3ms/step\n",
      "Original DataFrame:\n",
      "y_train_inv.shape (79997, 1) y_train_pred.shape (79997, 1)\n"
     ]
    }
   ],
   "source": [
    "# Evaluate the model\n",
    "loss, acc, mae, mse = model.evaluate(X_test, y_test, verbose=2)\n",
    "print(\"Trained model, accuracy: {:5.2f}%, mae: {:5.2f}%, mse: {:5.2f}%\".format(100 * acc, mae, mse))\n",
    "\n",
    "model.save('saved_model/consumption_forecast')\n",
    "\n",
    "y_train_inv = pred_scaler.inverse_transform(y_train.reshape(-1, 1))\n",
    "y_test_inv = pred_scaler.inverse_transform(y_test.reshape(-1, 1))\n",
    "\n",
    "# Make predictions on train and test sets\n",
    "y_train_pred = model.predict(X_train)\n",
    "y_train_pred = pred_scaler.inverse_transform(y_train_pred)\n",
    "\n",
    "y_test_pred = model.predict(X_test)\n",
    "y_test_pred = pred_scaler.inverse_transform(y_test_pred)\n",
    "\n",
    "# Display the original DataFrame and the predicted values after inverse scaling for train and test sets\n",
    "print(\"Original DataFrame:\")\n",
    "print(\"y_train_inv.shape\", y_train_inv.shape, \"y_train_pred.shape\", y_train_pred.shape)"
   ]
  },
  {
   "cell_type": "code",
   "execution_count": 9,
   "metadata": {
    "ExecuteTime": {
     "end_time": "2023-09-29T16:18:59.451079479Z",
     "start_time": "2023-09-29T16:18:59.428523643Z"
    }
   },
   "outputs": [],
   "source": [
    "model.save_weights('./checkpoints/my_checkpoint')"
   ]
  },
  {
   "cell_type": "code",
   "execution_count": 10,
   "metadata": {
    "ExecuteTime": {
     "end_time": "2023-09-29T16:19:03.841651334Z",
     "start_time": "2023-09-29T16:19:02.336152900Z"
    }
   },
   "outputs": [
    {
     "name": "stdout",
     "output_type": "stream",
     "text": [
      "1 6\n",
      "625/625 - 3s - loss: 0.1116 - accuracy: 0.0000e+00 - mae: 0.2387 - mse: 0.1116 - 3s/epoch - 6ms/step\n",
      "Trained model, accuracy:  0.00%, mae:  0.24%, mse:  0.11%\n"
     ]
    }
   ],
   "source": [
    "model_test = create_model()\n",
    "\n",
    "loss, acc, mae, mse = model_test.evaluate(X_test, y_test, verbose=2)\n",
    "print(\"Trained model, accuracy: {:5.2f}%, mae: {:5.2f}%, mse: {:5.2f}%\".format(100 * acc, mae, mse))"
   ]
  },
  {
   "cell_type": "code",
   "execution_count": 11,
   "metadata": {
    "ExecuteTime": {
     "end_time": "2023-09-29T16:19:12.799889254Z",
     "start_time": "2023-09-29T16:19:11.844418382Z"
    }
   },
   "outputs": [
    {
     "name": "stdout",
     "output_type": "stream",
     "text": [
      "625/625 - 2s - loss: 4.3401e-04 - accuracy: 0.0000e+00 - mae: 0.0087 - mse: 4.3401e-04 - 2s/epoch - 3ms/step\n",
      "Trained model, accuracy:  0.00%, mae:  0.01%, mse:  0.00%\n"
     ]
    }
   ],
   "source": [
    "# Restore the weights\n",
    "model_test.load_weights('./checkpoints/my_checkpoint')\n",
    "\n",
    "# Re-evaluate the model\n",
    "loss, acc, mae, mse = model_test.evaluate(X_test, y_test, verbose=2)\n",
    "print(\"Trained model, accuracy: {:5.2f}%, mae: {:5.2f}%, mse: {:5.2f}%\".format(100 * acc, mae, mse))"
   ]
  },
  {
   "cell_type": "code",
   "execution_count": 12,
   "metadata": {
    "ExecuteTime": {
     "end_time": "2023-09-29T16:19:18.492505965Z",
     "start_time": "2023-09-29T16:19:15.279654288Z"
    }
   },
   "outputs": [
    {
     "name": "stdout",
     "output_type": "stream",
     "text": [
      "Model: \"sequential\"\n",
      "_________________________________________________________________\n",
      " Layer (type)                Output Shape              Param #   \n",
      "=================================================================\n",
      " lstm (LSTM)                 (None, 4)                 176       \n",
      "                                                                 \n",
      " dense (Dense)               (None, 1)                 5         \n",
      "                                                                 \n",
      "=================================================================\n",
      "Total params: 181\n",
      "Trainable params: 181\n",
      "Non-trainable params: 0\n",
      "_________________________________________________________________\n",
      "625/625 - 4s - loss: 4.3401e-04 - accuracy: 0.0000e+00 - mae: 0.0087 - mse: 4.3401e-04 - 4s/epoch - 6ms/step\n",
      "Trained model, accuracy:  0.00%, mae:  0.01%, mse:  0.00%\n",
      "625/625 [==============================] - 3s 3ms/step\n",
      "New Model Shape (19997, 1)\n"
     ]
    }
   ],
   "source": [
    "new_model = tf.keras.models.load_model('saved_model/consumption_forecast')\n",
    "\n",
    "# Check its architecture\n",
    "new_model.summary()\n",
    "\n",
    "# Evaluate the restored model\n",
    "loss, acc, mae, mse = new_model.evaluate(X_test, y_test, verbose=2)\n",
    "print(\"Trained model, accuracy: {:5.2f}%, mae: {:5.2f}%, mse: {:5.2f}%\".format(100 * acc, mae, mse))\n",
    "\n",
    "print(\"New Model Shape\", new_model.predict(X_test).shape)"
   ]
  },
  {
   "cell_type": "code",
   "execution_count": 13,
   "metadata": {
    "ExecuteTime": {
     "end_time": "2023-09-29T16:19:22.943553795Z",
     "start_time": "2023-09-29T16:19:22.064999976Z"
    }
   },
   "outputs": [
    {
     "data": {
      "image/png": "[encoded data removed]",
      "text/plain": [
       "<Figure size 1000x600 with 1 Axes>"
      ]
     },
     "metadata": {},
     "output_type": "display_data"
    },
    {
     "data": {
      "image/png": "[encoded data removed]",
      "text/plain": [
       "<Figure size 1000x600 with 1 Axes>"
      ]
     },
     "metadata": {},
     "output_type": "display_data"
    }
   ],
   "source": [
    "import matplotlib.pyplot as plt\n",
    "\n",
    "# Plot predictions vs actual\n",
    "plt.figure(figsize=(10, 6))\n",
    "plt.plot(y_train_inv, label='Actual (Train)', color='blue')\n",
    "plt.plot(y_train_pred, label='Pred (Train)', linestyle='dashed', color='red')\n",
    "\n",
    "plt.xlabel('Time Steps')\n",
    "plt.ylabel('Consumption')\n",
    "plt.legend()\n",
    "plt.show()\n",
    "\n",
    "# Plot predictions vs actual\n",
    "plt.figure(figsize=(10, 6))\n",
    "\n",
    "plt.plot(y_test_inv, label='Actual (Test)', color='green')\n",
    "plt.plot(y_test_pred, label='Pred (Test)', linestyle='dashed', color='orange')\n",
    "\n",
    "plt.xlabel('Time Steps')\n",
    "plt.ylabel('Consumption')\n",
    "plt.legend()\n",
    "plt.show()\n"
   ]
  },
  {
   "cell_type": "code",
   "execution_count": 14,
   "metadata": {
    "ExecuteTime": {
     "end_time": "2023-09-29T16:31:30.001803522Z",
     "start_time": "2023-09-29T16:31:22.067994567Z"
    }
   },
   "outputs": [
    {
     "name": "stderr",
     "output_type": "stream",
     "text": [
      "C:\\Users\\rdpds\\AppData\\Local\\Temp\\2\\ipykernel_92672\\645768180.py:17: SettingWithCopyWarning: \n",
      "A value is trying to be set on a copy of a slice from a DataFrame.\n",
      "Try using .loc[row_indexer,col_indexer] = value instead\n",
      "\n",
      "See the caveats in the documentation: https://pandas.pydata.org/pandas-docs/stable/user_guide/indexing.html#returning-a-view-versus-a-copy\n",
      "  last_24_hours_data['totalpower'] = pd.to_numeric(last_24_hours_data['totalpower'], errors='coerce')\n",
      "C:\\Users\\rdpds\\AppData\\Local\\Temp\\2\\ipykernel_92672\\645768180.py:18: SettingWithCopyWarning: \n",
      "A value is trying to be set on a copy of a slice from a DataFrame.\n",
      "Try using .loc[row_indexer,col_indexer] = value instead\n",
      "\n",
      "See the caveats in the documentation: https://pandas.pydata.org/pandas-docs/stable/user_guide/indexing.html#returning-a-view-versus-a-copy\n",
      "  last_24_hours_data['Month'] = last_24_hours_data['datetime'].dt.month\n",
      "C:\\Users\\rdpds\\AppData\\Local\\Temp\\2\\ipykernel_92672\\645768180.py:19: SettingWithCopyWarning: \n",
      "A value is trying to be set on a copy of a slice from a DataFrame.\n",
      "Try using .loc[row_indexer,col_indexer] = value instead\n",
      "\n",
      "See the caveats in the documentation: https://pandas.pydata.org/pandas-docs/stable/user_guide/indexing.html#returning-a-view-versus-a-copy\n",
      "  last_24_hours_data['Day'] = last_24_hours_data['datetime'].dt.day\n",
      "C:\\Users\\rdpds\\AppData\\Local\\Temp\\2\\ipykernel_92672\\645768180.py:20: SettingWithCopyWarning: \n",
      "A value is trying to be set on a copy of a slice from a DataFrame.\n",
      "Try using .loc[row_indexer,col_indexer] = value instead\n",
      "\n",
      "See the caveats in the documentation: https://pandas.pydata.org/pandas-docs/stable/user_guide/indexing.html#returning-a-view-versus-a-copy\n",
      "  last_24_hours_data['Hour'] = last_24_hours_data['datetime'].dt.hour\n",
      "C:\\Users\\rdpds\\AppData\\Local\\Temp\\2\\ipykernel_92672\\645768180.py:21: SettingWithCopyWarning: \n",
      "A value is trying to be set on a copy of a slice from a DataFrame.\n",
      "Try using .loc[row_indexer,col_indexer] = value instead\n",
      "\n",
      "See the caveats in the documentation: https://pandas.pydata.org/pandas-docs/stable/user_guide/indexing.html#returning-a-view-versus-a-copy\n",
      "  last_24_hours_data['Minute'] = last_24_hours_data['datetime'].dt.minute\n",
      "C:\\Users\\rdpds\\AppData\\Local\\Temp\\2\\ipykernel_92672\\645768180.py:23: SettingWithCopyWarning: \n",
      "A value is trying to be set on a copy of a slice from a DataFrame\n",
      "\n",
      "See the caveats in the documentation: https://pandas.pydata.org/pandas-docs/stable/user_guide/indexing.html#returning-a-view-versus-a-copy\n",
      "  last_24_hours_data.rename(columns={'totalpower': 'Consumption'}, inplace=True)\n",
      "C:\\Users\\rdpds\\AppData\\Local\\Temp\\2\\ipykernel_92672\\645768180.py:24: SettingWithCopyWarning: \n",
      "A value is trying to be set on a copy of a slice from a DataFrame\n",
      "\n",
      "See the caveats in the documentation: https://pandas.pydata.org/pandas-docs/stable/user_guide/indexing.html#returning-a-view-versus-a-copy\n",
      "  last_24_hours_data.drop(['datetime', 'totalgeneration'], axis=1, inplace=True)\n"
     ]
    },
    {
     "data": {
      "text/html": [
       "<div>\n",
       "<style scoped>\n",
       "    .dataframe tbody tr th:only-of-type {\n",
       "        vertical-align: middle;\n",
       "    }\n",
       "\n",
       "    .dataframe tbody tr th {\n",
       "        vertical-align: top;\n",
       "    }\n",
       "\n",
       "    .dataframe thead th {\n",
       "        text-align: right;\n",
       "    }\n",
       "</style>\n",
       "<table border=\"1\" class=\"dataframe\">\n",
       "  <thead>\n",
       "    <tr style=\"text-align: right;\">\n",
       "      <th></th>\n",
       "      <th>Month</th>\n",
       "      <th>Day</th>\n",
       "      <th>Hour</th>\n",
       "      <th>Minute</th>\n",
       "      <th>Consumption-1</th>\n",
       "      <th>Consumption-2</th>\n",
       "      <th>Consumption</th>\n",
       "    </tr>\n",
       "  </thead>\n",
       "  <tbody>\n",
       "    <tr>\n",
       "      <th>0</th>\n",
       "      <td>10</td>\n",
       "      <td>2</td>\n",
       "      <td>11</td>\n",
       "      <td>10</td>\n",
       "      <td>0.0000</td>\n",
       "      <td>0.0000</td>\n",
       "      <td>2163.5998</td>\n",
       "    </tr>\n",
       "    <tr>\n",
       "      <th>1</th>\n",
       "      <td>10</td>\n",
       "      <td>2</td>\n",
       "      <td>11</td>\n",
       "      <td>10</td>\n",
       "      <td>2163.5998</td>\n",
       "      <td>0.0000</td>\n",
       "      <td>3384.0000</td>\n",
       "    </tr>\n",
       "    <tr>\n",
       "      <th>2</th>\n",
       "      <td>10</td>\n",
       "      <td>2</td>\n",
       "      <td>11</td>\n",
       "      <td>10</td>\n",
       "      <td>3384.0000</td>\n",
       "      <td>2163.5998</td>\n",
       "      <td>2106.6000</td>\n",
       "    </tr>\n",
       "    <tr>\n",
       "      <th>3</th>\n",
       "      <td>10</td>\n",
       "      <td>2</td>\n",
       "      <td>11</td>\n",
       "      <td>10</td>\n",
       "      <td>2106.6000</td>\n",
       "      <td>3384.0000</td>\n",
       "      <td>3428.0000</td>\n",
       "    </tr>\n",
       "    <tr>\n",
       "      <th>4</th>\n",
       "      <td>10</td>\n",
       "      <td>2</td>\n",
       "      <td>11</td>\n",
       "      <td>10</td>\n",
       "      <td>3428.0000</td>\n",
       "      <td>2106.6000</td>\n",
       "      <td>2107.8000</td>\n",
       "    </tr>\n",
       "    <tr>\n",
       "      <th>...</th>\n",
       "      <td>...</td>\n",
       "      <td>...</td>\n",
       "      <td>...</td>\n",
       "      <td>...</td>\n",
       "      <td>...</td>\n",
       "      <td>...</td>\n",
       "      <td>...</td>\n",
       "    </tr>\n",
       "    <tr>\n",
       "      <th>34598</th>\n",
       "      <td>10</td>\n",
       "      <td>1</td>\n",
       "      <td>11</td>\n",
       "      <td>10</td>\n",
       "      <td>1145.0000</td>\n",
       "      <td>1544.0000</td>\n",
       "      <td>1544.0000</td>\n",
       "    </tr>\n",
       "    <tr>\n",
       "      <th>34599</th>\n",
       "      <td>10</td>\n",
       "      <td>1</td>\n",
       "      <td>11</td>\n",
       "      <td>10</td>\n",
       "      <td>1544.0000</td>\n",
       "      <td>1145.0000</td>\n",
       "      <td>1169.0000</td>\n",
       "    </tr>\n",
       "    <tr>\n",
       "      <th>34600</th>\n",
       "      <td>10</td>\n",
       "      <td>1</td>\n",
       "      <td>11</td>\n",
       "      <td>10</td>\n",
       "      <td>1169.0000</td>\n",
       "      <td>1544.0000</td>\n",
       "      <td>1530.0000</td>\n",
       "    </tr>\n",
       "    <tr>\n",
       "      <th>34601</th>\n",
       "      <td>10</td>\n",
       "      <td>1</td>\n",
       "      <td>11</td>\n",
       "      <td>10</td>\n",
       "      <td>1530.0000</td>\n",
       "      <td>1169.0000</td>\n",
       "      <td>1167.0000</td>\n",
       "    </tr>\n",
       "    <tr>\n",
       "      <th>34602</th>\n",
       "      <td>10</td>\n",
       "      <td>1</td>\n",
       "      <td>11</td>\n",
       "      <td>10</td>\n",
       "      <td>1167.0000</td>\n",
       "      <td>1530.0000</td>\n",
       "      <td>1530.0000</td>\n",
       "    </tr>\n",
       "  </tbody>\n",
       "</table>\n",
       "<p>34603 rows × 7 columns</p>\n",
       "</div>"
      ],
      "text/plain": [
       "       Month  Day  Hour  Minute  Consumption-1  Consumption-2  Consumption\n",
       "0         10    2    11      10         0.0000         0.0000    2163.5998\n",
       "1         10    2    11      10      2163.5998         0.0000    3384.0000\n",
       "2         10    2    11      10      3384.0000      2163.5998    2106.6000\n",
       "3         10    2    11      10      2106.6000      3384.0000    3428.0000\n",
       "4         10    2    11      10      3428.0000      2106.6000    2107.8000\n",
       "...      ...  ...   ...     ...            ...            ...          ...\n",
       "34598     10    1    11      10      1145.0000      1544.0000    1544.0000\n",
       "34599     10    1    11      10      1544.0000      1145.0000    1169.0000\n",
       "34600     10    1    11      10      1169.0000      1544.0000    1530.0000\n",
       "34601     10    1    11      10      1530.0000      1169.0000    1167.0000\n",
       "34602     10    1    11      10      1167.0000      1530.0000    1530.0000\n",
       "\n",
       "[34603 rows x 7 columns]"
      ]
     },
     "execution_count": 14,
     "metadata": {},
     "output_type": "execute_result"
    }
   ],
   "source": [
    "from datetime import timedelta\n",
    "import pandas as pd\n",
    "from database.BuildingRepository import BuildingRepository\n",
    "\n",
    "building_repo = BuildingRepository()\n",
    "df_test = pd.DataFrame(building_repo.get_totalpower_col())\n",
    "df_test = df_test.drop(\"_id\", axis=1)\n",
    "\n",
    "df_test['datetime'] = pd.to_datetime(df_test['datetime'])\n",
    "# Calculate the datetime for 24 hours ago from the current time\n",
    "current_time = df_test['datetime'].max()\n",
    "twenty_four_hours_ago = current_time - timedelta(hours=24)\n",
    "\n",
    "# Filter the DataFrame to get only the rows for the last 24 hours\n",
    "last_24_hours_data = df_test[df_test['datetime'] >= twenty_four_hours_ago]\n",
    "\n",
    "last_24_hours_data['totalpower'] = pd.to_numeric(last_24_hours_data['totalpower'], errors='coerce')\n",
    "last_24_hours_data['Month'] = last_24_hours_data['datetime'].dt.month\n",
    "last_24_hours_data['Day'] = last_24_hours_data['datetime'].dt.day\n",
    "last_24_hours_data['Hour'] = last_24_hours_data['datetime'].dt.hour\n",
    "last_24_hours_data['Minute'] = last_24_hours_data['datetime'].dt.minute\n",
    "\n",
    "last_24_hours_data.rename(columns={'totalpower': 'Consumption'}, inplace=True)\n",
    "last_24_hours_data.drop(['datetime', 'totalgeneration'], axis=1, inplace=True)\n",
    "\n",
    "last_24_hours_data = last_24_hours_data.dropna()\n",
    "last_24_hours_data['Consumption-1'] = last_24_hours_data['Consumption'].shift(1)\n",
    "last_24_hours_data.loc[last_24_hours_data['Day'] != last_24_hours_data['Day'].shift(1), 'Consumption-1'] = 0\n",
    "last_24_hours_data['Consumption-2'] = last_24_hours_data['Consumption'].shift(2)\n",
    "last_24_hours_data.loc[last_24_hours_data['Day'] != last_24_hours_data['Day'].shift(2), 'Consumption-2'] = 0\n",
    "#last_24_hours_data = last_24_hours_data[['Month', 'Day', 'Hour', 'Consumption-1', 'Consumption-2', 'Consumption']]\n",
    "last_24_hours_data = last_24_hours_data[['Month', 'Day', 'Hour', 'Minute', 'Consumption-1', 'Consumption-2', 'Consumption']]\n",
    "last_24_hours_data"
   ]
  },
  {
   "cell_type": "code",
   "execution_count": 15,
   "metadata": {
    "ExecuteTime": {
     "end_time": "2023-09-29T16:31:30.384106878Z",
     "start_time": "2023-09-29T16:31:29.992028490Z"
    }
   },
   "outputs": [
    {
     "name": "stdout",
     "output_type": "stream",
     "text": [
      "Len pred 34603\n"
     ]
    }
   ],
   "source": [
    "import joblib\n",
    "\n",
    "# Load the scaler\n",
    "scaler_test = joblib.load('training_1/scaler.pkl')\n",
    "pred_scaler_test = joblib.load('training_1/pred_scaler.pkl')\n",
    "\n",
    "df_scaled = scaler_test.fit_transform(last_24_hours_data)\n",
    "\n",
    "print(\"Len pred\", int(len(df_scaled)))"
   ]
  },
  {
   "cell_type": "code",
   "execution_count": 16,
   "metadata": {
    "ExecuteTime": {
     "end_time": "2023-09-29T16:31:30.446580409Z",
     "start_time": "2023-09-29T16:31:30.388943314Z"
    }
   },
   "outputs": [
    {
     "name": "stdout",
     "output_type": "stream",
     "text": [
      "X_pred shape (34600, 1, 6) timesteps 1\n",
      "X_pred shape (34600, 1, 6) y_pred shape (34600,)\n"
     ]
    }
   ],
   "source": [
    "import numpy as np\n",
    "timesteps = 1\n",
    "\n",
    "def prepare_data(data, time_steps):\n",
    "    X, y = [], []\n",
    "    for i in range(len(data) - time_steps - 2):\n",
    "        X.append(data[i:i + time_steps, :-1])  # Exclude the last column (Consumption)\n",
    "        y.append(data[i + time_steps, -1])  # The last column (Consumption) is the target\n",
    "    return np.array(X), np.array(y)\n",
    "\n",
    "X_pred, y = prepare_data(df_scaled, timesteps)\n",
    "\n",
    "print(\"X_pred shape\", X_pred.shape, \"timesteps\", timesteps)\n",
    "\n",
    "# reshape input to be [samples, time steps, features]\n",
    "X_pred = np.reshape(X_pred, (X_pred.shape[0], timesteps, X_pred.shape[2]))\n",
    "\n",
    "print(\"X_pred shape\", X_pred.shape, \"y_pred shape\", y.shape)"
   ]
  },
  {
   "cell_type": "code",
   "execution_count": 17,
   "metadata": {},
   "outputs": [
    {
     "data": {
      "text/plain": [
       "<keras.engine.sequential.Sequential at 0x7162d6b4c0>"
      ]
     },
     "execution_count": 17,
     "metadata": {},
     "output_type": "execute_result"
    }
   ],
   "source": [
    "model"
   ]
  },
  {
   "cell_type": "code",
   "execution_count": 18,
   "metadata": {
    "ExecuteTime": {
     "end_time": "2023-09-29T16:31:45.391447700Z",
     "start_time": "2023-09-29T16:31:43.386538724Z"
    }
   },
   "outputs": [
    {
     "name": "stdout",
     "output_type": "stream",
     "text": [
      "1082/1082 [==============================] - 5s 3ms/step\n"
     ]
    }
   ],
   "source": [
    "import tensorflow as tf\n",
    "\n",
    "model = tf.keras.models.load_model('saved_model/consumption_forecast')\n",
    "y_pred = model.predict(X_pred)\n",
    "y_pred = pred_scaler_test.inverse_transform(y_pred)\n",
    "y = pred_scaler_test.inverse_transform(y.reshape(-1, 1))"
   ]
  },
  {
   "cell_type": "code",
   "execution_count": 19,
   "metadata": {
    "ExecuteTime": {
     "end_time": "2023-09-29T16:32:04.383012203Z",
     "start_time": "2023-09-29T16:32:03.474834645Z"
    }
   },
   "outputs": [
    {
     "data": {
      "image/png": "[encoded data removed]",
      "text/plain": [
       "<Figure size 1000x600 with 1 Axes>"
      ]
     },
     "metadata": {},
     "output_type": "display_data"
    }
   ],
   "source": [
    "import matplotlib.pyplot as plt\n",
    "\n",
    "# Plot predictions vs actual\n",
    "plt.figure(figsize=(10, 6))\n",
    "plt.plot(y, label='Actual', color='blue')\n",
    "plt.plot(y_pred, label='Pred', linestyle='dashed', color='red')\n",
    "\n",
    "plt.xlabel('Time Steps')\n",
    "plt.ylabel('Consumption')\n",
    "plt.legend()\n",
    "plt.show()\n"
   ]
  },
  {
   "cell_type": "code",
   "execution_count": 20,
   "metadata": {
    "ExecuteTime": {
     "end_time": "2023-09-29T16:32:07.048925090Z",
     "start_time": "2023-09-29T16:32:07.007682725Z"
    }
   },
   "outputs": [
    {
     "data": {
      "text/html": [
       "<div>\n",
       "<style scoped>\n",
       "    .dataframe tbody tr th:only-of-type {\n",
       "        vertical-align: middle;\n",
       "    }\n",
       "\n",
       "    .dataframe tbody tr th {\n",
       "        vertical-align: top;\n",
       "    }\n",
       "\n",
       "    .dataframe thead th {\n",
       "        text-align: right;\n",
       "    }\n",
       "</style>\n",
       "<table border=\"1\" class=\"dataframe\">\n",
       "  <thead>\n",
       "    <tr style=\"text-align: right;\">\n",
       "      <th></th>\n",
       "      <th>Consumption-1</th>\n",
       "      <th>Consumption-2</th>\n",
       "      <th>Consumption</th>\n",
       "      <th>Prediction</th>\n",
       "      <th>datetime</th>\n",
       "    </tr>\n",
       "    <tr>\n",
       "      <th>datetime</th>\n",
       "      <th></th>\n",
       "      <th></th>\n",
       "      <th></th>\n",
       "      <th></th>\n",
       "      <th></th>\n",
       "    </tr>\n",
       "  </thead>\n",
       "  <tbody>\n",
       "    <tr>\n",
       "      <th>2023-10-01 11:00:00</th>\n",
       "      <td>1506.543147</td>\n",
       "      <td>1506.565144</td>\n",
       "      <td>1506.553299</td>\n",
       "      <td>1805.206055</td>\n",
       "      <td>2023-10-01 11:00:00</td>\n",
       "    </tr>\n",
       "    <tr>\n",
       "      <th>2023-10-01 12:00:00</th>\n",
       "      <td>1545.008270</td>\n",
       "      <td>1544.731909</td>\n",
       "      <td>1544.544452</td>\n",
       "      <td>1847.703003</td>\n",
       "      <td>2023-10-01 12:00:00</td>\n",
       "    </tr>\n",
       "    <tr>\n",
       "      <th>2023-10-01 13:00:00</th>\n",
       "      <td>1610.409028</td>\n",
       "      <td>1610.409722</td>\n",
       "      <td>1610.228472</td>\n",
       "      <td>1926.677490</td>\n",
       "      <td>2023-10-01 13:00:00</td>\n",
       "    </tr>\n",
       "    <tr>\n",
       "      <th>2023-10-01 14:00:00</th>\n",
       "      <td>1638.111111</td>\n",
       "      <td>1638.093750</td>\n",
       "      <td>1638.104167</td>\n",
       "      <td>1957.400513</td>\n",
       "      <td>2023-10-01 14:00:00</td>\n",
       "    </tr>\n",
       "    <tr>\n",
       "      <th>2023-10-01 15:00:00</th>\n",
       "      <td>1638.277778</td>\n",
       "      <td>1638.295139</td>\n",
       "      <td>1638.277778</td>\n",
       "      <td>1953.112671</td>\n",
       "      <td>2023-10-01 15:00:00</td>\n",
       "    </tr>\n",
       "    <tr>\n",
       "      <th>2023-10-01 16:00:00</th>\n",
       "      <td>1635.516667</td>\n",
       "      <td>1635.514583</td>\n",
       "      <td>1635.509722</td>\n",
       "      <td>1945.292480</td>\n",
       "      <td>2023-10-01 16:00:00</td>\n",
       "    </tr>\n",
       "    <tr>\n",
       "      <th>2023-10-01 17:00:00</th>\n",
       "      <td>1571.798209</td>\n",
       "      <td>1571.789945</td>\n",
       "      <td>1572.002066</td>\n",
       "      <td>1860.354736</td>\n",
       "      <td>2023-10-01 17:00:00</td>\n",
       "    </tr>\n",
       "    <tr>\n",
       "      <th>2023-10-01 18:00:00</th>\n",
       "      <td>1524.529861</td>\n",
       "      <td>1524.529861</td>\n",
       "      <td>1524.539583</td>\n",
       "      <td>1796.238892</td>\n",
       "      <td>2023-10-01 18:00:00</td>\n",
       "    </tr>\n",
       "    <tr>\n",
       "      <th>2023-10-01 19:00:00</th>\n",
       "      <td>1488.686111</td>\n",
       "      <td>1488.695139</td>\n",
       "      <td>1488.422222</td>\n",
       "      <td>1748.167725</td>\n",
       "      <td>2023-10-01 19:00:00</td>\n",
       "    </tr>\n",
       "    <tr>\n",
       "      <th>2023-10-01 20:00:00</th>\n",
       "      <td>1438.595139</td>\n",
       "      <td>1438.596528</td>\n",
       "      <td>1439.053472</td>\n",
       "      <td>1681.811157</td>\n",
       "      <td>2023-10-01 20:00:00</td>\n",
       "    </tr>\n",
       "    <tr>\n",
       "      <th>2023-10-01 21:00:00</th>\n",
       "      <td>1448.196823</td>\n",
       "      <td>1449.156768</td>\n",
       "      <td>1448.446823</td>\n",
       "      <td>1688.924194</td>\n",
       "      <td>2023-10-01 21:00:00</td>\n",
       "    </tr>\n",
       "    <tr>\n",
       "      <th>2023-10-01 22:00:00</th>\n",
       "      <td>1412.775694</td>\n",
       "      <td>1412.090972</td>\n",
       "      <td>1412.760417</td>\n",
       "      <td>1640.115601</td>\n",
       "      <td>2023-10-01 22:00:00</td>\n",
       "    </tr>\n",
       "    <tr>\n",
       "      <th>2023-10-01 23:00:00</th>\n",
       "      <td>1426.984722</td>\n",
       "      <td>1425.891667</td>\n",
       "      <td>1427.804167</td>\n",
       "      <td>1652.754639</td>\n",
       "      <td>2023-10-01 23:00:00</td>\n",
       "    </tr>\n",
       "    <tr>\n",
       "      <th>2023-10-02 00:00:00</th>\n",
       "      <td>1391.682639</td>\n",
       "      <td>1391.679167</td>\n",
       "      <td>1391.673611</td>\n",
       "      <td>1907.304810</td>\n",
       "      <td>2023-10-02 00:00:00</td>\n",
       "    </tr>\n",
       "    <tr>\n",
       "      <th>2023-10-02 01:00:00</th>\n",
       "      <td>1395.856453</td>\n",
       "      <td>1395.873016</td>\n",
       "      <td>1395.873706</td>\n",
       "      <td>1913.651611</td>\n",
       "      <td>2023-10-02 01:00:00</td>\n",
       "    </tr>\n",
       "    <tr>\n",
       "      <th>2023-10-02 02:00:00</th>\n",
       "      <td>1394.170139</td>\n",
       "      <td>1394.146528</td>\n",
       "      <td>1394.145833</td>\n",
       "      <td>1911.909424</td>\n",
       "      <td>2023-10-02 02:00:00</td>\n",
       "    </tr>\n",
       "    <tr>\n",
       "      <th>2023-10-02 03:00:00</th>\n",
       "      <td>1390.650000</td>\n",
       "      <td>1390.663889</td>\n",
       "      <td>1390.674306</td>\n",
       "      <td>1908.426392</td>\n",
       "      <td>2023-10-02 03:00:00</td>\n",
       "    </tr>\n",
       "    <tr>\n",
       "      <th>2023-10-02 04:00:00</th>\n",
       "      <td>1355.973611</td>\n",
       "      <td>1355.959722</td>\n",
       "      <td>1355.966667</td>\n",
       "      <td>1861.754395</td>\n",
       "      <td>2023-10-02 04:00:00</td>\n",
       "    </tr>\n",
       "    <tr>\n",
       "      <th>2023-10-02 05:00:00</th>\n",
       "      <td>1392.989634</td>\n",
       "      <td>1393.031099</td>\n",
       "      <td>1392.987560</td>\n",
       "      <td>1912.442993</td>\n",
       "      <td>2023-10-02 05:00:00</td>\n",
       "    </tr>\n",
       "    <tr>\n",
       "      <th>2023-10-02 06:00:00</th>\n",
       "      <td>1353.646528</td>\n",
       "      <td>1353.639583</td>\n",
       "      <td>1353.648611</td>\n",
       "      <td>1859.446045</td>\n",
       "      <td>2023-10-02 06:00:00</td>\n",
       "    </tr>\n",
       "    <tr>\n",
       "      <th>2023-10-02 07:00:00</th>\n",
       "      <td>1351.252778</td>\n",
       "      <td>1351.225000</td>\n",
       "      <td>1351.251389</td>\n",
       "      <td>1856.447876</td>\n",
       "      <td>2023-10-02 07:00:00</td>\n",
       "    </tr>\n",
       "    <tr>\n",
       "      <th>2023-10-02 08:00:00</th>\n",
       "      <td>1449.320805</td>\n",
       "      <td>1449.318722</td>\n",
       "      <td>1448.981916</td>\n",
       "      <td>1990.753662</td>\n",
       "      <td>2023-10-02 08:00:00</td>\n",
       "    </tr>\n",
       "    <tr>\n",
       "      <th>2023-10-02 09:00:00</th>\n",
       "      <td>2151.512563</td>\n",
       "      <td>2151.924368</td>\n",
       "      <td>2151.195896</td>\n",
       "      <td>2953.423340</td>\n",
       "      <td>2023-10-02 09:00:00</td>\n",
       "    </tr>\n",
       "    <tr>\n",
       "      <th>2023-10-02 10:00:00</th>\n",
       "      <td>2646.894915</td>\n",
       "      <td>2646.908573</td>\n",
       "      <td>2645.782023</td>\n",
       "      <td>3592.918457</td>\n",
       "      <td>2023-10-02 10:00:00</td>\n",
       "    </tr>\n",
       "    <tr>\n",
       "      <th>2023-10-02 11:00:00</th>\n",
       "      <td>2882.710922</td>\n",
       "      <td>2874.274984</td>\n",
       "      <td>2897.156234</td>\n",
       "      <td>3848.320801</td>\n",
       "      <td>2023-10-02 11:00:00</td>\n",
       "    </tr>\n",
       "  </tbody>\n",
       "</table>\n",
       "</div>"
      ],
      "text/plain": [
       "                     Consumption-1  Consumption-2  Consumption   Prediction  \\\n",
       "datetime                                                                      \n",
       "2023-10-01 11:00:00    1506.543147    1506.565144  1506.553299  1805.206055   \n",
       "2023-10-01 12:00:00    1545.008270    1544.731909  1544.544452  1847.703003   \n",
       "2023-10-01 13:00:00    1610.409028    1610.409722  1610.228472  1926.677490   \n",
       "2023-10-01 14:00:00    1638.111111    1638.093750  1638.104167  1957.400513   \n",
       "2023-10-01 15:00:00    1638.277778    1638.295139  1638.277778  1953.112671   \n",
       "2023-10-01 16:00:00    1635.516667    1635.514583  1635.509722  1945.292480   \n",
       "2023-10-01 17:00:00    1571.798209    1571.789945  1572.002066  1860.354736   \n",
       "2023-10-01 18:00:00    1524.529861    1524.529861  1524.539583  1796.238892   \n",
       "2023-10-01 19:00:00    1488.686111    1488.695139  1488.422222  1748.167725   \n",
       "2023-10-01 20:00:00    1438.595139    1438.596528  1439.053472  1681.811157   \n",
       "2023-10-01 21:00:00    1448.196823    1449.156768  1448.446823  1688.924194   \n",
       "2023-10-01 22:00:00    1412.775694    1412.090972  1412.760417  1640.115601   \n",
       "2023-10-01 23:00:00    1426.984722    1425.891667  1427.804167  1652.754639   \n",
       "2023-10-02 00:00:00    1391.682639    1391.679167  1391.673611  1907.304810   \n",
       "2023-10-02 01:00:00    1395.856453    1395.873016  1395.873706  1913.651611   \n",
       "2023-10-02 02:00:00    1394.170139    1394.146528  1394.145833  1911.909424   \n",
       "2023-10-02 03:00:00    1390.650000    1390.663889  1390.674306  1908.426392   \n",
       "2023-10-02 04:00:00    1355.973611    1355.959722  1355.966667  1861.754395   \n",
       "2023-10-02 05:00:00    1392.989634    1393.031099  1392.987560  1912.442993   \n",
       "2023-10-02 06:00:00    1353.646528    1353.639583  1353.648611  1859.446045   \n",
       "2023-10-02 07:00:00    1351.252778    1351.225000  1351.251389  1856.447876   \n",
       "2023-10-02 08:00:00    1449.320805    1449.318722  1448.981916  1990.753662   \n",
       "2023-10-02 09:00:00    2151.512563    2151.924368  2151.195896  2953.423340   \n",
       "2023-10-02 10:00:00    2646.894915    2646.908573  2645.782023  3592.918457   \n",
       "2023-10-02 11:00:00    2882.710922    2874.274984  2897.156234  3848.320801   \n",
       "\n",
       "                               datetime  \n",
       "datetime                                 \n",
       "2023-10-01 11:00:00 2023-10-01 11:00:00  \n",
       "2023-10-01 12:00:00 2023-10-01 12:00:00  \n",
       "2023-10-01 13:00:00 2023-10-01 13:00:00  \n",
       "2023-10-01 14:00:00 2023-10-01 14:00:00  \n",
       "2023-10-01 15:00:00 2023-10-01 15:00:00  \n",
       "2023-10-01 16:00:00 2023-10-01 16:00:00  \n",
       "2023-10-01 17:00:00 2023-10-01 17:00:00  \n",
       "2023-10-01 18:00:00 2023-10-01 18:00:00  \n",
       "2023-10-01 19:00:00 2023-10-01 19:00:00  \n",
       "2023-10-01 20:00:00 2023-10-01 20:00:00  \n",
       "2023-10-01 21:00:00 2023-10-01 21:00:00  \n",
       "2023-10-01 22:00:00 2023-10-01 22:00:00  \n",
       "2023-10-01 23:00:00 2023-10-01 23:00:00  \n",
       "2023-10-02 00:00:00 2023-10-02 00:00:00  \n",
       "2023-10-02 01:00:00 2023-10-02 01:00:00  \n",
       "2023-10-02 02:00:00 2023-10-02 02:00:00  \n",
       "2023-10-02 03:00:00 2023-10-02 03:00:00  \n",
       "2023-10-02 04:00:00 2023-10-02 04:00:00  \n",
       "2023-10-02 05:00:00 2023-10-02 05:00:00  \n",
       "2023-10-02 06:00:00 2023-10-02 06:00:00  \n",
       "2023-10-02 07:00:00 2023-10-02 07:00:00  \n",
       "2023-10-02 08:00:00 2023-10-02 08:00:00  \n",
       "2023-10-02 09:00:00 2023-10-02 09:00:00  \n",
       "2023-10-02 10:00:00 2023-10-02 10:00:00  \n",
       "2023-10-02 11:00:00 2023-10-02 11:00:00  "
      ]
     },
     "execution_count": 20,
     "metadata": {},
     "output_type": "execute_result"
    }
   ],
   "source": [
    "last = scaler_test.inverse_transform(df_scaled[:-3])\n",
    "\n",
    "df = pd.DataFrame(last, columns=['Month', 'Day', 'Hour', 'Minute', 'Consumption-1', 'Consumption-2', 'Consumption'])\n",
    "df['Prediction'] = y_pred\n",
    "df['datetime'] = pd.to_datetime(df[['Month', 'Day', 'Hour', 'Minute']].assign(Year=2023))\n",
    "\n",
    "# Drop the separate columns if needed\n",
    "df.drop(['Month', 'Day', 'Hour', 'Minute'], axis=1, inplace=True)\n",
    "\n",
    "df.set_index(\"datetime\", inplace=True)\n",
    "df = df.resample('1H').mean()\n",
    "df[\"datetime\"] = df.index\n",
    "# Now, 'datetime' contains the combined datetime values\n",
    "df"
   ]
  },
  {
   "cell_type": "code",
   "execution_count": 9,
   "metadata": {
    "ExecuteTime": {
     "end_time": "2023-10-02T13:48:48.103252227Z",
     "start_time": "2023-10-02T13:48:46.695410901Z"
    },
    "collapsed": false
   },
   "outputs": [
    {
     "data": {
      "text/plain": [
       "[184.18055555555554,\n",
       " 164.34722222222223,\n",
       " 157.51388888888889,\n",
       " 113.61760660247593,\n",
       " 102.45833333333333,\n",
       " 101.61111111111111,\n",
       " 107.02777777777777,\n",
       " 104.29752066115702,\n",
       " 102.19444444444444,\n",
       " 103.29166666666667,\n",
       " 114.79166666666667,\n",
       " 199.9862258953168,\n",
       " 452.69444444444446,\n",
       " 232.47222222222223,\n",
       " 145.25352112676057,\n",
       " 209.8546511627907,\n",
       " 231.49171270718233,\n",
       " 368.3611111111111,\n",
       " 279.55555555555554,\n",
       " 219.73611111111111,\n",
       " 295.8126721763085,\n",
       " 216.40277777777777,\n",
       " 206.44444444444446,\n",
       " 220.0]"
      ]
     },
     "execution_count": 9,
     "metadata": {},
     "output_type": "execute_result"
    }
   ],
   "source": [
    "from datetime import datetime, timedelta\n",
    "import pandas as pd\n",
    "from database.BuildingRepository import BuildingRepository\n",
    "\n",
    "building_repo = BuildingRepository()\n",
    "now = datetime.now()\n",
    "start = now - timedelta(days=7, hours=now.hour, minutes=now.minute)\n",
    "consumption = building_repo.get_historic_interval(start, start + timedelta(days=1))\n",
    "consumption = pd.DataFrame(consumption)\n",
    "total = consumption.drop([\"_id\"], axis=1)\n",
    "\n",
    "total = total.dropna()\n",
    "\n",
    "total = total.values.tolist()\n",
    "total_power = []\n",
    "\n",
    "for row in total:\n",
    "    iots = row[0]\n",
    "    date = row[1]\n",
    "    consumption = 0\n",
    "    for iot in iots:\n",
    "        for value in iot['values']:\n",
    "            if 'values' in value:\n",
    "                if value['type'] == 'power':\n",
    "                    consumption += value['values']\n",
    "\n",
    "    total_power.append([date, consumption])\n",
    "    \n",
    "total = pd.DataFrame(total_power, columns=['datetime', 'consumption'])\n",
    "total['datetime'] = pd.to_datetime(total['datetime'], format='%Y-%m-%d %H:%M:%S', dayfirst=True)\n",
    "total.set_index(\"datetime\", inplace=True)\n",
    "total = total.resample('1H').mean()\n",
    "total = total.tail(24)\n",
    "total['datetime'] = total.index\n",
    "return total['consumption'].values.tolist()"
   ]
  }
 ],
 "metadata": {
  "kernelspec": {
   "display_name": "tiocps",
   "language": "python",
   "name": "python3"
  },
  "language_info": {
   "codemirror_mode": {
    "name": "ipython",
    "version": 3
   },
   "file_extension": ".py",
   "mimetype": "text/x-python",
   "name": "python",
   "nbconvert_exporter": "python",
   "pygments_lexer": "ipython3",
   "version": "3.10.13"
  },
  "orig_nbformat": 4
 },
 "nbformat": 4,
 "nbformat_minor": 2
}
